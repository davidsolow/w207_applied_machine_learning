{
 "cells": [
  {
   "cell_type": "markdown",
   "metadata": {
    "id": "MKsRDH5ZUdfasdv"
   },
   "source": [
    "# Lab 9"
   ]
  },
  {
   "cell_type": "markdown",
   "metadata": {},
   "source": [
    "### <span style=\"color:chocolate\"> Submission requirements </span>\n",
    "\n",
    "Your homework will not be graded if your notebook doesn't include output. In other words, <span style=\"color:red\"> make sure to rerun your notebook before submitting to Gradescope </span> (Note: if you are using Google Colab: go to Edit > Notebook Settings  and uncheck Omit code cell output when saving this notebook, otherwise the output is not printed).\n",
    "\n",
    "Additional points may be deducted if these requirements are not met:\n",
    "    \n",
    "* Comment your code\n",
    "* Each graph should have a title, labels for each axis, and (if needed) a legend. Each graph should be understandable on its own\n",
    "* Try and minimize the use of the global namespace (meaning, keep things inside functions)\n",
    "* Upload your .ipynb file to Gradescope when done\n",
    "---"
   ]
  },
  {
   "cell_type": "markdown",
   "metadata": {
    "id": "43534tdfgs-v"
   },
   "source": [
    "In this lab, we'll train models for sentiment classification and experiment with learned embeddings for text features."
   ]
  },
  {
   "cell_type": "code",
   "execution_count": 1,
   "metadata": {
    "id": "7X58hOMTUH-w"
   },
   "outputs": [
    {
     "name": "stderr",
     "output_type": "stream",
     "text": [
      "/tmp/ipykernel_343105/965524898.py:4: DeprecationWarning: \n",
      "Pyarrow will become a required dependency of pandas in the next major release of pandas (pandas 3.0),\n",
      "(to allow more performant data types, such as the Arrow string type, and better interoperability with other libraries)\n",
      "but was not found to be installed on your system.\n",
      "If this would cause problems for you,\n",
      "please provide us feedback at https://github.com/pandas-dev/pandas/issues/54466\n",
      "        \n",
      "  import pandas as pd\n",
      "2024-03-17 19:49:40.446980: E external/local_xla/xla/stream_executor/cuda/cuda_dnn.cc:9261] Unable to register cuDNN factory: Attempting to register factory for plugin cuDNN when one has already been registered\n",
      "2024-03-17 19:49:40.447009: E external/local_xla/xla/stream_executor/cuda/cuda_fft.cc:607] Unable to register cuFFT factory: Attempting to register factory for plugin cuFFT when one has already been registered\n",
      "2024-03-17 19:49:40.447971: E external/local_xla/xla/stream_executor/cuda/cuda_blas.cc:1515] Unable to register cuBLAS factory: Attempting to register factory for plugin cuBLAS when one has already been registered\n",
      "2024-03-17 19:49:40.452878: I tensorflow/core/platform/cpu_feature_guard.cc:182] This TensorFlow binary is optimized to use available CPU instructions in performance-critical operations.\n",
      "To enable the following instructions: AVX2 FMA, in other operations, rebuild TensorFlow with the appropriate compiler flags.\n",
      "2024-03-17 19:49:41.116533: W tensorflow/compiler/tf2tensorrt/utils/py_utils.cc:38] TF-TRT Warning: Could not find TensorRT\n"
     ]
    }
   ],
   "source": [
    "# Import the libraries we'll use below.\n",
    "import numpy as np\n",
    "from matplotlib import pyplot as plt\n",
    "import pandas as pd\n",
    "import seaborn as sns  # for nicer plots\n",
    "sns.set(style=\"darkgrid\")  # default style\n",
    "import plotly.graph_objs as plotly  # for interactive plots\n",
    "\n",
    "import tensorflow as tf\n",
    "from tensorflow.keras.datasets import imdb"
   ]
  },
  {
   "cell_type": "markdown",
   "metadata": {
    "id": "eqppUDpmdptk"
   },
   "source": [
    "## Data for Sentiment Classification\n",
    "\n",
    "In this lab, we'll train a *sentiment* classifier for movie reviews. That is, the input is the text of a movie review and the output is the probability the input was a positive review. The target labels are binary, 0 for negative and 1 for positive.\n",
    "\n",
    "Our data includes 50,000 movie reviews on IMDB. The data comes pre-segmented into train and test splits. The [data loading function](https://www.tensorflow.org/api_docs/python/tf/keras/datasets/imdb/load_data) below also splits each input text into tokens (words) and maps the words to integer values. Each input is a sequence of integers corresponding to the words."
   ]
  },
  {
   "cell_type": "code",
   "execution_count": 2,
   "metadata": {
    "colab": {
     "base_uri": "https://localhost:8080/"
    },
    "executionInfo": {
     "elapsed": 5870,
     "status": "ok",
     "timestamp": 1646684495083,
     "user": {
      "displayName": "Daniel Gillick",
      "photoUrl": "https://lh3.googleusercontent.com/a-/AOh14Gg9DrSMlwYnG9EolecuJqe8n9m7fpcje4_UbYrhQ10=s64",
      "userId": "01872965353911650729"
     },
     "user_tz": 600
    },
    "id": "s6M-asvhQWV_",
    "outputId": "1aca520b-e1b6-4006-ac44-78ff33ac6da9"
   },
   "outputs": [
    {
     "name": "stdout",
     "output_type": "stream",
     "text": [
      "X_train.shape: (25000,)\n",
      "Y_train.shape: (25000,)\n",
      "X_test.shape: (25000,)\n",
      "Y_test.shape: (25000,)\n",
      "First training example data: [1, 14, 22, 16, 43, 530, 973, 1622, 1385, 65, 458, 4468, 66, 3941, 4, 173, 36, 256, 5, 25, 100, 43, 838, 112, 50, 670, 22665, 9, 35, 480, 284, 5, 150, 4, 172, 112, 167, 21631, 336, 385, 39, 4, 172, 4536, 1111, 17, 546, 38, 13, 447, 4, 192, 50, 16, 6, 147, 2025, 19, 14, 22, 4, 1920, 4613, 469, 4, 22, 71, 87, 12, 16, 43, 530, 38, 76, 15, 13, 1247, 4, 22, 17, 515, 17, 12, 16, 626, 18, 19193, 5, 62, 386, 12, 8, 316, 8, 106, 5, 4, 2223, 5244, 16, 480, 66, 3785, 33, 4, 130, 12, 16, 38, 619, 5, 25, 124, 51, 36, 135, 48, 25, 1415, 33, 6, 22, 12, 215, 28, 77, 52, 5, 14, 407, 16, 82, 10311, 8, 4, 107, 117, 5952, 15, 256, 4, 31050, 7, 3766, 5, 723, 36, 71, 43, 530, 476, 26, 400, 317, 46, 7, 4, 12118, 1029, 13, 104, 88, 4, 381, 15, 297, 98, 32, 2071, 56, 26, 141, 6, 194, 7486, 18, 4, 226, 22, 21, 134, 476, 26, 480, 5, 144, 30, 5535, 18, 51, 36, 28, 224, 92, 25, 104, 4, 226, 65, 16, 38, 1334, 88, 12, 16, 283, 5, 16, 4472, 113, 103, 32, 15, 16, 5345, 19, 178, 32]\n",
      "First training example label: 1\n"
     ]
    }
   ],
   "source": [
    "(X_train, Y_train), (X_test, Y_test) = imdb.load_data(path=\"imdb.npz\",\n",
    "                                                      num_words=None,\n",
    "                                                      skip_top=0,\n",
    "                                                      maxlen=None,\n",
    "                                                      seed=113,\n",
    "                                                      start_char=1,\n",
    "                                                      oov_char=2,\n",
    "                                                      index_from=3)\n",
    "\n",
    "print(\"X_train.shape:\", X_train.shape)\n",
    "print(\"Y_train.shape:\", Y_train.shape)\n",
    "print(\"X_test.shape:\", X_test.shape)\n",
    "print(\"Y_test.shape:\", Y_test.shape)\n",
    "\n",
    "print('First training example data:', X_train[0])\n",
    "print('First training example label:', Y_train[0])"
   ]
  },
  {
   "cell_type": "markdown",
   "metadata": {
    "id": "MyIWiy-4gQK-"
   },
   "source": [
    "So our first training example is a positive review. But that sequence of integer IDs is hard to read. The data loader provides a dictionary mapping words to IDs. Let's create a reverse index.\n"
   ]
  },
  {
   "cell_type": "code",
   "execution_count": 3,
   "metadata": {
    "colab": {
     "base_uri": "https://localhost:8080/"
    },
    "executionInfo": {
     "elapsed": 801,
     "status": "ok",
     "timestamp": 1646684508506,
     "user": {
      "displayName": "Daniel Gillick",
      "photoUrl": "https://lh3.googleusercontent.com/a-/AOh14Gg9DrSMlwYnG9EolecuJqe8n9m7fpcje4_UbYrhQ10=s64",
      "userId": "01872965353911650729"
     },
     "user_tz": 600
    },
    "id": "HQ-qATkhUj7c",
    "outputId": "eea86a69-fe6a-4cdb-ac8c-9307a5118e47"
   },
   "outputs": [
    {
     "name": "stdout",
     "output_type": "stream",
     "text": [
      "Largest ID: 88587\n"
     ]
    }
   ],
   "source": [
    "# The imdb dataset comes with an index mapping words to integers.\n",
    "# In the index the words are ordered by frequency they occur.\n",
    "index = imdb.get_word_index()\n",
    "\n",
    "# Because we used index_from=3 (above), setting aside ids below 3 for special\n",
    "# symbols, we need to add 3 to the index values.\n",
    "index = dict([(key, value+3) for (key, value) in index.items()])\n",
    "\n",
    "# Create a reverse index so we can lookup tokens assigned to each id.\n",
    "reverse_index = dict([(value, key) for (key, value) in index.items()])\n",
    "reverse_index[1] = '<START>'  # start of input\n",
    "reverse_index[2] = '#'        # out-of-vocabulary (OOV)\n",
    "reverse_index[3] = '<UNUSED>'\n",
    "\n",
    "max_id = max(reverse_index.keys())\n",
    "print('Largest ID:', max_id)"
   ]
  },
  {
   "cell_type": "markdown",
   "metadata": {
    "id": "h76-b07ehWNQ"
   },
   "source": [
    "Note that our index (and reverse index) have over 88,000 tokens. That's quite a large vocabulary! Let's also write a decoding function for our data."
   ]
  },
  {
   "cell_type": "code",
   "execution_count": 4,
   "metadata": {
    "colab": {
     "base_uri": "https://localhost:8080/"
    },
    "executionInfo": {
     "elapsed": 358,
     "status": "ok",
     "timestamp": 1646684531998,
     "user": {
      "displayName": "Daniel Gillick",
      "photoUrl": "https://lh3.googleusercontent.com/a-/AOh14Gg9DrSMlwYnG9EolecuJqe8n9m7fpcje4_UbYrhQ10=s64",
      "userId": "01872965353911650729"
     },
     "user_tz": 600
    },
    "id": "UjobmouHS5Dm",
    "outputId": "29975a48-7fda-4600-bd0c-693c35dd8a54"
   },
   "outputs": [
    {
     "name": "stdout",
     "output_type": "stream",
     "text": [
      "[1, 14, 22, 16, 43, 530, 973, 1622, 1385, 65, 458, 4468, 66, 3941, 4, 173, 36, 256, 5, 25, 100, 43, 838, 112, 50, 670, 22665, 9, 35, 480, 284, 5, 150, 4, 172, 112, 167, 21631, 336, 385, 39, 4, 172, 4536, 1111, 17, 546, 38, 13, 447, 4, 192, 50, 16, 6, 147, 2025, 19, 14, 22, 4, 1920, 4613, 469, 4, 22, 71, 87, 12, 16, 43, 530, 38, 76, 15, 13, 1247, 4, 22, 17, 515, 17, 12, 16, 626, 18, 19193, 5, 62, 386, 12, 8, 316, 8, 106, 5, 4, 2223, 5244, 16, 480, 66, 3785, 33, 4, 130, 12, 16, 38, 619, 5, 25, 124, 51, 36, 135, 48, 25, 1415, 33, 6, 22, 12, 215, 28, 77, 52, 5, 14, 407, 16, 82, 10311, 8, 4, 107, 117, 5952, 15, 256, 4, 31050, 7, 3766, 5, 723, 36, 71, 43, 530, 476, 26, 400, 317, 46, 7, 4, 12118, 1029, 13, 104, 88, 4, 381, 15, 297, 98, 32, 2071, 56, 26, 141, 6, 194, 7486, 18, 4, 226, 22, 21, 134, 476, 26, 480, 5, 144, 30, 5535, 18, 51, 36, 28, 224, 92, 25, 104, 4, 226, 65, 16, 38, 1334, 88, 12, 16, 283, 5, 16, 4472, 113, 103, 32, 15, 16, 5345, 19, 178, 32]\n",
      "<START> this film was just brilliant casting location scenery story direction everyone's really suited the part they played and you could just imagine being there robert redford's is an amazing actor and now the same being director norman's father came from the same scottish island as myself so i loved the fact there was a real connection with this film the witty remarks throughout the film were great it was just brilliant so much that i bought the film as soon as it was released for retail and would recommend it to everyone to watch and the fly fishing was amazing really cried at the end it was so sad and you know what they say if you cry at a film it must have been good and this definitely was also congratulations to the two little boy's that played the part's of norman and paul they were just brilliant children are often left out of the praising list i think because the stars that play them all grown up are such a big profile for the whole film but these children are amazing and should be praised for what they have done don't you think the whole story was so lovely because it was true and was someone's life after all that was shared with us all\n"
     ]
    }
   ],
   "source": [
    "def decode(token_ids):\n",
    "  \"\"\"Return a string with the decoded text given a list of token ids.\"\"\"\n",
    "  # Try looking up each id in the index, but return '#' (for OOV) if not found.\n",
    "  tokens = [reverse_index.get(i, \"#\") for i in token_ids]\n",
    "\n",
    "  # Connect the string tokens with a space.\n",
    "  return ' '.join(tokens)\n",
    "\n",
    "# Show the ids corresponding tokens in the first example.\n",
    "print(X_train[0])\n",
    "print(decode(X_train[0]))"
   ]
  },
  {
   "cell_type": "markdown",
   "metadata": {
    "id": "g47w5CackGBA"
   },
   "source": [
    "### Text Lengths\n",
    "As usual, let's start with some data analysis. How long are the reviews? Is there a difference in length between positive and negative reviews? A histogram will help answer these questions."
   ]
  },
  {
   "cell_type": "code",
   "execution_count": 5,
   "metadata": {
    "colab": {
     "base_uri": "https://localhost:8080/",
     "height": 305
    },
    "executionInfo": {
     "elapsed": 762,
     "status": "ok",
     "timestamp": 1646684547021,
     "user": {
      "displayName": "Daniel Gillick",
      "photoUrl": "https://lh3.googleusercontent.com/a-/AOh14Gg9DrSMlwYnG9EolecuJqe8n9m7fpcje4_UbYrhQ10=s64",
      "userId": "01872965353911650729"
     },
     "user_tz": 600
    },
    "id": "kEOgzo8Gk3r7",
    "outputId": "e7446ffd-10c5-4c64-a5bc-7cab81a1d73f"
   },
   "outputs": [
    {
     "data": {
      "image/png": "[encoded data removed]",
      "text/plain": [
       "<Figure size 640x480 with 1 Axes>"
      ]
     },
     "metadata": {},
     "output_type": "display_data"
    },
    {
     "name": "stdout",
     "output_type": "stream",
     "text": [
      "Longest positive review: 2494\n",
      "Longest negative review: 1571\n"
     ]
    }
   ],
   "source": [
    "# Create a list of lengths for training examples with a positive label.\n",
    "text_lengths_pos = [len(x) for (i, x) in enumerate(X_train) if Y_train[i]]\n",
    "\n",
    "# And a list of lengths for training examples with a negative label.\n",
    "text_lengths_neg = [len(x) for (i, x) in enumerate(X_train) if not Y_train[i]]\n",
    "\n",
    "# The histogram function can take a list of inputs and corresponding labels.\n",
    "plt.hist([text_lengths_pos, text_lengths_neg], bins=20, range=(0, 1000),\n",
    "         label=['positive', 'negative'])\n",
    "plt.legend()\n",
    "plt.show()\n",
    "\n",
    "# Also check the longest reviews.\n",
    "print('Longest positive review:', max(text_lengths_pos))\n",
    "print('Longest negative review:', max(text_lengths_neg))"
   ]
  },
  {
   "cell_type": "markdown",
   "metadata": {
    "id": "c3ZE9gpkml3a"
   },
   "source": [
    "---\n",
    "### Exercise 1: Token Counts (20 points)\n",
    "For each of the given tokens, construct a table with the number of positive training examples that include that token and the number of negative training examples that include that token. For reference, here are the counts for the first two tokens:\n",
    "\n",
    "|Token|Pos Count|Neg Count|\n",
    "|-|-|-|\n",
    "|good|4767|4849|\n",
    "|bad|1491|4396|"
   ]
  },
  {
   "cell_type": "code",
   "execution_count": 6,
   "metadata": {
    "id": "8YOYo6d01aWI"
   },
   "outputs": [
    {
     "data": {
      "text/html": [
       "<div>\n",
       "<style scoped>\n",
       "    .dataframe tbody tr th:only-of-type {\n",
       "        vertical-align: middle;\n",
       "    }\n",
       "\n",
       "    .dataframe tbody tr th {\n",
       "        vertical-align: top;\n",
       "    }\n",
       "\n",
       "    .dataframe thead th {\n",
       "        text-align: right;\n",
       "    }\n",
       "</style>\n",
       "<table border=\"1\" class=\"dataframe\">\n",
       "  <thead>\n",
       "    <tr style=\"text-align: right;\">\n",
       "      <th></th>\n",
       "      <th>Token</th>\n",
       "      <th>Pos Count</th>\n",
       "      <th>Neg Count</th>\n",
       "    </tr>\n",
       "  </thead>\n",
       "  <tbody>\n",
       "    <tr>\n",
       "      <th>0</th>\n",
       "      <td>good</td>\n",
       "      <td>4767</td>\n",
       "      <td>4849</td>\n",
       "    </tr>\n",
       "    <tr>\n",
       "      <th>1</th>\n",
       "      <td>bad</td>\n",
       "      <td>1491</td>\n",
       "      <td>4396</td>\n",
       "    </tr>\n",
       "    <tr>\n",
       "      <th>2</th>\n",
       "      <td>amazing</td>\n",
       "      <td>868</td>\n",
       "      <td>240</td>\n",
       "    </tr>\n",
       "    <tr>\n",
       "      <th>3</th>\n",
       "      <td>boring</td>\n",
       "      <td>301</td>\n",
       "      <td>1205</td>\n",
       "    </tr>\n",
       "    <tr>\n",
       "      <th>4</th>\n",
       "      <td>laugh</td>\n",
       "      <td>525</td>\n",
       "      <td>685</td>\n",
       "    </tr>\n",
       "    <tr>\n",
       "      <th>5</th>\n",
       "      <td>cry</td>\n",
       "      <td>231</td>\n",
       "      <td>114</td>\n",
       "    </tr>\n",
       "  </tbody>\n",
       "</table>\n",
       "</div>"
      ],
      "text/plain": [
       "     Token Pos Count Neg Count\n",
       "0     good      4767      4849\n",
       "1      bad      1491      4396\n",
       "2  amazing       868       240\n",
       "3   boring       301      1205\n",
       "4    laugh       525       685\n",
       "5      cry       231       114"
      ]
     },
     "execution_count": 6,
     "metadata": {},
     "output_type": "execute_result"
    }
   ],
   "source": [
    "tokens = ['good', 'bad', 'amazing', 'boring', 'laugh', 'cry']\n",
    "# YOUR CODE HERE\n",
    "XY_train = pd.DataFrame({\"X\": X_train, \"Token\": Y_train})\n",
    "XY_train[\"X\"] = XY_train[\"X\"].apply(lambda list: [reverse_index[item] for item in list])\n",
    "XY_train[\"Token\"] = XY_train[\"Token\"].map({1:\"Pos Count\", 0: \"Neg Count\"})\n",
    "table = pd.DataFrame(columns=[\"Token\", \"Pos Count\", \"Neg Count\"])\n",
    "for token in tokens:\n",
    "    mask = XY_train['X'].apply(lambda x: token in x) \n",
    "    counts = XY_train.loc[mask, 'Token'].value_counts()   \n",
    "    row = pd.DataFrame([{\n",
    "        \"Token\": token,\n",
    "        \"Pos Count\": counts.get(\"Pos Count\", 0),\n",
    "        \"Neg Count\": counts.get(\"Neg Count\", 0)\n",
    "    }])\n",
    "    table = pd.concat([table,row], ignore_index=True)\n",
    "\n",
    "table"
   ]
  },
  {
   "cell_type": "markdown",
   "metadata": {},
   "source": [
    "---"
   ]
  },
  {
   "cell_type": "markdown",
   "metadata": {
    "id": "hhzt-LnQ1m8w"
   },
   "source": [
    "## Feature Representation\n",
    "Consider the difference between the pixel features we used for image classification and the text features we are now dealing with.\n",
    "\n",
    "An image had 784 pixel positions. At each position, there is a single value in [0,1] (after normalization).\n",
    "\n",
    "In contrast, a review has a variable number of ordered tokens (up to 2494 in the training examples). Each token occurs in a particular position. We can think of the token positions much like the 784 pixel positions, except that some of the trailing positions are empty, since review lengths vary.  At each token position, there is a single token, one of the 88587 entries in the vocabulary. So we can think of a review as a (2500, 90000) matrix: At each of ~2500 token positions, we have 1 of ~90000 token ids.\n",
    "\n",
    "This representation would have 2500 * 90000 = 225 million features -- quite a lot more complexity than the images, though as you'll see below, we will make some simplifying assumptions, reducing both the number of token positions and the number of vocabulary items."
   ]
  },
  {
   "cell_type": "markdown",
   "metadata": {
    "id": "Jm_F5JmWyfko"
   },
   "source": [
    "### Padding and Reduced Length\n",
    "As is clear from the length histogram, the current representation of the review text is a variable-length array. Since fixed-length arrays are easier to work with in Tensorflow, let's add special padding tokens at the end of each review until they are all the same length.\n",
    "\n",
    "We'll also use this operation to limit the number of token positions by truncating all reviews to a specified length. In the code below, as an example, we pad all training inputs to length 300."
   ]
  },
  {
   "cell_type": "code",
   "execution_count": 7,
   "metadata": {
    "colab": {
     "base_uri": "https://localhost:8080/"
    },
    "executionInfo": {
     "elapsed": 766,
     "status": "ok",
     "timestamp": 1646684609342,
     "user": {
      "displayName": "Daniel Gillick",
      "photoUrl": "https://lh3.googleusercontent.com/a-/AOh14Gg9DrSMlwYnG9EolecuJqe8n9m7fpcje4_UbYrhQ10=s64",
      "userId": "01872965353911650729"
     },
     "user_tz": 600
    },
    "id": "a4ou8bSUCWOx",
    "outputId": "be4bc9e1-47aa-4f82-e23b-569f8d6128a4"
   },
   "outputs": [
    {
     "name": "stdout",
     "output_type": "stream",
     "text": [
      "Length of X_train[0]: 218\n",
      "Length of X_train_padded[0]: 300\n",
      "[    1    14    22    16    43   530   973  1622  1385    65   458  4468\n",
      "    66  3941     4   173    36   256     5    25   100    43   838   112\n",
      "    50   670 22665     9    35   480   284     5   150     4   172   112\n",
      "   167 21631   336   385    39     4   172  4536  1111    17   546    38\n",
      "    13   447     4   192    50    16     6   147  2025    19    14    22\n",
      "     4  1920  4613   469     4    22    71    87    12    16    43   530\n",
      "    38    76    15    13  1247     4    22    17   515    17    12    16\n",
      "   626    18 19193     5    62   386    12     8   316     8   106     5\n",
      "     4  2223  5244    16   480    66  3785    33     4   130    12    16\n",
      "    38   619     5    25   124    51    36   135    48    25  1415    33\n",
      "     6    22    12   215    28    77    52     5    14   407    16    82\n",
      " 10311     8     4   107   117  5952    15   256     4 31050     7  3766\n",
      "     5   723    36    71    43   530   476    26   400   317    46     7\n",
      "     4 12118  1029    13   104    88     4   381    15   297    98    32\n",
      "  2071    56    26   141     6   194  7486    18     4   226    22    21\n",
      "   134   476    26   480     5   144    30  5535    18    51    36    28\n",
      "   224    92    25   104     4   226    65    16    38  1334    88    12\n",
      "    16   283     5    16  4472   113   103    32    15    16  5345    19\n",
      "   178    32     0     0     0     0     0     0     0     0     0     0\n",
      "     0     0     0     0     0     0     0     0     0     0     0     0\n",
      "     0     0     0     0     0     0     0     0     0     0     0     0\n",
      "     0     0     0     0     0     0     0     0     0     0     0     0\n",
      "     0     0     0     0     0     0     0     0     0     0     0     0\n",
      "     0     0     0     0     0     0     0     0     0     0     0     0\n",
      "     0     0     0     0     0     0     0     0     0     0     0     0]\n"
     ]
    }
   ],
   "source": [
    "def pad_data(sequences, max_length):\n",
    "  # Keras has a convenient utility for padding a sequence.\n",
    "  # Also make sure we get a numpy array rather than an array of lists.\n",
    "  return np.array(list(\n",
    "      tf.keras.preprocessing.sequence.pad_sequences(\n",
    "          sequences, maxlen=max_length, padding='post', value=0)))\n",
    "\n",
    "# Pad and truncate to 300 tokens.\n",
    "X_train_padded = pad_data(X_train, max_length=300)\n",
    "\n",
    "# Check the padded output.\n",
    "print('Length of X_train[0]:', len(X_train[0]))\n",
    "print('Length of X_train_padded[0]:', len(X_train_padded[0]))\n",
    "print(X_train_padded[0])"
   ]
  },
  {
   "cell_type": "markdown",
   "metadata": {
    "id": "lFEmcwBjL4e_"
   },
   "source": [
    "### Reduced Vocabulary\n",
    "We also want to be able to limit the vocabulary size. Since our padding function produces fixed-length sequences in a numpy matrix, we can use clever numpy indexing to efficiently replace all token ids larger than some value with the designated out-of-vocabulary (OOV) id.\n",
    "\n",
    "In the code below, as an example, we'll keep just token ids less than 1000, replacing all others with OOV."
   ]
  },
  {
   "cell_type": "code",
   "execution_count": 8,
   "metadata": {
    "colab": {
     "base_uri": "https://localhost:8080/"
    },
    "executionInfo": {
     "elapsed": 347,
     "status": "ok",
     "timestamp": 1646684634116,
     "user": {
      "displayName": "Daniel Gillick",
      "photoUrl": "https://lh3.googleusercontent.com/a-/AOh14Gg9DrSMlwYnG9EolecuJqe8n9m7fpcje4_UbYrhQ10=s64",
      "userId": "01872965353911650729"
     },
     "user_tz": 600
    },
    "id": "21qpyEgGNQeB",
    "outputId": "148ce890-4376-4c5a-f96a-9fb50cbe9538"
   },
   "outputs": [
    {
     "name": "stdout",
     "output_type": "stream",
     "text": [
      "[  1  14  22  16  43 530 973   2   2  65 458   2  66   2   4 173  36 256\n",
      "   5  25 100  43 838 112  50 670   2   9  35 480 284   5 150   4 172 112\n",
      " 167   2 336 385  39   4 172   2   2  17 546  38  13 447   4 192  50  16\n",
      "   6 147   2  19  14  22   4   2   2 469   4  22  71  87  12  16  43 530\n",
      "  38  76  15  13   2   4  22  17 515  17  12  16 626  18   2   5  62 386\n",
      "  12   8 316   8 106   5   4   2   2  16 480  66   2  33   4 130  12  16\n",
      "  38 619   5  25 124  51  36 135  48  25   2  33   6  22  12 215  28  77\n",
      "  52   5  14 407  16  82   2   8   4 107 117   2  15 256   4   2   7   2\n",
      "   5 723  36  71  43 530 476  26 400 317  46   7   4   2   2  13 104  88\n",
      "   4 381  15 297  98  32   2  56  26 141   6 194   2  18   4 226  22  21\n",
      " 134 476  26 480   5 144  30   2  18  51  36  28 224  92  25 104   4 226\n",
      "  65  16  38   2  88  12  16 283   5  16   2 113 103  32  15  16   2  19\n",
      " 178  32   0   0   0   0   0   0   0   0   0   0   0   0   0   0   0   0\n",
      "   0   0   0   0   0   0   0   0   0   0   0   0   0   0   0   0   0   0\n",
      "   0   0   0   0   0   0   0   0   0   0   0   0   0   0   0   0   0   0\n",
      "   0   0   0   0   0   0   0   0   0   0   0   0   0   0   0   0   0   0\n",
      "   0   0   0   0   0   0   0   0   0   0   0   0]\n",
      "<START> this film was just brilliant casting # # story direction # really # the part they played and you could just imagine being there robert # is an amazing actor and now the same being director # father came from the same # # as myself so i loved the fact there was a real # with this film the # # throughout the film were great it was just brilliant so much that i # the film as soon as it was released for # and would recommend it to everyone to watch and the # # was amazing really # at the end it was so sad and you know what they say if you # at a film it must have been good and this definitely was also # to the two little # that played the # of # and paul they were just brilliant children are often left out of the # # i think because the stars that play them all # up are such a big # for the whole film but these children are amazing and should be # for what they have done don't you think the whole story was so # because it was true and was # life after all that was # with us all # # # # # # # # # # # # # # # # # # # # # # # # # # # # # # # # # # # # # # # # # # # # # # # # # # # # # # # # # # # # # # # # # # # # # # # # # # # # # # # # # #\n"
     ]
    }
   ],
   "source": [
    "def limit_vocab(sequences, max_token_id, oov_id=2):\n",
    "  \"\"\"Replace token ids greater than or equal to max_token_id with the oov_id.\"\"\"\n",
    "  reduced_sequences = np.copy(sequences)\n",
    "  reduced_sequences[reduced_sequences >= max_token_id] = oov_id\n",
    "  return reduced_sequences\n",
    "\n",
    "# Reduce vocabulary to 1000 tokens.\n",
    "X_train_reduced = limit_vocab(X_train_padded, max_token_id=1000)\n",
    "print(X_train_reduced[0])\n",
    "\n",
    "# Decode to see what this looks like in tokens. Note the '#' for OOVs.\n",
    "print(decode(X_train_reduced[0]))"
   ]
  },
  {
   "cell_type": "markdown",
   "metadata": {
    "id": "d24mOPC6ybC4"
   },
   "source": [
    "### One-hot Encoding\n",
    "Our current feature representations are **sparse**. That is, we only keep track of the token ids that are present in the input. A **one-hot** encoding replaces a value like 22 (corresponding to 'film') with an array with a single 1 at position 22 and zeros everywhere else. This will be very memory-inefficient, but we'll do it anyway for clarity.\n",
    "\n",
    "As discussed above, let's dramatically reduce both the number of token positions (review length) and the number of token ids (vocabulary). We'll clip each review after 20 tokens (so 2500 -> 20) and keep only the most common 1000 tokens (so 90000 -> 1000)."
   ]
  },
  {
   "cell_type": "code",
   "execution_count": 9,
   "metadata": {
    "colab": {
     "base_uri": "https://localhost:8080/"
    },
    "executionInfo": {
     "elapsed": 1777,
     "status": "ok",
     "timestamp": 1646684668163,
     "user": {
      "displayName": "Daniel Gillick",
      "photoUrl": "https://lh3.googleusercontent.com/a-/AOh14Gg9DrSMlwYnG9EolecuJqe8n9m7fpcje4_UbYrhQ10=s64",
      "userId": "01872965353911650729"
     },
     "user_tz": 600
    },
    "id": "EXzkqVL3Jufj",
    "outputId": "69a06ea3-61e2-4d2b-ed57-69c51ee2c5f4"
   },
   "outputs": [
    {
     "name": "stdout",
     "output_type": "stream",
     "text": [
      "X_train_one_hot shape: (25000, 20, 1000)\n"
     ]
    }
   ],
   "source": [
    "# Keras has a util to create one-hot encodings.\n",
    "X_train_padded = pad_data(X_train, max_length=20)\n",
    "X_train_reduced = limit_vocab(X_train_padded, max_token_id=1000)\n",
    "X_train_one_hot = tf.keras.utils.to_categorical(X_train_reduced)\n",
    "print('X_train_one_hot shape:', X_train_one_hot.shape)"
   ]
  },
  {
   "cell_type": "markdown",
   "metadata": {
    "id": "B5RvIN4w66Ej"
   },
   "source": [
    "Note the shape of the one-hot encoded features. For each of our 25000 training examples, we have a 20 x 1000 matrix. That is, for each of 20 token positions, we have a vector of 1000 elements containing a single 1 and 999 zeros.\n",
    "\n",
    "We can think of these 1000-dimensional one-hot arrays as **embeddings**. Each token in the input has a 1000-dimensional representation. But because of the one-hot setup, the distance between each pair of tokens is the same ([1,0,0,...], [0,1,0,...], etc.). By contrast, learned embeddings result in meaningful distances between pairs of tokens. We'll get to that soon."
   ]
  },
  {
   "cell_type": "markdown",
   "metadata": {
    "id": "296Cnt647b5c"
   },
   "source": [
    "## Logistic Regression with One-Hot Encodings\n",
    "Let's start with something familiar -- logistic regression. Since our feature representation is in 2 dimensions (20 x 1000), we need to flatten it to pass it to Keras (remember we did this with the pixel data too). Let's try two strategies for flattening.\n",
    "\n",
    "1. Flatten by *concatenating* (as we did with pixels), turning (20 x 1000) data into (20000,) data. The result is a separate feature for each token at each position.\n",
    "2. Flatten by *averaging* over token positions, turning (20 x 1000) data into (1000,) data. The result is an array with average token counts, ignoring position.\n",
    "\n",
    "NOTE: Our prior assignments have used the standard Stochastic Gradient Descent (SGD) optimizer to compute the gradient from an estimate of the loss (based on the current mini-batch). There are many alternative optimizers. Here we'll use the **Adam** optimizer, which sometimes gives better results. One key characteristic of Adam is that it effectively uses a different learning rate for each parameter rather than a fixed learning rate as in SGD."
   ]
  },
  {
   "cell_type": "code",
   "execution_count": 10,
   "metadata": {
    "id": "6m6eebM-0dUW"
   },
   "outputs": [],
   "source": [
    "def build_onehot_model(average_over_positions=False):\n",
    "  \"\"\"Build a tf.keras model for one-hot data.\"\"\"\n",
    "  # Clear session and remove randomness.\n",
    "  tf.keras.backend.clear_session()\n",
    "  tf.random.set_seed(0)\n",
    "\n",
    "  model = tf.keras.Sequential()\n",
    "  if average_over_positions:\n",
    "    # This layer averages over the first dimension of the input by default.\n",
    "    model.add(tf.keras.layers.GlobalAveragePooling1D())\n",
    "  else:\n",
    "    # Concatenate.\n",
    "    model.add(tf.keras.layers.Flatten())\n",
    "  model.add(tf.keras.layers.Dense(\n",
    "      units=1,                     # output dim (for binary classification)\n",
    "      activation=\"sigmoid\"         # sigmoid activation for classification\n",
    "  ))\n",
    "\n",
    "  model.compile(loss='binary_crossentropy',   # this is a classification task\n",
    "                optimizer='adam',             # fancy optimizer\n",
    "                metrics=['accuracy'])\n",
    "\n",
    "  return model"
   ]
  },
  {
   "cell_type": "markdown",
   "metadata": {
    "id": "NY3W_1-OSZ2X"
   },
   "source": [
    "Now let's try fitting the model to our training data and check performance metrics on the validation (held-out) data. But first, here's a function for plotting the learning curves given the training history object we get from Keras."
   ]
  },
  {
   "cell_type": "code",
   "execution_count": 11,
   "metadata": {
    "id": "cOVmajSuMjN6"
   },
   "outputs": [],
   "source": [
    "def plot_history(history):\n",
    "  plt.ylabel('Loss')\n",
    "  plt.xlabel('Epoch')\n",
    "  plt.xticks(range(0, len(history['loss'] + 1)))\n",
    "  plt.plot(history['loss'], label=\"training\", marker='o')\n",
    "  plt.plot(history['val_loss'], label=\"validation\", marker='o')\n",
    "  plt.legend()\n",
    "  plt.show()"
   ]
  },
  {
   "cell_type": "code",
   "execution_count": 12,
   "metadata": {
    "colab": {
     "base_uri": "https://localhost:8080/",
     "height": 478
    },
    "executionInfo": {
     "elapsed": 22140,
     "status": "ok",
     "timestamp": 1646684718388,
     "user": {
      "displayName": "Daniel Gillick",
      "photoUrl": "https://lh3.googleusercontent.com/a-/AOh14Gg9DrSMlwYnG9EolecuJqe8n9m7fpcje4_UbYrhQ10=s64",
      "userId": "01872965353911650729"
     },
     "user_tz": 600
    },
    "id": "MyE4PgX70_op",
    "outputId": "3de05dfa-f372-4b77-ba43-f212c2f47c1e"
   },
   "outputs": [
    {
     "name": "stderr",
     "output_type": "stream",
     "text": [
      "2024-03-17 19:49:45.451608: I external/local_xla/xla/stream_executor/cuda/cuda_executor.cc:901] successful NUMA node read from SysFS had negative value (-1), but there must be at least one NUMA node, so returning NUMA node zero. See more at https://github.com/torvalds/linux/blob/v6.0/Documentation/ABI/testing/sysfs-bus-pci#L344-L355\n",
      "2024-03-17 19:49:45.481376: I external/local_xla/xla/stream_executor/cuda/cuda_executor.cc:901] successful NUMA node read from SysFS had negative value (-1), but there must be at least one NUMA node, so returning NUMA node zero. See more at https://github.com/torvalds/linux/blob/v6.0/Documentation/ABI/testing/sysfs-bus-pci#L344-L355\n",
      "2024-03-17 19:49:45.481600: I external/local_xla/xla/stream_executor/cuda/cuda_executor.cc:901] successful NUMA node read from SysFS had negative value (-1), but there must be at least one NUMA node, so returning NUMA node zero. See more at https://github.com/torvalds/linux/blob/v6.0/Documentation/ABI/testing/sysfs-bus-pci#L344-L355\n",
      "2024-03-17 19:49:45.482689: I external/local_xla/xla/stream_executor/cuda/cuda_executor.cc:901] successful NUMA node read from SysFS had negative value (-1), but there must be at least one NUMA node, so returning NUMA node zero. See more at https://github.com/torvalds/linux/blob/v6.0/Documentation/ABI/testing/sysfs-bus-pci#L344-L355\n",
      "2024-03-17 19:49:45.482863: I external/local_xla/xla/stream_executor/cuda/cuda_executor.cc:901] successful NUMA node read from SysFS had negative value (-1), but there must be at least one NUMA node, so returning NUMA node zero. See more at https://github.com/torvalds/linux/blob/v6.0/Documentation/ABI/testing/sysfs-bus-pci#L344-L355\n",
      "2024-03-17 19:49:45.483021: I external/local_xla/xla/stream_executor/cuda/cuda_executor.cc:901] successful NUMA node read from SysFS had negative value (-1), but there must be at least one NUMA node, so returning NUMA node zero. See more at https://github.com/torvalds/linux/blob/v6.0/Documentation/ABI/testing/sysfs-bus-pci#L344-L355\n",
      "2024-03-17 19:49:45.543544: I external/local_xla/xla/stream_executor/cuda/cuda_executor.cc:901] successful NUMA node read from SysFS had negative value (-1), but there must be at least one NUMA node, so returning NUMA node zero. See more at https://github.com/torvalds/linux/blob/v6.0/Documentation/ABI/testing/sysfs-bus-pci#L344-L355\n",
      "2024-03-17 19:49:45.543735: I external/local_xla/xla/stream_executor/cuda/cuda_executor.cc:901] successful NUMA node read from SysFS had negative value (-1), but there must be at least one NUMA node, so returning NUMA node zero. See more at https://github.com/torvalds/linux/blob/v6.0/Documentation/ABI/testing/sysfs-bus-pci#L344-L355\n",
      "2024-03-17 19:49:45.543901: I external/local_xla/xla/stream_executor/cuda/cuda_executor.cc:901] successful NUMA node read from SysFS had negative value (-1), but there must be at least one NUMA node, so returning NUMA node zero. See more at https://github.com/torvalds/linux/blob/v6.0/Documentation/ABI/testing/sysfs-bus-pci#L344-L355\n",
      "2024-03-17 19:49:45.544028: I tensorflow/core/common_runtime/gpu/gpu_device.cc:1929] Created device /job:localhost/replica:0/task:0/device:GPU:0 with 9596 MB memory:  -> device: 0, name: NVIDIA GeForce RTX 3080, pci bus id: 0000:08:00.0, compute capability: 8.6\n"
     ]
    },
    {
     "name": "stdout",
     "output_type": "stream",
     "text": [
      "Epoch 1/5\n"
     ]
    },
    {
     "name": "stderr",
     "output_type": "stream",
     "text": [
      "2024-03-17 19:49:48.657887: I external/local_tsl/tsl/platform/default/subprocess.cc:304] Start cannot spawn child process: No such file or directory\n"
     ]
    },
    {
     "name": "stdout",
     "output_type": "stream",
     "text": [
      " 20/352 [>.............................] - ETA: 0s - loss: 0.6938 - accuracy: 0.4945  "
     ]
    },
    {
     "name": "stderr",
     "output_type": "stream",
     "text": [
      "2024-03-17 19:49:48.959809: I external/local_xla/xla/service/service.cc:168] XLA service 0x7c8a6046fe80 initialized for platform CUDA (this does not guarantee that XLA will be used). Devices:\n",
      "2024-03-17 19:49:48.959827: I external/local_xla/xla/service/service.cc:176]   StreamExecutor device (0): NVIDIA GeForce RTX 3080, Compute Capability 8.6\n",
      "2024-03-17 19:49:48.963791: I tensorflow/compiler/mlir/tensorflow/utils/dump_mlir_util.cc:269] disabling MLIR crash reproducer, set env var `MLIR_CRASH_REPRODUCER_DIRECTORY` to enable.\n",
      "2024-03-17 19:49:48.978887: I external/local_xla/xla/stream_executor/cuda/cuda_dnn.cc:454] Loaded cuDNN version 8904\n",
      "WARNING: All log messages before absl::InitializeLog() is called are written to STDERR\n",
      "I0000 00:00:1710719389.040304  343300 device_compiler.h:186] Compiled cluster using XLA!  This line is logged at most once for the lifetime of the process.\n"
     ]
    },
    {
     "name": "stdout",
     "output_type": "stream",
     "text": [
      "352/352 [==============================] - 2s 4ms/step - loss: 0.6791 - accuracy: 0.6100 - val_loss: 0.6658 - val_accuracy: 0.6568\n",
      "Epoch 2/5\n",
      "352/352 [==============================] - 1s 3ms/step - loss: 0.6338 - accuracy: 0.7411 - val_loss: 0.6453 - val_accuracy: 0.6764\n",
      "Epoch 3/5\n",
      "352/352 [==============================] - 1s 3ms/step - loss: 0.5971 - accuracy: 0.7744 - val_loss: 0.6292 - val_accuracy: 0.6788\n",
      "Epoch 4/5\n",
      "352/352 [==============================] - 1s 3ms/step - loss: 0.5669 - accuracy: 0.7976 - val_loss: 0.6180 - val_accuracy: 0.6884\n",
      "Epoch 5/5\n",
      "352/352 [==============================] - 1s 3ms/step - loss: 0.5413 - accuracy: 0.8100 - val_loss: 0.6089 - val_accuracy: 0.6892\n"
     ]
    },
    {
     "data": {
      "image/png": "[encoded data removed]",
      "text/plain": [
       "<Figure size 640x480 with 1 Axes>"
      ]
     },
     "metadata": {},
     "output_type": "display_data"
    }
   ],
   "source": [
    "model = build_onehot_model()\n",
    "\n",
    "# Fit the model.\n",
    "history = model.fit(\n",
    "  x = X_train_one_hot,  # one-hot training data\n",
    "  y = Y_train,          # corresponding binary labels\n",
    "  epochs=5,             # number of passes through the training data\n",
    "  batch_size=64,        # mini-batch size\n",
    "  validation_split=0.1, # use a fraction of the examples for validation\n",
    "  verbose=1             # display some progress output during training\n",
    "  )\n",
    "\n",
    "# Convert the return value into a DataFrame so we can see the train loss \n",
    "# and binary accuracy after every epoch.\n",
    "history = pd.DataFrame(history.history)\n",
    "plot_history(history)\n"
   ]
  },
  {
   "cell_type": "markdown",
   "metadata": {
    "id": "QuCh9aQPv7F_"
   },
   "source": [
    "---\n",
    "### Exercise 2: Comparing logistic regrerssion models (20 points)\n",
    "Train the one-hot model using both the concatenating and the averaging strategies and compare the results. Let's call these *LR-C* (Logistic Regression Concatenating) and *LR-A* (Logistic Regression Averaging). Then answer the following questions:\n",
    "\n",
    "1. What are the final training and validation accuracies for LR-C and LR-A?\n",
    "2. How many parameters are there in each model?\n",
    "3. Would you say that either model is overfitting? Why or why not?\n",
    "4. Briefly describe how LR-C differs from LR-A. How do you explain the relationship between their respective validation accuracy results? "
   ]
  },
  {
   "cell_type": "code",
   "execution_count": 13,
   "metadata": {},
   "outputs": [
    {
     "name": "stdout",
     "output_type": "stream",
     "text": [
      "LR-C History\n",
      "       loss  accuracy  val_loss  val_accuracy\n",
      "0  0.679064  0.610000  0.665771        0.6568\n",
      "1  0.633768  0.741067  0.645316        0.6764\n",
      "2  0.597083  0.774444  0.629216        0.6788\n",
      "3  0.566921  0.797600  0.618047        0.6884\n",
      "4  0.541251  0.810044  0.608923        0.6892\n",
      "LR-C Summary\n",
      "Model: \"sequential\"\n",
      "_________________________________________________________________\n",
      " Layer (type)                Output Shape              Param #   \n",
      "=================================================================\n",
      " flatten (Flatten)           (None, 20000)             0         \n",
      "                                                                 \n",
      " dense (Dense)               (None, 1)                 20001     \n",
      "                                                                 \n",
      "=================================================================\n",
      "Total params: 20001 (78.13 KB)\n",
      "Trainable params: 20001 (78.13 KB)\n",
      "Non-trainable params: 0 (0.00 Byte)\n",
      "_________________________________________________________________\n",
      "None\n",
      "LR-A History\n",
      "       loss  accuracy  val_loss  val_accuracy\n",
      "0  0.690590  0.609822  0.688310        0.6636\n",
      "1  0.685448  0.673911  0.683731        0.6700\n",
      "2  0.680563  0.674844  0.679084        0.6804\n",
      "3  0.675874  0.694489  0.674871        0.6824\n",
      "4  0.671350  0.695289  0.670832        0.6856\n",
      "LR-A Summary\n",
      "Model: \"sequential\"\n",
      "_________________________________________________________________\n",
      " Layer (type)                Output Shape              Param #   \n",
      "=================================================================\n",
      " global_average_pooling1d (  (None, 1000)              0         \n",
      " GlobalAveragePooling1D)                                         \n",
      "                                                                 \n",
      " dense (Dense)               (None, 1)                 1001      \n",
      "                                                                 \n",
      "=================================================================\n",
      "Total params: 1001 (3.91 KB)\n",
      "Trainable params: 1001 (3.91 KB)\n",
      "Non-trainable params: 0 (0.00 Byte)\n",
      "_________________________________________________________________\n",
      "None\n"
     ]
    }
   ],
   "source": [
    "print(\"LR-C History\")\n",
    "print(history)\n",
    "print(\"LR-C Summary\")\n",
    "print(model.summary())\n",
    "\n",
    "model = build_onehot_model(average_over_positions=True)\n",
    "\n",
    "# Fit the model.\n",
    "history = model.fit(\n",
    "  x = X_train_one_hot,  # one-hot training data\n",
    "  y = Y_train,          # corresponding binary labels\n",
    "  epochs=5,             # number of passes through the training data\n",
    "  batch_size=64,        # mini-batch size\n",
    "  validation_split=0.1, # use a fraction of the examples for validation\n",
    "  verbose=0             # display some progress output during training\n",
    "  )\n",
    "\n",
    "# Convert the return value into a DataFrame so we can see the train loss \n",
    "# and binary accuracy after every epoch.\n",
    "history = pd.DataFrame(history.history)\n",
    "print(\"LR-A History\")\n",
    "print(history)\n",
    "print(\"LR-A Summary\")\n",
    "print(model.summary())"
   ]
  },
  {
   "cell_type": "markdown",
   "metadata": {
    "id": "CEAN5BejHc__"
   },
   "source": [
    "*Written answers:*\n",
    "\n",
    "1. | Model | Training Accuracy | Validation Accuracy |\n",
    "   | :-: | :-: | :-: |\n",
    "   | LR-C | 0.81 | 0.69 |\n",
    "   | LR-A | 0.70 | 0.69 |\n",
    "2. | Model | Number of Parameters |\n",
    "   | :-: | :-: |\n",
    "   | LR-C | 20001 |\n",
    "   | LR-A | 1001 |\n",
    "3. LR-C is overfitting given that it's validation loss deviates substantially from its training loss\n",
    "4. The LR-C model effectively contains more information; it includes the position of tokens, where as the LR-A model effectively compresses the token data down to the average number of times tokens are used. The fact that the LR-C model overfits while the LR-A model does not tells us that for the use case of sentiment classification, it matters more how often certain word are used than the order in which they are used. Because of this, the position information effectively creates more variance, which the neural net will overfit to given is flexibility and increased number of parameters.\n"
   ]
  },
  {
   "cell_type": "markdown",
   "metadata": {},
   "source": [
    "---"
   ]
  },
  {
   "cell_type": "markdown",
   "metadata": {
    "id": "sJIBRqK7lsjG"
   },
   "source": [
    "## Logistic Regression with Embeddings\n",
    "Next, let's train model that replaces one-hot representations of each token with learned embeddings.\n",
    "\n",
    "The code below uses a Keras Embedding layer, which expects to receive a sparse (rather than one-hot) representation. That is, it expects a (padded) sequence of token ids; for each id, it looks up the corresponding embedding vector."
   ]
  },
  {
   "cell_type": "code",
   "execution_count": 14,
   "metadata": {
    "id": "ho6uOeCaBs2e"
   },
   "outputs": [],
   "source": [
    "def build_embeddings_model(average_over_positions=False,\n",
    "                           vocab_size=1000,\n",
    "                           sequence_length=20,\n",
    "                           embedding_dim=2):\n",
    "  \"\"\"Build a tf.keras model using embeddings.\"\"\"\n",
    "  # Clear session and remove randomness.\n",
    "  tf.keras.backend.clear_session()\n",
    "  tf.random.set_seed(0)\n",
    "\n",
    "  model = tf.keras.Sequential()\n",
    "  model.add(tf.keras.layers.Embedding(\n",
    "      input_dim=vocab_size,\n",
    "      output_dim=embedding_dim,\n",
    "      input_length=sequence_length)\n",
    "  )\n",
    "\n",
    "  if average_over_positions:\n",
    "    # This layer averages over the first dimension of the input by default.\n",
    "    model.add(tf.keras.layers.GlobalAveragePooling1D())\n",
    "  else:\n",
    "    # Concatenate.\n",
    "    model.add(tf.keras.layers.Flatten())\n",
    "  model.add(tf.keras.layers.Dense(\n",
    "      units=1,                     # output dim (for binary classification)\n",
    "      activation='sigmoid'         # apply the sigmoid function!\n",
    "  ))\n",
    "\n",
    "  model.compile(loss='binary_crossentropy', \n",
    "                optimizer='adam',\n",
    "                metrics=['accuracy'])\n",
    "\n",
    "  return model"
   ]
  },
  {
   "cell_type": "markdown",
   "metadata": {
    "id": "eyhoEjAiFSNB"
   },
   "source": [
    "Try training the model as before. We'll use the averaging strategy rather than the concatenating strategy for dealing with the token sequence. That is, we'll look up embedding vectors for each token. Then we'll average them to produce a single vector. Then we'll traing a logistic regression with that vector as input to predict the binary label."
   ]
  },
  {
   "cell_type": "code",
   "execution_count": 15,
   "metadata": {
    "colab": {
     "base_uri": "https://localhost:8080/",
     "height": 478
    },
    "executionInfo": {
     "elapsed": 5490,
     "status": "ok",
     "timestamp": 1646684762935,
     "user": {
      "displayName": "Daniel Gillick",
      "photoUrl": "https://lh3.googleusercontent.com/a-/AOh14Gg9DrSMlwYnG9EolecuJqe8n9m7fpcje4_UbYrhQ10=s64",
      "userId": "01872965353911650729"
     },
     "user_tz": 600
    },
    "id": "uYUE5UwkxoU8",
    "outputId": "20a4c237-8c49-4b24-9ea1-e0f325cb9908"
   },
   "outputs": [
    {
     "name": "stdout",
     "output_type": "stream",
     "text": [
      "Epoch 1/5\n"
     ]
    },
    {
     "name": "stdout",
     "output_type": "stream",
     "text": [
      "352/352 [==============================] - 6s 17ms/step - loss: 0.6903 - accuracy: 0.6193 - val_loss: 0.6854 - val_accuracy: 0.6484\n",
      "Epoch 2/5\n",
      "352/352 [==============================] - 2s 5ms/step - loss: 0.6746 - accuracy: 0.6838 - val_loss: 0.6646 - val_accuracy: 0.6824\n",
      "Epoch 3/5\n",
      "352/352 [==============================] - 1s 3ms/step - loss: 0.6486 - accuracy: 0.6986 - val_loss: 0.6385 - val_accuracy: 0.6976\n",
      "Epoch 4/5\n",
      "352/352 [==============================] - 1s 3ms/step - loss: 0.6209 - accuracy: 0.7112 - val_loss: 0.6149 - val_accuracy: 0.7008\n",
      "Epoch 5/5\n",
      "352/352 [==============================] - 1s 3ms/step - loss: 0.5962 - accuracy: 0.7171 - val_loss: 0.5954 - val_accuracy: 0.7100\n"
     ]
    },
    {
     "data": {
      "image/png": "[encoded data removed]",
      "text/plain": [
       "<Figure size 640x480 with 1 Axes>"
      ]
     },
     "metadata": {},
     "output_type": "display_data"
    }
   ],
   "source": [
    "model = build_embeddings_model(average_over_positions=True,\n",
    "                               vocab_size=1000,\n",
    "                               sequence_length=20,\n",
    "                               embedding_dim=2)\n",
    "history = model.fit(\n",
    "  x = X_train_reduced,  # our sparse padded training data\n",
    "  y = Y_train,          # corresponding binary labels\n",
    "  epochs=5,             # number of passes through the training data\n",
    "  batch_size=64,        # mini-batch size\n",
    "  validation_split=0.1, # use a fraction of the examples for validation\n",
    "  verbose=1             # display some progress output during training\n",
    "  )\n",
    "\n",
    "history = pd.DataFrame(history.history)\n",
    "plot_history(history)"
   ]
  },
  {
   "cell_type": "markdown",
   "metadata": {
    "id": "V3k__61hFnag"
   },
   "source": [
    "---\n",
    "### Exercise 3: Experiments with embeddings (20 points)\n",
    "Train 6 models with embedding sizes in [2,4,8,16,32,64], keeping other settings fixed. Use the averaging strategy rather than the concatenating strategy.\n",
    "\n",
    "1. Construct a table with the training and validation accuracies of each model (after 5 training epochs).\n",
    "2. Compute the number of parameters in each model.\n",
    "3. Do learned embeddings appear to provide improved performance over the one-hot encoding? Why?"
   ]
  },
  {
   "cell_type": "code",
   "execution_count": 16,
   "metadata": {},
   "outputs": [
    {
     "name": "stdout",
     "output_type": "stream",
     "text": [
      "Epoch 1/5\n"
     ]
    },
    {
     "name": "stdout",
     "output_type": "stream",
     "text": [
      "352/352 [==============================] - 4s 10ms/step - loss: 0.6879 - accuracy: 0.6340 - val_loss: 0.6809 - val_accuracy: 0.6652\n",
      "Epoch 2/5\n",
      "352/352 [==============================] - 1s 3ms/step - loss: 0.6686 - accuracy: 0.6906 - val_loss: 0.6585 - val_accuracy: 0.6864\n",
      "Epoch 3/5\n",
      "352/352 [==============================] - 1s 3ms/step - loss: 0.6419 - accuracy: 0.7010 - val_loss: 0.6327 - val_accuracy: 0.6980\n",
      "Epoch 4/5\n",
      "352/352 [==============================] - 1s 3ms/step - loss: 0.6149 - accuracy: 0.7134 - val_loss: 0.6102 - val_accuracy: 0.7052\n",
      "Epoch 5/5\n",
      "352/352 [==============================] - 1s 3ms/step - loss: 0.5911 - accuracy: 0.7199 - val_loss: 0.5917 - val_accuracy: 0.7120\n"
     ]
    },
    {
     "data": {
      "image/png": "[encoded data removed]",
      "text/plain": [
       "<Figure size 640x480 with 1 Axes>"
      ]
     },
     "metadata": {},
     "output_type": "display_data"
    },
    {
     "name": "stdout",
     "output_type": "stream",
     "text": [
      "Epoch 1/5\n",
      "352/352 [==============================] - 7s 18ms/step - loss: 0.6829 - accuracy: 0.6454 - val_loss: 0.6700 - val_accuracy: 0.6760\n",
      "Epoch 2/5\n",
      "352/352 [==============================] - 2s 5ms/step - loss: 0.6493 - accuracy: 0.7016 - val_loss: 0.6342 - val_accuracy: 0.7024\n",
      "Epoch 3/5\n",
      "352/352 [==============================] - 1s 3ms/step - loss: 0.6105 - accuracy: 0.7126 - val_loss: 0.6016 - val_accuracy: 0.7088\n",
      "Epoch 4/5\n",
      "352/352 [==============================] - 1s 3ms/step - loss: 0.5787 - accuracy: 0.7237 - val_loss: 0.5789 - val_accuracy: 0.7140\n",
      "Epoch 5/5\n",
      "352/352 [==============================] - 1s 4ms/step - loss: 0.5552 - accuracy: 0.7306 - val_loss: 0.5633 - val_accuracy: 0.7180\n"
     ]
    },
    {
     "data": {
      "image/png": "[encoded data removed]",
      "text/plain": [
       "<Figure size 640x480 with 1 Axes>"
      ]
     },
     "metadata": {},
     "output_type": "display_data"
    },
    {
     "name": "stdout",
     "output_type": "stream",
     "text": [
      "Epoch 1/5\n",
      "352/352 [==============================] - 7s 17ms/step - loss: 0.6798 - accuracy: 0.6432 - val_loss: 0.6605 - val_accuracy: 0.6820\n",
      "Epoch 2/5\n",
      "352/352 [==============================] - 2s 4ms/step - loss: 0.6298 - accuracy: 0.7040 - val_loss: 0.6101 - val_accuracy: 0.7080\n",
      "Epoch 3/5\n",
      "352/352 [==============================] - 1s 3ms/step - loss: 0.5809 - accuracy: 0.7202 - val_loss: 0.5756 - val_accuracy: 0.7140\n",
      "Epoch 4/5\n",
      "352/352 [==============================] - 1s 3ms/step - loss: 0.5491 - accuracy: 0.7323 - val_loss: 0.5569 - val_accuracy: 0.7224\n",
      "Epoch 5/5\n",
      "352/352 [==============================] - 1s 3ms/step - loss: 0.5293 - accuracy: 0.7408 - val_loss: 0.5462 - val_accuracy: 0.7204\n"
     ]
    },
    {
     "data": {
      "image/png": "[encoded data removed]",
      "text/plain": [
       "<Figure size 640x480 with 1 Axes>"
      ]
     },
     "metadata": {},
     "output_type": "display_data"
    },
    {
     "name": "stdout",
     "output_type": "stream",
     "text": [
      "Epoch 1/5\n",
      "352/352 [==============================] - 6s 17ms/step - loss: 0.6703 - accuracy: 0.6565 - val_loss: 0.6396 - val_accuracy: 0.6904\n",
      "Epoch 2/5\n",
      "352/352 [==============================] - 2s 4ms/step - loss: 0.5992 - accuracy: 0.7154 - val_loss: 0.5803 - val_accuracy: 0.7120\n",
      "Epoch 3/5\n",
      "352/352 [==============================] - 1s 3ms/step - loss: 0.5492 - accuracy: 0.7318 - val_loss: 0.5529 - val_accuracy: 0.7216\n",
      "Epoch 4/5\n",
      "352/352 [==============================] - 1s 3ms/step - loss: 0.5238 - accuracy: 0.7420 - val_loss: 0.5416 - val_accuracy: 0.7216\n",
      "Epoch 5/5\n",
      "352/352 [==============================] - 1s 3ms/step - loss: 0.5102 - accuracy: 0.7489 - val_loss: 0.5363 - val_accuracy: 0.7280\n"
     ]
    },
    {
     "data": {
      "image/png": "[encoded data removed]",
      "text/plain": [
       "<Figure size 640x480 with 1 Axes>"
      ]
     },
     "metadata": {},
     "output_type": "display_data"
    },
    {
     "name": "stdout",
     "output_type": "stream",
     "text": [
      "Epoch 1/5\n",
      "352/352 [==============================] - 7s 18ms/step - loss: 0.6579 - accuracy: 0.6646 - val_loss: 0.6141 - val_accuracy: 0.6980\n",
      "Epoch 2/5\n",
      "352/352 [==============================] - 2s 5ms/step - loss: 0.5685 - accuracy: 0.7231 - val_loss: 0.5568 - val_accuracy: 0.7200\n",
      "Epoch 3/5\n",
      "352/352 [==============================] - 1s 3ms/step - loss: 0.5257 - accuracy: 0.7404 - val_loss: 0.5398 - val_accuracy: 0.7252\n",
      "Epoch 4/5\n",
      "352/352 [==============================] - 1s 3ms/step - loss: 0.5081 - accuracy: 0.7468 - val_loss: 0.5351 - val_accuracy: 0.7284\n",
      "Epoch 5/5\n",
      "352/352 [==============================] - 1s 3ms/step - loss: 0.5001 - accuracy: 0.7517 - val_loss: 0.5336 - val_accuracy: 0.7308\n"
     ]
    },
    {
     "data": {
      "image/png": "[encoded data removed]",
      "text/plain": [
       "<Figure size 640x480 with 1 Axes>"
      ]
     },
     "metadata": {},
     "output_type": "display_data"
    },
    {
     "name": "stdout",
     "output_type": "stream",
     "text": [
      "Epoch 1/5\n",
      "352/352 [==============================] - 7s 18ms/step - loss: 0.6422 - accuracy: 0.6699 - val_loss: 0.5870 - val_accuracy: 0.7108\n",
      "Epoch 2/5\n",
      "352/352 [==============================] - 2s 5ms/step - loss: 0.5428 - accuracy: 0.7326 - val_loss: 0.5430 - val_accuracy: 0.7192\n",
      "Epoch 3/5\n",
      "352/352 [==============================] - 1s 3ms/step - loss: 0.5114 - accuracy: 0.7446 - val_loss: 0.5352 - val_accuracy: 0.7316\n",
      "Epoch 4/5\n",
      "352/352 [==============================] - 1s 3ms/step - loss: 0.5004 - accuracy: 0.7496 - val_loss: 0.5346 - val_accuracy: 0.7292\n",
      "Epoch 5/5\n",
      "352/352 [==============================] - 1s 3ms/step - loss: 0.4962 - accuracy: 0.7553 - val_loss: 0.5348 - val_accuracy: 0.7288\n"
     ]
    },
    {
     "data": {
      "image/png": "[encoded data removed]",
      "text/plain": [
       "<Figure size 640x480 with 1 Axes>"
      ]
     },
     "metadata": {},
     "output_type": "display_data"
    }
   ],
   "source": [
    "embeds = [2,4,8,16,32,64]\n",
    "accuracies = []\n",
    "params = []\n",
    "for embed in embeds:\n",
    "    model = build_embeddings_model(average_over_positions=True,\n",
    "                               vocab_size=1000,\n",
    "                               sequence_length=20,\n",
    "                               embedding_dim=embed)\n",
    "    history = model.fit(\n",
    "    x = X_train_reduced,  # our sparse padded training data\n",
    "    y = Y_train,          # corresponding binary labels\n",
    "    epochs=5,             # number of passes through the training data\n",
    "    batch_size=64,        # mini-batch size\n",
    "    validation_split=0.1, # use a fraction of the examples for validation\n",
    "    verbose=1             # display some progress output during training\n",
    "    )\n",
    "\n",
    "    accuracies.append((history.history['accuracy'][-1], history.history['val_accuracy'][-1]))\n",
    "    params.append(model.count_params())\n",
    "\n",
    "    history = pd.DataFrame(history.history)\n",
    "    plot_history(history)"
   ]
  },
  {
   "cell_type": "code",
   "execution_count": 17,
   "metadata": {},
   "outputs": [
    {
     "data": {
      "image/png": "[encoded data removed]",
      "text/plain": [
       "<Figure size 640x480 with 1 Axes>"
      ]
     },
     "metadata": {},
     "output_type": "display_data"
    }
   ],
   "source": [
    "val_accuracies = [x[1] for x in accuracies]\n",
    "plt.plot(embeds, val_accuracies)\n",
    "plt.xticks(ticks=embeds, labels=[2, 4, 8, 16, 32, 64])\n",
    "plt.xlabel(\"Embedding Size\")\n",
    "plt.ylabel(\"Accuracy\")\n",
    "plt.title(\"Embeddings vs. Validation Accuracy\")\n",
    "plt.show()"
   ]
  },
  {
   "cell_type": "code",
   "execution_count": 18,
   "metadata": {},
   "outputs": [
    {
     "name": "stdout",
     "output_type": "stream",
     "text": [
      "[(0.7199110984802246, 0.7120000123977661), (0.7306222319602966, 0.7179999947547913), (0.7408444285392761, 0.7203999757766724), (0.7488889098167419, 0.7279999852180481), (0.7516888976097107, 0.7307999730110168), (0.7552888989448547, 0.7287999987602234)]\n",
      "[2003, 4005, 8009, 16017, 32033, 64065]\n"
     ]
    }
   ],
   "source": [
    "print(accuracies)\n",
    "print(params)"
   ]
  },
  {
   "cell_type": "markdown",
   "metadata": {
    "id": "O7t46ZdX2ofd"
   },
   "source": [
    "*Written answers:*\n",
    "\n",
    "1. | Model | Training Accuracy | Validation Accuracy |\n",
    "   | :---: | :---------------: | :-----------------: |\n",
    "   | 2 | 0.72 | 0.71 |\n",
    "   | 4 | 0.73 | 0.72 |\n",
    "   | 8 | 0.74 | 0.72 |\n",
    "   | 16 | 0.75 | 0.73 |\n",
    "   | 32 | 0.75 | 0.73 |\n",
    "   | 64 | 0.76 | 0.73 |\n",
    "2. | Model | Number of Parameters |\n",
    "   | :-: | :-: |\n",
    "   | 2 | 2003 |\n",
    "   | 4 | 4005 |\n",
    "   | 8 | 8009 |\n",
    "   | 16 | 16017 |\n",
    "   | 32 | 32033 |\n",
    "   | 64 | 64065 |\n",
    "3. Yes, learned embeddings appear to improve performance given that they increase validation accuracy. However, there is a certain point where increasing embeddings may cause overfitting and decrease performance.\n"
   ]
  },
  {
   "cell_type": "markdown",
   "metadata": {},
   "source": [
    "---"
   ]
  },
  {
   "cell_type": "markdown",
   "metadata": {
    "id": "i2dWOuxqKHA6"
   },
   "source": [
    "## Inspecting Learned Embeddings\n",
    "Let's retrieve the learned embedding parameters from the trained model and plot the token embeddings.\n",
    "\n",
    "The model layers in a Keras Sequential model are stored as a list and the embeddings are the first layer. We can use the get_weights() function to get a numpy array with the parameters."
   ]
  },
  {
   "cell_type": "code",
   "execution_count": 19,
   "metadata": {
    "colab": {
     "base_uri": "https://localhost:8080/",
     "height": 86
    },
    "executionInfo": {
     "elapsed": 355,
     "status": "ok",
     "timestamp": 1646684774106,
     "user": {
      "displayName": "Daniel Gillick",
      "photoUrl": "https://lh3.googleusercontent.com/a-/AOh14Gg9DrSMlwYnG9EolecuJqe8n9m7fpcje4_UbYrhQ10=s64",
      "userId": "01872965353911650729"
     },
     "user_tz": 600
    },
    "id": "bfsbGSwkaFjo",
    "outputId": "d9d74723-012f-464f-a9f3-8a41d8178868"
   },
   "outputs": [
    {
     "data": {
      "text/plain": [
       "[<keras.src.layers.core.embedding.Embedding at 0x7c8c0dab7f90>,\n",
       " <keras.src.layers.pooling.global_average_pooling1d.GlobalAveragePooling1D at 0x7c8c0dbb0750>,\n",
       " <keras.src.layers.core.dense.Dense at 0x7c8c0dbb6c90>]"
      ]
     },
     "metadata": {},
     "output_type": "display_data"
    },
    {
     "data": {
      "text/plain": [
       "(1000, 64)"
      ]
     },
     "metadata": {},
     "output_type": "display_data"
    }
   ],
   "source": [
    "# Display the model layers.\n",
    "display(model.layers)\n",
    "\n",
    "# Retrieve the embeddings layer, which itself is wrapped in a list.\n",
    "embeddings = model.layers[0].get_weights()[0]\n",
    "display(embeddings.shape)"
   ]
  },
  {
   "cell_type": "markdown",
   "metadata": {
    "id": "apPWscNwcXTE"
   },
   "source": [
    "Now we'll use a fancy plotting tool called *plotly* to show the embeddings with hovertext so you can move your mouse over the points to see the corresponding tokens."
   ]
  },
  {
   "cell_type": "code",
   "execution_count": 20,
   "metadata": {
    "colab": {
     "base_uri": "https://localhost:8080/",
     "height": 542
    },
    "executionInfo": {
     "elapsed": 453,
     "status": "ok",
     "timestamp": 1646684778338,
     "user": {
      "displayName": "Daniel Gillick",
      "photoUrl": "https://lh3.googleusercontent.com/a-/AOh14Gg9DrSMlwYnG9EolecuJqe8n9m7fpcje4_UbYrhQ10=s64",
      "userId": "01872965353911650729"
     },
     "user_tz": 600
    },
    "id": "5RZMTrA0KttL",
    "outputId": "f5ec9b65-84bb-4c28-c673-cf86a87112df"
   },
   "outputs": [
    {
     "data": {
      "application/vnd.plotly.v1+json": {
       "config": {
        "plotlyServerURL": "https://plot.ly"
       },
       "data": [
        {
         "hoverinfo": "text",
         "mode": "markers",
         "text": [
          "game",
          "past",
          "able",
          "b",
          "days",
          "turns",
          "child",
          "they're",
          "hand",
          "flick",
          "enjoyed",
          "act",
          "genre",
          "town",
          "favorite",
          "soon",
          "kill",
          "starts",
          "sometimes",
          "car",
          "gave",
          "run",
          "late",
          "eyes",
          "actress",
          "etc",
          "directed",
          "horrible",
          "won't",
          "viewer",
          "brilliant",
          "parts",
          "self",
          "themselves",
          "hour",
          "expect",
          "thinking",
          "stories",
          "stuff",
          "girls",
          "obviously",
          "blood",
          "decent",
          "city",
          "voice",
          "highly",
          "myself",
          "feeling",
          "fight",
          "except",
          "slow",
          "matter",
          "type",
          "anyway",
          "kid",
          "roles",
          "killed",
          "heard",
          "god",
          "age",
          "says",
          "moment",
          "took",
          "leave",
          "writer",
          "strong",
          "cannot",
          "violence",
          "police",
          "hit",
          "stop",
          "happens",
          "particularly",
          "known",
          "involved",
          "happened",
          "extremely",
          "daughter",
          "obvious",
          "told",
          "chance",
          "living",
          "coming",
          "lack",
          "alone",
          "experience",
          "wouldn't",
          "including",
          "murder",
          "attempt",
          "s",
          "please",
          "james",
          "happen",
          "wonder",
          "crap",
          "ago",
          "brother",
          "film's",
          "gore",
          "none",
          "complete",
          "interest",
          "score",
          "group",
          "cut",
          "simple",
          "save",
          "ok",
          "hell",
          "looked",
          "career",
          "number",
          "song",
          "possible",
          "seriously",
          "annoying",
          "shown",
          "exactly",
          "sad",
          "running",
          "musical",
          "serious",
          "taken",
          "yourself",
          "whose",
          "released",
          "cinematography",
          "david",
          "scary",
          "ends",
          "english",
          "hero",
          "usually",
          "hours",
          "reality",
          "opening",
          "i'll",
          "across",
          "today",
          "jokes",
          "light",
          "hilarious",
          "somewhat",
          "usual",
          "started",
          "cool",
          "ridiculous",
          "body",
          "relationship",
          "view",
          "level",
          "opinion",
          "change",
          "happy",
          "middle",
          "taking",
          "wish",
          "husband",
          "finds",
          "saying",
          "order",
          "talking",
          "ones",
          "documentary",
          "shots",
          "huge",
          "novel",
          "female",
          "mostly",
          "robert",
          "power",
          "episodes",
          "room",
          "important",
          "rating",
          "talent",
          "five",
          "major",
          "turned",
          "strange",
          "word",
          "modern",
          "call",
          "apparently",
          "disappointed",
          "single",
          "events",
          "due",
          "four",
          "songs",
          "basically",
          "attention",
          "7",
          "knows",
          "clearly",
          "supporting",
          "knew",
          "british",
          "television",
          "comic",
          "non",
          "fast",
          "earth",
          "country",
          "future",
          "cheap",
          "class",
          "thriller",
          "8",
          "silly",
          "king",
          "problems",
          "aren't",
          "easily",
          "words",
          "tells",
          "miss",
          "jack",
          "local",
          "sequence",
          "bring",
          "entertainment",
          "paul",
          "beyond",
          "upon",
          "whether",
          "predictable",
          "moving",
          "similar",
          "straight",
          "romantic",
          "sets",
          "review",
          "falls",
          "oscar",
          "mystery",
          "enjoyable",
          "needs",
          "appears",
          "talk",
          "rock",
          "george",
          "giving",
          "eye",
          "richard",
          "within",
          "ten",
          "animation",
          "message",
          "theater",
          "near",
          "above",
          "dull",
          "nearly",
          "sequel",
          "theme",
          "points",
          "'",
          "stand",
          "mention",
          "lady",
          "bunch",
          "add",
          "feels",
          "herself",
          "release",
          "red",
          "team",
          "storyline",
          "surprised",
          "ways",
          "using",
          "named",
          "haven't",
          "lots",
          "easy",
          "fantastic",
          "begins",
          "actual",
          "working",
          "effort",
          "york",
          "die",
          "hate",
          "french",
          "minute",
          "tale",
          "clear",
          "stay",
          "9",
          "elements",
          "feature",
          "among",
          "follow",
          "comments",
          "re",
          "viewers",
          "avoid",
          "sister",
          "showing",
          "typical",
          "editing",
          "what's",
          "famous",
          "tried",
          "sorry",
          "dialog",
          "check",
          "fall",
          "period",
          "season",
          "form",
          "certain",
          "filmed",
          "weak",
          "soundtrack",
          "means",
          "buy",
          "material",
          "somehow",
          "realistic",
          "figure",
          "crime",
          "doubt",
          "gone",
          "peter",
          "tom",
          "kept",
          "viewing",
          "t",
          "general",
          "leads",
          "greatest",
          "space",
          "lame",
          "suspense",
          "dance",
          "imagine",
          "brought",
          "third",
          "atmosphere",
          "hear",
          "particular",
          "sequences",
          "whatever",
          "parents",
          "move",
          "lee",
          "indeed",
          "learn",
          "rent",
          "de",
          "eventually",
          "note",
          "deal",
          "average",
          "reviews",
          "wait",
          "forget",
          "japanese",
          "sexual",
          "poorly",
          "premise",
          "okay",
          "zombie",
          "surprise",
          "believable",
          "stage",
          "possibly",
          "sit",
          "who's",
          "decided",
          "expected",
          "you've",
          "subject",
          "nature",
          "became",
          "difficult",
          "free",
          "killing",
          "screenplay",
          "truth",
          "romance",
          "dr",
          "nor",
          "reading",
          "needed",
          "question",
          "leaves",
          "street",
          "20",
          "meets",
          "hot",
          "unless",
          "begin",
          "baby",
          "superb",
          "credits",
          "imdb",
          "otherwise",
          "write",
          "shame",
          "let's",
          "situation",
          "dramatic",
          "memorable",
          "directors",
          "earlier",
          "meet",
          "disney",
          "open",
          "dog",
          "badly",
          "joe",
          "male",
          "weird",
          "acted",
          "forced",
          "laughs",
          "sci",
          "emotional",
          "older",
          "realize",
          "fi",
          "dream",
          "society",
          "writers",
          "interested",
          "footage",
          "forward",
          "comment",
          "crazy",
          "deep",
          "sounds",
          "plus",
          "beauty",
          "whom",
          "america",
          "fantasy",
          "directing",
          "keeps",
          "ask",
          "development",
          "features",
          "air",
          "quickly",
          "mess",
          "creepy",
          "towards",
          "perfectly",
          "mark",
          "worked",
          "box",
          "cheesy",
          "unique",
          "setting",
          "hands",
          "plenty",
          "result",
          "previous",
          "brings",
          "effect",
          "e",
          "total",
          "personal",
          "incredibly",
          "rate",
          "fire",
          "monster",
          "business",
          "leading",
          "apart",
          "casting",
          "admit",
          "joke",
          "powerful",
          "appear",
          "background",
          "telling",
          "girlfriend",
          "meant",
          "christmas",
          "hardly",
          "present",
          "battle",
          "potential",
          "create",
          "bill",
          "break",
          "pay",
          "masterpiece",
          "gay",
          "political",
          "return",
          "dumb",
          "fails",
          "fighting",
          "various",
          "era"
         ],
         "textposition": "bottom left",
         "type": "scatter",
         "x": [
          0.03963049501180649,
          -0.0002330601855646819,
          0.03834689036011696,
          0.027739746496081352,
          0.08998013287782669,
          -0.014148127287626266,
          0.054867666214704514,
          -0.00934469886124134,
          -0.16158521175384521,
          -0.03040544129908085,
          0.25115516781806946,
          -0.04719434306025505,
          0.11732404679059982,
          -0.04051217436790466,
          0.3462029695510864,
          0.13874301314353943,
          -0.10248775780200958,
          -0.020983440801501274,
          0.15508420765399933,
          -0.08578077703714371,
          0.004576481878757477,
          -0.07958711683750153,
          0.022909635677933693,
          0.09429498016834259,
          -0.013806103728711605,
          -0.19501736760139465,
          -0.08748412132263184,
          -0.4040413796901703,
          0.08212962746620178,
          -0.025423435494303703,
          0.3459108769893646,
          0.03746384382247925,
          -0.1372193843126297,
          -0.047762222588062286,
          0.04536334052681923,
          -0.054938532412052155,
          -0.04558441415429115,
          0.156519815325737,
          0.021992886438965797,
          -0.02267307974398136,
          -0.09899861365556717,
          0.06406541913747787,
          -0.1736074537038803,
          0.05854025483131409,
          0.10164420306682587,
          0.5996572971343994,
          -0.006900451146066189,
          0.07913035154342651,
          0.026713280007243156,
          -0.1101107969880104,
          -0.07291964441537857,
          0.12104722857475281,
          0.05840376764535904,
          0.011422304436564445,
          -0.07230684161186218,
          0.02161821909248829,
          -0.136256605386734,
          0.06658340245485306,
          -0.1830061376094818,
          0.0969548225402832,
          0.012665048241615295,
          0.031460922211408615,
          0.03796030580997467,
          -0.08519479632377625,
          -0.08279009908437729,
          0.18600913882255554,
          0.02211032062768936,
          -0.03287145122885704,
          0.0667765885591507,
          0.2646767497062683,
          -0.07554694265127182,
          -0.2769903838634491,
          -0.06377611309289932,
          0.05468756705522537,
          -0.13940145075321198,
          -0.0323883518576622,
          -0.03506585583090782,
          0.04575732722878456,
          -0.1849016398191452,
          -0.029654478654265404,
          0.2591828405857086,
          -0.06864382326602936,
          0.01559003721922636,
          -0.3253069519996643,
          -0.010609055869281292,
          0.10000123083591461,
          -0.3041470944881439,
          0.21778468787670135,
          -0.08591783046722412,
          -0.2964896857738495,
          -0.0403117910027504,
          -0.010744969360530376,
          0.1823510080575943,
          0.09459374099969864,
          -0.012933069840073586,
          -0.4890623688697815,
          0.1031091958284378,
          -0.07507215440273285,
          -0.08751340210437775,
          -0.2727992832660675,
          -0.1638818234205246,
          -0.11709189414978027,
          -0.023233091458678246,
          0.04275636002421379,
          -0.05126256123185158,
          0.08954878151416779,
          0.049661003053188324,
          -0.5174453854560852,
          -0.11316191405057907,
          -0.1399841159582138,
          -0.2851410210132599,
          -0.11154092848300934,
          0.08024585247039795,
          -0.09069287776947021,
          0.022299613803625107,
          -0.16126340627670288,
          -0.2651124596595764,
          0.10281067341566086,
          0.06816212087869644,
          -0.1441529095172882,
          -0.09083650261163712,
          0.06474512815475464,
          0.06332448869943619,
          0.06208718940615654,
          -0.11442966014146805,
          0.021445034071803093,
          0.08747249841690063,
          -0.07218071073293686,
          -0.030348144471645355,
          -0.035731241106987,
          0.06069949269294739,
          0.17528675496578217,
          0.12778425216674805,
          0.02000346966087818,
          -0.0376729890704155,
          0.1391742080450058,
          0.05424860119819641,
          -0.05809853971004486,
          0.0008032529149204493,
          0.40734243392944336,
          -0.12769228219985962,
          0.18785059452056885,
          0.07508289813995361,
          0.0711112692952156,
          -0.03763294965028763,
          -0.09775597602128983,
          0.2007582187652588,
          -0.2371249794960022,
          -0.10241451859474182,
          0.15533675253391266,
          0.055759865790605545,
          -0.0017896967474371195,
          -0.07107678055763245,
          0.11960751563310623,
          0.14928549528121948,
          -0.011149425059556961,
          -0.058515507727861404,
          0.1296309381723404,
          -0.12215756624937057,
          0.03846645727753639,
          -0.10937973111867905,
          -0.0137132927775383,
          0.07007080316543579,
          -0.05503709241747856,
          -0.006173354107886553,
          -0.145788311958313,
          -0.20650126039981842,
          -0.07837353646755219,
          -0.04375000298023224,
          -0.04800662770867348,
          0.009251576848328114,
          -0.028902919963002205,
          0.13929444551467896,
          -0.10677504539489746,
          0.11012844741344452,
          -0.10291637480258942,
          -0.13320425152778625,
          -0.07630645483732224,
          -0.17032788693904877,
          -0.19066570699214935,
          0.030375393107533455,
          -0.06036911532282829,
          0.0910859927535057,
          -0.08907343447208405,
          -0.030974946916103363,
          -0.13456442952156067,
          -0.023518338799476624,
          0.00387586816214025,
          -0.10670140385627747,
          -0.0075056287460029125,
          -0.04252619668841362,
          -0.14598524570465088,
          0.18640442192554474,
          0.5997817516326904,
          0.1419830620288849,
          -0.14807240664958954,
          0.0455714575946331,
          -0.18663239479064941,
          -0.11716418713331223,
          0.03804131969809532,
          0.05255397781729698,
          -0.0007256845710799098,
          -0.13709215819835663,
          -0.030404632911086082,
          0.08103549480438232,
          0.14550727605819702,
          -0.3479129374027252,
          0.07318945974111557,
          0.17367397248744965,
          0.5888562798500061,
          -0.08415297418832779,
          -0.013285416178405285,
          -0.026669716462492943,
          -0.08060669898986816,
          0.07224178314208984,
          0.07219140976667404,
          0.13291317224502563,
          0.19593390822410583,
          0.11789502948522568,
          -0.11007913947105408,
          0.1564193218946457,
          0.21969389915466309,
          0.07886061817407608,
          0.10555562376976013,
          -0.037079304456710815,
          -0.08793158084154129,
          0.08891022205352783,
          -0.27495983242988586,
          0.21632085740566254,
          0.02698555588722229,
          -0.06474769115447998,
          0.15526820719242096,
          -0.0336296446621418,
          -0.03262554481625557,
          -0.09471095353364944,
          0.2780344784259796,
          0.05557040870189667,
          0.2961658537387848,
          -0.12630097568035126,
          -0.13968966901302338,
          0.008696816861629486,
          0.13830441236495972,
          -0.10000801831483841,
          0.0344405360519886,
          -0.04474304988980293,
          0.0952283963561058,
          0.09612728655338287,
          -0.0053230272606015205,
          -0.038901492953300476,
          0.15669521689414978,
          -0.18662945926189423,
          -0.09475596249103546,
          -0.02123229205608368,
          -0.3761404752731323,
          0.054643720388412476,
          -0.01703469455242157,
          -0.04655829817056656,
          0.010148120112717152,
          -0.07560896873474121,
          0.09002713114023209,
          0.0004940609796904027,
          0.0936766117811203,
          0.07249267399311066,
          0.05000719428062439,
          -0.048820339143276215,
          0.22077138721942902,
          0.14820006489753723,
          -0.14990311861038208,
          0.07583045214414597,
          0.030250322073698044,
          0.09515054523944855,
          0.07286092638969421,
          -0.06184417009353638,
          -0.15716098248958588,
          0.18086084723472595,
          0.01687300018966198,
          0.02162277325987816,
          0.22811441123485565,
          0.08011224865913391,
          -0.1279880255460739,
          -0.027947084978222847,
          -0.2775324583053589,
          -0.04220147058367729,
          -0.13512735068798065,
          -0.0943845584988594,
          0.014987324364483356,
          -0.10609788447618484,
          0.26368460059165955,
          -0.13289093971252441,
          -0.14978253841400146,
          0.5029217600822449,
          0.14302586019039154,
          -0.10269099473953247,
          0.05749625340104103,
          -0.03812034800648689,
          0.03799094632267952,
          -0.03969782218337059,
          -0.03560992702841759,
          -0.6809093952178955,
          -0.12614065408706665,
          0.02471115067601204,
          0.06989532709121704,
          -0.06163813918828964,
          0.07246491312980652,
          0.1460430920124054,
          0.0201254915446043,
          -0.3243333399295807,
          -0.04544118419289589,
          0.1958233118057251,
          0.04030120372772217,
          0.08711761236190796,
          0.1236400231719017,
          0.0259931031614542,
          0.12172689288854599,
          -0.029138028621673584,
          -0.24397973716259003,
          0.12464717030525208,
          0.047770269215106964,
          0.06619656831026077,
          -0.13310785591602325,
          0.07627971470355988,
          0.29257118701934814,
          -0.03168410807847977,
          0.06563907116651535,
          0.0788390263915062,
          0.01816352643072605,
          0.04102615267038345,
          0.08368422836065292,
          -0.044529858976602554,
          0.16626723110675812,
          -0.165491983294487,
          -0.05256300047039986,
          0.0345466248691082,
          0.2637396454811096,
          -0.06909790635108948,
          -0.38248410820961,
          0.07117980718612671,
          0.18474800884723663,
          0.05539476126432419,
          0.10669023543596268,
          0.018693944439291954,
          0.2529309093952179,
          0.06204306334257126,
          0.08607179671525955,
          0.11597912758588791,
          -0.0654982402920723,
          0.03423190489411354,
          -0.12149078398942947,
          -0.295066773891449,
          -0.0652746856212616,
          0.05910694971680641,
          -0.0803246945142746,
          0.033262111246585846,
          0.03189627453684807,
          -0.09153765439987183,
          0.0630200207233429,
          -0.0002144785539712757,
          -0.08011039346456528,
          -0.030743902549147606,
          -0.0035420150961726904,
          0.07902758568525314,
          -0.016071593388915062,
          -0.42391422390937805,
          -0.22862373292446136,
          -0.2242419570684433,
          -0.07769794017076492,
          0.02503192238509655,
          0.1767745018005371,
          0.03961629047989845,
          0.003939170390367508,
          -0.13392110168933868,
          0.12209026515483856,
          -0.07995390892028809,
          -0.12121516466140747,
          0.04420573636889458,
          -0.08647160977125168,
          0.19453144073486328,
          -0.004007859155535698,
          0.21587680280208588,
          -0.2065846174955368,
          -0.16573217511177063,
          0.0466056726872921,
          -0.025675291195511818,
          0.08389624208211899,
          -0.08328196406364441,
          -0.08644603937864304,
          0.06790213286876678,
          0.1312263160943985,
          0.08369306474924088,
          0.04643664509057999,
          0.033578239381313324,
          -0.06588631868362427,
          0.09613601863384247,
          -0.16636888682842255,
          -0.47789818048477173,
          -0.0820939764380455,
          -0.040458474308252335,
          0.33768942952156067,
          -0.10806793719530106,
          -0.10005906224250793,
          -0.16578766703605652,
          -0.2524590790271759,
          -0.21163472533226013,
          -0.005298192147165537,
          0.16788776218891144,
          0.0895656868815422,
          0.11082655191421509,
          -0.09405721724033356,
          0.03344615921378136,
          -0.12233444303274155,
          0.07235714048147202,
          0.08690446615219116,
          -0.08222467452287674,
          -0.31294071674346924,
          -0.2646780014038086,
          -0.10856412351131439,
          0.13084453344345093,
          -0.032354604452848434,
          -0.07595504820346832,
          -0.12339597195386887,
          0.071778304874897,
          0.09751293063163757,
          -0.03770977258682251,
          -0.22368884086608887,
          0.058456264436244965,
          0.047829728573560715,
          0.08262236416339874,
          -0.10640393942594528,
          0.16874158382415771,
          0.03863795846700668,
          0.08465733379125595,
          -0.08451781421899796,
          -0.015691356733441353,
          0.1094755083322525,
          -0.075839102268219,
          -0.020602138713002205,
          0.14643903076648712,
          -0.012241008691489697,
          0.12577930092811584,
          0.1737167090177536,
          0.05139804258942604,
          0.0824037715792656,
          0.07569429278373718,
          -0.04871018975973129,
          0.04773425683379173,
          0.11402957141399384,
          -0.104082852602005,
          -0.4638189673423767,
          0.13248084485530853,
          0.01192433014512062,
          0.2528139054775238,
          -0.10758687555789948,
          -0.15754351019859314,
          0.002758531365543604,
          -0.0642232745885849,
          0.17157207429409027,
          -0.03692838177084923,
          -0.001644856296479702,
          0.012926115654408932,
          -0.34155985713005066,
          -0.13787880539894104,
          0.14165626466274261,
          0.014821641147136688,
          -0.1478772908449173,
          -0.22056245803833008,
          0.06837926059961319,
          0.057125236839056015,
          0.030868833884596825,
          0.15850305557250977,
          -0.10641505569219589,
          0.004491469822824001,
          0.11682171374559402,
          -0.12939149141311646,
          -0.10941636562347412,
          0.08574651181697845,
          -0.28079405426979065,
          0.34991204738616943,
          -0.08331787586212158,
          -0.005752313882112503,
          0.014769242145121098,
          0.04053308069705963,
          -0.13737209141254425,
          -0.13220779597759247,
          -0.17249542474746704,
          0.13264459371566772,
          -0.0014457206707447767,
          -0.19053654372692108,
          0.02121441438794136,
          0.08993455767631531,
          -0.1801558881998062,
          -0.24172963201999664,
          0.190420001745224,
          -0.13625669479370117,
          0.054071664810180664,
          -0.07584666460752487,
          -0.17857515811920166,
          -0.3447134792804718,
          0.06665625423192978,
          -0.0072489031590521336,
          0.1539963334798813
         ],
         "y": [
          0.09060458838939667,
          0.041696347296237946,
          -0.021544624119997025,
          0.002076289150863886,
          0.07462240010499954,
          -0.03235343098640442,
          0.04793151095509529,
          -0.07082749903202057,
          -0.1485782265663147,
          -0.03193888068199158,
          0.16800427436828613,
          -0.008593465201556683,
          0.12849433720111847,
          -0.026842482388019562,
          0.32488083839416504,
          0.10204284638166428,
          -0.15778152644634247,
          -0.010061368346214294,
          0.19850210845470428,
          -0.15943564474582672,
          0.040607649832963943,
          -0.08421402424573898,
          0.01764114573597908,
          0.0009596151066944003,
          -0.03229169547557831,
          -0.1582564413547516,
          -0.11145824193954468,
          -0.40122315287590027,
          0.13538020849227905,
          -0.03476090729236603,
          0.32204148173332214,
          0.03496908023953438,
          -0.12320064753293991,
          -0.012221425771713257,
          0.05297880247235298,
          -0.030216803774237633,
          -0.043969184160232544,
          0.1411786675453186,
          0.08283340930938721,
          0.02560049295425415,
          -0.057205576449632645,
          0.06516081839799881,
          -0.17074070870876312,
          0.07920349389314651,
          0.08851224184036255,
          0.5511727333068848,
          0.03396378830075264,
          0.01863282546401024,
          -0.034481681883335114,
          -0.12449794262647629,
          0.019109435379505157,
          0.15807035565376282,
          0.027803929522633553,
          0.027917496860027313,
          -0.14216603338718414,
          -0.0008486006991006434,
          -0.17369712889194489,
          0.13999681174755096,
          -0.20251750946044922,
          0.08146124333143234,
          0.015367571264505386,
          -0.012484416365623474,
          -0.036641769111156464,
          -0.06583915650844574,
          -0.10257942229509354,
          0.12150315195322037,
          0.02545388974249363,
          -0.048163481056690216,
          0.01759829930961132,
          0.2945821285247803,
          -0.02167378179728985,
          -0.24044720828533173,
          -0.06940264999866486,
          0.03438771516084671,
          -0.16857075691223145,
          -0.02308758720755577,
          -0.01781162992119789,
          -0.05385354533791542,
          -0.11420682072639465,
          -0.06878276914358139,
          0.23108482360839844,
          -0.12983541190624237,
          0.03468078002333641,
          -0.27166759967803955,
          -0.002545418916270137,
          0.14289970695972443,
          -0.3759205937385559,
          0.1874714344739914,
          -0.019368698820471764,
          -0.2790846824645996,
          0.0072350711561739445,
          -0.034619495272636414,
          0.08644811809062958,
          0.01398296095430851,
          -0.04419814795255661,
          -0.44202181696891785,
          0.08957317471504211,
          -0.07006466388702393,
          -0.07998889684677124,
          -0.27676841616630554,
          -0.20331352949142456,
          -0.029439851641654968,
          -0.0560210719704628,
          0.017184503376483917,
          -0.021723663434386253,
          0.09894707798957825,
          0.0997079461812973,
          -0.4830717146396637,
          -0.1693798154592514,
          -0.06432148069143295,
          -0.24391771852970123,
          -0.07705292105674744,
          0.06155399605631828,
          -0.03143293410539627,
          0.0006514255655929446,
          -0.20396849513053894,
          -0.23662976920604706,
          0.04964684322476387,
          0.031179243698716164,
          -0.12354128062725067,
          -0.09018111228942871,
          0.000055776501540094614,
          -0.023421380668878555,
          0.07696829736232758,
          -0.09323616325855255,
          -0.02862463891506195,
          0.07917527854442596,
          -0.05606402829289436,
          -0.11389590054750443,
          -0.10673031955957413,
          0.043533679097890854,
          0.23250582814216614,
          0.08001802861690521,
          0.014570861123502254,
          -0.10947123914957047,
          0.0638652965426445,
          0.05547833442687988,
          -0.030925653874874115,
          0.05942036211490631,
          0.32966890931129456,
          -0.11024537682533264,
          0.17804095149040222,
          0.11595913767814636,
          0.05655849725008011,
          0.044231366366147995,
          -0.11070600897073746,
          0.2055054008960724,
          -0.26495352387428284,
          -0.07361385971307755,
          0.1474887579679489,
          0.09078825265169144,
          -0.06628122925758362,
          -0.015959760174155235,
          0.1304706335067749,
          0.11360648274421692,
          0.024204835295677185,
          -0.053505297750234604,
          0.08482225984334946,
          -0.08428621292114258,
          0.04116643965244293,
          -0.13533850014209747,
          0.051559220999479294,
          0.10142843425273895,
          -0.04130838066339493,
          0.052763260900974274,
          -0.1093079149723053,
          -0.12636995315551758,
          -0.06683174520730972,
          -0.11693483591079712,
          -0.02316635474562645,
          0.06107313930988312,
          -0.08723422139883041,
          0.13237357139587402,
          -0.08826371282339096,
          0.021334553137421608,
          -0.009343350306153297,
          -0.14699995517730713,
          -0.09628375619649887,
          -0.12196969240903854,
          -0.12074892222881317,
          -0.028381723910570145,
          -0.0998913049697876,
          0.1434476226568222,
          -0.07391992211341858,
          -0.07466830313205719,
          -0.06780137121677399,
          -0.014516275376081467,
          -0.0017901270184665918,
          -0.0853671133518219,
          -0.01845194585621357,
          -0.03319310024380684,
          -0.13225489854812622,
          0.09254873543977737,
          0.5735659003257751,
          0.09320636093616486,
          -0.09523792564868927,
          -0.027143392711877823,
          -0.14526382088661194,
          -0.04876154661178589,
          0.03860682249069214,
          0.0299441609531641,
          -0.08421877771615982,
          -0.08311959356069565,
          0.005510813090950251,
          0.0363302044570446,
          0.13532774150371552,
          -0.3153516948223114,
          0.04733998328447342,
          0.12468887865543365,
          0.5258228778839111,
          -0.08878322690725327,
          -0.07132703065872192,
          -0.011451808735728264,
          -0.1172805204987526,
          0.11519517004489899,
          0.08718463778495789,
          0.10231518000364304,
          0.1924954652786255,
          0.09852349013090134,
          -0.09927566349506378,
          0.1735144555568695,
          0.15017002820968628,
          0.07713904231786728,
          0.09261877834796906,
          0.056639689952135086,
          -0.06364123523235321,
          0.17008869349956512,
          -0.2386237531900406,
          0.19506974518299103,
          0.04762709513306618,
          -0.09606499969959259,
          0.17650574445724487,
          0.03024544008076191,
          -0.04663614183664322,
          -0.15296566486358643,
          0.19018685817718506,
          -0.026039576157927513,
          0.3165346682071686,
          -0.10210990905761719,
          -0.11367501318454742,
          0.090695820748806,
          0.1429658830165863,
          -0.10128950327634811,
          0.027574900537729263,
          -0.01389154139906168,
          0.08950839191675186,
          0.09933815896511078,
          0.008991946466267109,
          -0.02369108982384205,
          0.11344631016254425,
          -0.15552884340286255,
          -0.1106494888663292,
          0.03461211547255516,
          -0.40147095918655396,
          0.05733061581850052,
          -0.04233281686902046,
          -0.06040479242801666,
          0.0005015046335756779,
          -0.0424174927175045,
          0.026566604152321815,
          0.057972509413957596,
          0.1477252095937729,
          0.05504918470978737,
          0.00893044751137495,
          -0.03402723744511604,
          0.21983112394809723,
          0.06745905429124832,
          -0.11383597552776337,
          0.06991990655660629,
          -0.028117354959249496,
          0.019026590511202812,
          0.11454082280397415,
          -0.06916848570108414,
          -0.21338701248168945,
          0.1755909025669098,
          0.0033480231650173664,
          0.08130986243486404,
          0.20247052609920502,
          0.008918117731809616,
          -0.1649014800786972,
          0.019972456619143486,
          -0.2735336124897003,
          -0.08534090220928192,
          -0.12898197770118713,
          -0.04226556792855263,
          -0.07122189551591873,
          -0.186473548412323,
          0.2215559482574463,
          -0.1170319989323616,
          -0.16558675467967987,
          0.4077165722846985,
          0.1509081870317459,
          -0.01064389105886221,
          0.09309994429349899,
          0.03519228845834732,
          0.10350951552391052,
          0.009441289119422436,
          0.0268844123929739,
          -0.6824032068252563,
          -0.04224538430571556,
          0.09600115567445755,
          0.08571527898311615,
          -0.06179828569293022,
          -0.0006379583501257002,
          0.16482143104076385,
          0.025914056226611137,
          -0.2618323862552643,
          -0.02358194813132286,
          0.1722264289855957,
          0.04557066038250923,
          0.039532098919153214,
          0.09688928723335266,
          0.013989712111651897,
          0.13063140213489532,
          -0.027204224839806557,
          -0.2867569029331207,
          0.16743417084217072,
          0.01775982230901718,
          0.13102222979068756,
          -0.1238609105348587,
          0.026262158527970314,
          0.2235277146100998,
          0.021320201456546783,
          0.046223897486925125,
          0.0590004101395607,
          0.04244886338710785,
          0.05522309988737106,
          0.1677076369524002,
          -0.05365215986967087,
          0.2260332703590393,
          -0.17170248925685883,
          -0.08359649032354355,
          0.061376191675662994,
          0.22583553194999695,
          -0.09142381697893143,
          -0.3301929831504822,
          -0.013939770869910717,
          0.22093647718429565,
          0.056174442172050476,
          0.11758894473314285,
          0.0607534721493721,
          0.19822081923484802,
          0.09719788283109665,
          0.04002414643764496,
          0.15707020461559296,
          -0.09617403894662857,
          -0.027313578873872757,
          -0.08632857352495193,
          -0.31014183163642883,
          -0.04097834229469299,
          0.03194686025381088,
          -0.1014673262834549,
          -0.017427312210202217,
          0.014346260577440262,
          -0.022467825561761856,
          0.11328074336051941,
          -0.038313962519168854,
          -0.030993029475212097,
          -0.03239838778972626,
          0.018647821620106697,
          0.1375754326581955,
          -0.019387420266866684,
          -0.35984694957733154,
          -0.1645049750804901,
          -0.27475735545158386,
          -0.03633028641343117,
          -0.0034885541535913944,
          0.217153400182724,
          0.04690753296017647,
          -0.04616300016641617,
          -0.03994739428162575,
          0.11424676328897476,
          -0.08158956468105316,
          -0.10285543650388718,
          0.00008911447366699576,
          -0.1440160721540451,
          0.20768402516841888,
          -0.015478231012821198,
          0.1914721131324768,
          -0.22242318093776703,
          -0.14527158439159393,
          0.03519539535045624,
          -0.013540580868721008,
          0.09423249214887619,
          -0.019435102120041847,
          -0.03318573534488678,
          0.07876835018396378,
          0.10048111528158188,
          0.038925476372241974,
          -0.015404343605041504,
          -0.03137583285570145,
          -0.03100356087088585,
          0.022829534485936165,
          -0.15046098828315735,
          -0.43083319067955017,
          -0.035930294543504715,
          -0.039344415068626404,
          0.2936728298664093,
          -0.06829985231161118,
          -0.09706371277570724,
          -0.20107515156269073,
          -0.18927514553070068,
          -0.20400744676589966,
          0.004892535973340273,
          0.1822349727153778,
          0.10010746121406555,
          0.03733329847455025,
          -0.15746964514255524,
          0.07659587264060974,
          -0.11130237579345703,
          0.056058574467897415,
          0.1391022801399231,
          -0.07054513692855835,
          -0.28222882747650146,
          -0.2544635534286499,
          -0.08444871008396149,
          0.09706906229257584,
          -0.017825718969106674,
          -0.07266975194215775,
          -0.038447096943855286,
          0.02884014882147312,
          0.07405874878168106,
          0.02110135927796364,
          -0.1433320939540863,
          -0.03559623658657074,
          0.031763553619384766,
          0.11794016510248184,
          -0.16202466189861298,
          0.10009203106164932,
          0.07482395321130753,
          0.14834064245224,
          -0.03428211063146591,
          -0.05291838198900223,
          0.11919387429952621,
          -0.1000778004527092,
          -0.0020975421648472548,
          0.19985081255435944,
          0.061039574444293976,
          0.11167297512292862,
          0.1457664966583252,
          0.006223013158887625,
          0.07501264661550522,
          0.031180307269096375,
          -0.023334885016083717,
          -0.00865644309669733,
          0.1452759951353073,
          -0.11014177650213242,
          -0.4116206765174866,
          0.09848535060882568,
          -0.02014116942882538,
          0.2968168556690216,
          -0.1376820057630539,
          -0.14856506884098053,
          0.03482745960354805,
          -0.1259813755750656,
          0.12288996577262878,
          -0.10475742816925049,
          -0.042134009301662445,
          -0.02811276726424694,
          -0.2476615458726883,
          -0.07173630595207214,
          0.12351636588573456,
          -0.001889148959890008,
          -0.10548139363527298,
          -0.1790888011455536,
          0.1089213564991951,
          -0.019587157294154167,
          0.0006565051735378802,
          0.12712810933589935,
          -0.15077584981918335,
          -0.07253701984882355,
          0.09809675067663193,
          -0.05066896975040436,
          -0.11509827524423599,
          0.05848878249526024,
          -0.27795639634132385,
          0.307522714138031,
          -0.04642569646239281,
          0.019367245957255363,
          0.03971856087446213,
          0.07676652818918228,
          -0.06124851107597351,
          -0.12050562351942062,
          -0.10312878340482712,
          0.052676279097795486,
          0.01552426815032959,
          -0.1592227965593338,
          -0.007503240369260311,
          0.047325052320957184,
          -0.19732211530208588,
          -0.18531373143196106,
          0.20344999432563782,
          -0.17570683360099792,
          0.08519842475652695,
          -0.07004287838935852,
          -0.16888996958732605,
          -0.27992239594459534,
          0.14206811785697937,
          0.054412513971328735,
          0.17065592110157013
         ]
        }
       ],
       "layout": {
        "hovermode": "closest",
        "template": {
         "data": {
          "bar": [
           {
            "error_x": {
             "color": "#2a3f5f"
            },
            "error_y": {
             "color": "#2a3f5f"
            },
            "marker": {
             "line": {
              "color": "#E5ECF6",
              "width": 0.5
             },
             "pattern": {
              "fillmode": "overlay",
              "size": 10,
              "solidity": 0.2
             }
            },
            "type": "bar"
           }
          ],
          "barpolar": [
           {
            "marker": {
             "line": {
              "color": "#E5ECF6",
              "width": 0.5
             },
             "pattern": {
              "fillmode": "overlay",
              "size": 10,
              "solidity": 0.2
             }
            },
            "type": "barpolar"
           }
          ],
          "carpet": [
           {
            "aaxis": {
             "endlinecolor": "#2a3f5f",
             "gridcolor": "white",
             "linecolor": "white",
             "minorgridcolor": "white",
             "startlinecolor": "#2a3f5f"
            },
            "baxis": {
             "endlinecolor": "#2a3f5f",
             "gridcolor": "white",
             "linecolor": "white",
             "minorgridcolor": "white",
             "startlinecolor": "#2a3f5f"
            },
            "type": "carpet"
           }
          ],
          "choropleth": [
           {
            "colorbar": {
             "outlinewidth": 0,
             "ticks": ""
            },
            "type": "choropleth"
           }
          ],
          "contour": [
           {
            "colorbar": {
             "outlinewidth": 0,
             "ticks": ""
            },
            "colorscale": [
             [
              0,
              "#0d0887"
             ],
             [
              0.1111111111111111,
              "#46039f"
             ],
             [
              0.2222222222222222,
              "#7201a8"
             ],
             [
              0.3333333333333333,
              "#9c179e"
             ],
             [
              0.4444444444444444,
              "#bd3786"
             ],
             [
              0.5555555555555556,
              "#d8576b"
             ],
             [
              0.6666666666666666,
              "#ed7953"
             ],
             [
              0.7777777777777778,
              "#fb9f3a"
             ],
             [
              0.8888888888888888,
              "#fdca26"
             ],
             [
              1,
              "#f0f921"
             ]
            ],
            "type": "contour"
           }
          ],
          "contourcarpet": [
           {
            "colorbar": {
             "outlinewidth": 0,
             "ticks": ""
            },
            "type": "contourcarpet"
           }
          ],
          "heatmap": [
           {
            "colorbar": {
             "outlinewidth": 0,
             "ticks": ""
            },
            "colorscale": [
             [
              0,
              "#0d0887"
             ],
             [
              0.1111111111111111,
              "#46039f"
             ],
             [
              0.2222222222222222,
              "#7201a8"
             ],
             [
              0.3333333333333333,
              "#9c179e"
             ],
             [
              0.4444444444444444,
              "#bd3786"
             ],
             [
              0.5555555555555556,
              "#d8576b"
             ],
             [
              0.6666666666666666,
              "#ed7953"
             ],
             [
              0.7777777777777778,
              "#fb9f3a"
             ],
             [
              0.8888888888888888,
              "#fdca26"
             ],
             [
              1,
              "#f0f921"
             ]
            ],
            "type": "heatmap"
           }
          ],
          "heatmapgl": [
           {
            "colorbar": {
             "outlinewidth": 0,
             "ticks": ""
            },
            "colorscale": [
             [
              0,
              "#0d0887"
             ],
             [
              0.1111111111111111,
              "#46039f"
             ],
             [
              0.2222222222222222,
              "#7201a8"
             ],
             [
              0.3333333333333333,
              "#9c179e"
             ],
             [
              0.4444444444444444,
              "#bd3786"
             ],
             [
              0.5555555555555556,
              "#d8576b"
             ],
             [
              0.6666666666666666,
              "#ed7953"
             ],
             [
              0.7777777777777778,
              "#fb9f3a"
             ],
             [
              0.8888888888888888,
              "#fdca26"
             ],
             [
              1,
              "#f0f921"
             ]
            ],
            "type": "heatmapgl"
           }
          ],
          "histogram": [
           {
            "marker": {
             "pattern": {
              "fillmode": "overlay",
              "size": 10,
              "solidity": 0.2
             }
            },
            "type": "histogram"
           }
          ],
          "histogram2d": [
           {
            "colorbar": {
             "outlinewidth": 0,
             "ticks": ""
            },
            "colorscale": [
             [
              0,
              "#0d0887"
             ],
             [
              0.1111111111111111,
              "#46039f"
             ],
             [
              0.2222222222222222,
              "#7201a8"
             ],
             [
              0.3333333333333333,
              "#9c179e"
             ],
             [
              0.4444444444444444,
              "#bd3786"
             ],
             [
              0.5555555555555556,
              "#d8576b"
             ],
             [
              0.6666666666666666,
              "#ed7953"
             ],
             [
              0.7777777777777778,
              "#fb9f3a"
             ],
             [
              0.8888888888888888,
              "#fdca26"
             ],
             [
              1,
              "#f0f921"
             ]
            ],
            "type": "histogram2d"
           }
          ],
          "histogram2dcontour": [
           {
            "colorbar": {
             "outlinewidth": 0,
             "ticks": ""
            },
            "colorscale": [
             [
              0,
              "#0d0887"
             ],
             [
              0.1111111111111111,
              "#46039f"
             ],
             [
              0.2222222222222222,
              "#7201a8"
             ],
             [
              0.3333333333333333,
              "#9c179e"
             ],
             [
              0.4444444444444444,
              "#bd3786"
             ],
             [
              0.5555555555555556,
              "#d8576b"
             ],
             [
              0.6666666666666666,
              "#ed7953"
             ],
             [
              0.7777777777777778,
              "#fb9f3a"
             ],
             [
              0.8888888888888888,
              "#fdca26"
             ],
             [
              1,
              "#f0f921"
             ]
            ],
            "type": "histogram2dcontour"
           }
          ],
          "mesh3d": [
           {
            "colorbar": {
             "outlinewidth": 0,
             "ticks": ""
            },
            "type": "mesh3d"
           }
          ],
          "parcoords": [
           {
            "line": {
             "colorbar": {
              "outlinewidth": 0,
              "ticks": ""
             }
            },
            "type": "parcoords"
           }
          ],
          "pie": [
           {
            "automargin": true,
            "type": "pie"
           }
          ],
          "scatter": [
           {
            "fillpattern": {
             "fillmode": "overlay",
             "size": 10,
             "solidity": 0.2
            },
            "type": "scatter"
           }
          ],
          "scatter3d": [
           {
            "line": {
             "colorbar": {
              "outlinewidth": 0,
              "ticks": ""
             }
            },
            "marker": {
             "colorbar": {
              "outlinewidth": 0,
              "ticks": ""
             }
            },
            "type": "scatter3d"
           }
          ],
          "scattercarpet": [
           {
            "marker": {
             "colorbar": {
              "outlinewidth": 0,
              "ticks": ""
             }
            },
            "type": "scattercarpet"
           }
          ],
          "scattergeo": [
           {
            "marker": {
             "colorbar": {
              "outlinewidth": 0,
              "ticks": ""
             }
            },
            "type": "scattergeo"
           }
          ],
          "scattergl": [
           {
            "marker": {
             "colorbar": {
              "outlinewidth": 0,
              "ticks": ""
             }
            },
            "type": "scattergl"
           }
          ],
          "scattermapbox": [
           {
            "marker": {
             "colorbar": {
              "outlinewidth": 0,
              "ticks": ""
             }
            },
            "type": "scattermapbox"
           }
          ],
          "scatterpolar": [
           {
            "marker": {
             "colorbar": {
              "outlinewidth": 0,
              "ticks": ""
             }
            },
            "type": "scatterpolar"
           }
          ],
          "scatterpolargl": [
           {
            "marker": {
             "colorbar": {
              "outlinewidth": 0,
              "ticks": ""
             }
            },
            "type": "scatterpolargl"
           }
          ],
          "scatterternary": [
           {
            "marker": {
             "colorbar": {
              "outlinewidth": 0,
              "ticks": ""
             }
            },
            "type": "scatterternary"
           }
          ],
          "surface": [
           {
            "colorbar": {
             "outlinewidth": 0,
             "ticks": ""
            },
            "colorscale": [
             [
              0,
              "#0d0887"
             ],
             [
              0.1111111111111111,
              "#46039f"
             ],
             [
              0.2222222222222222,
              "#7201a8"
             ],
             [
              0.3333333333333333,
              "#9c179e"
             ],
             [
              0.4444444444444444,
              "#bd3786"
             ],
             [
              0.5555555555555556,
              "#d8576b"
             ],
             [
              0.6666666666666666,
              "#ed7953"
             ],
             [
              0.7777777777777778,
              "#fb9f3a"
             ],
             [
              0.8888888888888888,
              "#fdca26"
             ],
             [
              1,
              "#f0f921"
             ]
            ],
            "type": "surface"
           }
          ],
          "table": [
           {
            "cells": {
             "fill": {
              "color": "#EBF0F8"
             },
             "line": {
              "color": "white"
             }
            },
            "header": {
             "fill": {
              "color": "#C8D4E3"
             },
             "line": {
              "color": "white"
             }
            },
            "type": "table"
           }
          ]
         },
         "layout": {
          "annotationdefaults": {
           "arrowcolor": "#2a3f5f",
           "arrowhead": 0,
           "arrowwidth": 1
          },
          "autotypenumbers": "strict",
          "coloraxis": {
           "colorbar": {
            "outlinewidth": 0,
            "ticks": ""
           }
          },
          "colorscale": {
           "diverging": [
            [
             0,
             "#8e0152"
            ],
            [
             0.1,
             "#c51b7d"
            ],
            [
             0.2,
             "#de77ae"
            ],
            [
             0.3,
             "#f1b6da"
            ],
            [
             0.4,
             "#fde0ef"
            ],
            [
             0.5,
             "#f7f7f7"
            ],
            [
             0.6,
             "#e6f5d0"
            ],
            [
             0.7,
             "#b8e186"
            ],
            [
             0.8,
             "#7fbc41"
            ],
            [
             0.9,
             "#4d9221"
            ],
            [
             1,
             "#276419"
            ]
           ],
           "sequential": [
            [
             0,
             "#0d0887"
            ],
            [
             0.1111111111111111,
             "#46039f"
            ],
            [
             0.2222222222222222,
             "#7201a8"
            ],
            [
             0.3333333333333333,
             "#9c179e"
            ],
            [
             0.4444444444444444,
             "#bd3786"
            ],
            [
             0.5555555555555556,
             "#d8576b"
            ],
            [
             0.6666666666666666,
             "#ed7953"
            ],
            [
             0.7777777777777778,
             "#fb9f3a"
            ],
            [
             0.8888888888888888,
             "#fdca26"
            ],
            [
             1,
             "#f0f921"
            ]
           ],
           "sequentialminus": [
            [
             0,
             "#0d0887"
            ],
            [
             0.1111111111111111,
             "#46039f"
            ],
            [
             0.2222222222222222,
             "#7201a8"
            ],
            [
             0.3333333333333333,
             "#9c179e"
            ],
            [
             0.4444444444444444,
             "#bd3786"
            ],
            [
             0.5555555555555556,
             "#d8576b"
            ],
            [
             0.6666666666666666,
             "#ed7953"
            ],
            [
             0.7777777777777778,
             "#fb9f3a"
            ],
            [
             0.8888888888888888,
             "#fdca26"
            ],
            [
             1,
             "#f0f921"
            ]
           ]
          },
          "colorway": [
           "#636efa",
           "#EF553B",
           "#00cc96",
           "#ab63fa",
           "#FFA15A",
           "#19d3f3",
           "#FF6692",
           "#B6E880",
           "#FF97FF",
           "#FECB52"
          ],
          "font": {
           "color": "#2a3f5f"
          },
          "geo": {
           "bgcolor": "white",
           "lakecolor": "white",
           "landcolor": "#E5ECF6",
           "showlakes": true,
           "showland": true,
           "subunitcolor": "white"
          },
          "hoverlabel": {
           "align": "left"
          },
          "hovermode": "closest",
          "mapbox": {
           "style": "light"
          },
          "paper_bgcolor": "white",
          "plot_bgcolor": "#E5ECF6",
          "polar": {
           "angularaxis": {
            "gridcolor": "white",
            "linecolor": "white",
            "ticks": ""
           },
           "bgcolor": "#E5ECF6",
           "radialaxis": {
            "gridcolor": "white",
            "linecolor": "white",
            "ticks": ""
           }
          },
          "scene": {
           "xaxis": {
            "backgroundcolor": "#E5ECF6",
            "gridcolor": "white",
            "gridwidth": 2,
            "linecolor": "white",
            "showbackground": true,
            "ticks": "",
            "zerolinecolor": "white"
           },
           "yaxis": {
            "backgroundcolor": "#E5ECF6",
            "gridcolor": "white",
            "gridwidth": 2,
            "linecolor": "white",
            "showbackground": true,
            "ticks": "",
            "zerolinecolor": "white"
           },
           "zaxis": {
            "backgroundcolor": "#E5ECF6",
            "gridcolor": "white",
            "gridwidth": 2,
            "linecolor": "white",
            "showbackground": true,
            "ticks": "",
            "zerolinecolor": "white"
           }
          },
          "shapedefaults": {
           "line": {
            "color": "#2a3f5f"
           }
          },
          "ternary": {
           "aaxis": {
            "gridcolor": "white",
            "linecolor": "white",
            "ticks": ""
           },
           "baxis": {
            "gridcolor": "white",
            "linecolor": "white",
            "ticks": ""
           },
           "bgcolor": "#E5ECF6",
           "caxis": {
            "gridcolor": "white",
            "linecolor": "white",
            "ticks": ""
           }
          },
          "title": {
           "x": 0.05
          },
          "xaxis": {
           "automargin": true,
           "gridcolor": "white",
           "linecolor": "white",
           "ticks": "",
           "title": {
            "standoff": 15
           },
           "zerolinecolor": "white",
           "zerolinewidth": 2
          },
          "yaxis": {
           "automargin": true,
           "gridcolor": "white",
           "linecolor": "white",
           "ticks": "",
           "title": {
            "standoff": 15
           },
           "zerolinecolor": "white",
           "zerolinewidth": 2
          }
         }
        },
        "title": {
         "text": "Word Embeddings"
        }
       }
      }
     },
     "metadata": {},
     "output_type": "display_data"
    }
   ],
   "source": [
    "def plot_2d_embeddings(embeddings, id_start=1, count=100):\n",
    "  # Get 1st and 2nd embedding dims for the desired tokens.\n",
    "  x1 = embeddings[id_start:id_start+count, 0]\n",
    "  x2 = embeddings[id_start:id_start+count, 1]\n",
    "  \n",
    "  # Get the corresponding words from the reverse index (for labeling).\n",
    "  tokens = [reverse_index[i] for i in range(id_start, id_start+count)]\n",
    "\n",
    "  # Plot with the plotly library.\n",
    "  data = plotly.Scatter(x=x1, y=x2, text=tokens,\n",
    "                        mode='markers', textposition='bottom left',\n",
    "                        hoverinfo='text')\n",
    "  fig = plotly.Figure(data=[data],\n",
    "                      layout=plotly.Layout(title=\"Word Embeddings\",\n",
    "                                           hovermode='closest'))\n",
    "  fig.show()\n",
    "\n",
    "# Very frequent tokens tend to be more syntactic than semantic, so let's plot\n",
    "# some rarer words.    \n",
    "plot_2d_embeddings(embeddings, id_start=500, count=500)"
   ]
  },
  {
   "cell_type": "markdown",
   "metadata": {
    "id": "Z3Mm8MjRcZ20"
   },
   "source": [
    "---\n",
    "### Exercise 4: Interpreting Embeddings (20 points)\n",
    "Notice that the 2-D embeddings fall in a narrow diagonal band.\n",
    "\n",
    "1. Have the learned embeddings separated positive and negative words? What is the most negative word? Does this make sense?\n",
    "2. Give 2 examples of words that seem to have surprising embedding values and try to explain their positions. For example, what's going on with the tokens '7', '8', and '9'? What are two other surprising results?\n",
    "3. The embedding for 'crazy' is very close to (0,0). Explain what this means in terms of the model's output.\n",
    "4. Can you explain what you think the 2 learned embedding dimensions mean, if anything?"
   ]
  },
  {
   "cell_type": "markdown",
   "metadata": {
    "id": "x_qAAvvo2y3t"
   },
   "source": [
    "*Written answers:*\n",
    "\n",
    "1. Yes, it appears that the embeddings separate positive and negative words, but not perfectly: there are many words without a strong embedding that could be used to label either positive or negative sentiments. The most negative word is \"avoid\". This makes sense given that the dataset contains movie reviews, and reviewers may commonly suggest that readers \"avoid\" a given film.\n",
    "2. For the first example, the placement of tokens that reflect numbers (i.e. '7', '8', '9') seems surprising at first, but may refer to scoring out of 10, which reviewers may commonly type out in their reviews. Another suprising positive token is \"today\", which may be used by reviewers to suggest that viewers should go see the film today / as soon as possible.\n",
    "3. The low embedding suggests that the word \"crazy\" is not closely associated with positivity or negativity, or with other words that are associated with positivity or negativity. This may be because \"crazy\" is being used by reviewers to generally describe the extent of other descriptors.\n",
    "4. It is difficult to explain what learned embeddings mean discretely, beyond being useful to relatively compare the assocition of different tokens with other tokens and with classes.\n"
   ]
  },
  {
   "cell_type": "markdown",
   "metadata": {},
   "source": [
    "---"
   ]
  },
  {
   "cell_type": "markdown",
   "metadata": {
    "id": "IXCitmUvxfwb"
   },
   "source": [
    "## Scaling Up!\n",
    "Remember how we limited our input sequences to 20 tokens and 1000 vocabulary entries? Let's see how well we can do using more data and bigger models (more parameters)."
   ]
  },
  {
   "cell_type": "markdown",
   "metadata": {
    "id": "OKZDEGS7xzr6"
   },
   "source": [
    "### Exercise 5: Improve Results (20 points)\n",
    "Using pieces of code from above, set up and train a model that improves the validation accuracy to at least 80%. You should include the following elements:\n",
    "\n",
    "1. Truncate and pad input to the desired length.\n",
    "2. Limit vocabulary to the desired size.\n",
    "3. Set up a model using embeddings.\n",
    "4. Add an additional layer or layers (after the embeddings layer and before the output layer).\n",
    "5. Evaluate on the test data. Remember to apply the same pre-processing to the test data. You can use model.evaluate()."
   ]
  },
  {
   "cell_type": "code",
   "execution_count": 21,
   "metadata": {
    "id": "ekbJ4sIq2hID"
   },
   "outputs": [
    {
     "name": "stdout",
     "output_type": "stream",
     "text": [
      "Epoch 1/5\n"
     ]
    },
    {
     "name": "stdout",
     "output_type": "stream",
     "text": [
      "352/352 [==============================] - 16s 42ms/step - loss: 0.5426 - accuracy: 0.7208 - val_loss: 0.3742 - val_accuracy: 0.8324\n",
      "Epoch 2/5\n",
      "352/352 [==============================] - 4s 11ms/step - loss: 0.2990 - accuracy: 0.8751 - val_loss: 0.3554 - val_accuracy: 0.8484\n",
      "Epoch 3/5\n",
      "352/352 [==============================] - 3s 10ms/step - loss: 0.2417 - accuracy: 0.9031 - val_loss: 0.3554 - val_accuracy: 0.8476\n",
      "Epoch 4/5\n",
      "352/352 [==============================] - 3s 7ms/step - loss: 0.2042 - accuracy: 0.9229 - val_loss: 0.3785 - val_accuracy: 0.8428\n",
      "Epoch 5/5\n",
      "352/352 [==============================] - 2s 5ms/step - loss: 0.1763 - accuracy: 0.9364 - val_loss: 0.4147 - val_accuracy: 0.8336\n",
      "782/782 [==============================] - 1s 1ms/step - loss: 0.4115 - accuracy: 0.8398\n",
      "Test Loss: 0.41150346398353577\n",
      "Test Accuracy: 0.8397600054740906\n"
     ]
    }
   ],
   "source": [
    "# YOUR CODE HERE\n",
    "def build_better_embeddings_model(average_over_positions=False,\n",
    "                           vocab_size=10000,\n",
    "                           sequence_length=100,\n",
    "                           embedding_dim=2):\n",
    "  \"\"\"Build a tf.keras model using embeddings.\"\"\"\n",
    "  # Clear session and remove randomness.\n",
    "  tf.keras.backend.clear_session()\n",
    "  tf.random.set_seed(0)\n",
    "\n",
    "  model = tf.keras.Sequential()\n",
    "  model.add(tf.keras.layers.Embedding(\n",
    "      input_dim=vocab_size,\n",
    "      output_dim=embedding_dim,\n",
    "      input_length=sequence_length)\n",
    "  )\n",
    "\n",
    "  if average_over_positions:\n",
    "    # This layer averages over the first dimension of the input by default.\n",
    "    model.add(tf.keras.layers.GlobalAveragePooling1D())\n",
    "    model.add(tf.keras.layers.Dense(units=64, activation='relu'))\n",
    "    model.add(tf.keras.layers.Dense(units=64, activation='relu'))\n",
    "  else:\n",
    "    # Concatenate.\n",
    "    model.add(tf.keras.layers.Flatten())\n",
    "    model.add(tf.keras.layers.Dense(units=64, activation='relu'))\n",
    "    model.add(tf.keras.layers.Dense(units=64, activation='relu'))\n",
    "  \n",
    "  model.add(tf.keras.layers.Dense(\n",
    "      units=1,                     # output dim (for binary classification)\n",
    "      activation='sigmoid'         # apply the sigmoid function!\n",
    "  ))\n",
    "\n",
    "  model.compile(loss='binary_crossentropy', \n",
    "                optimizer='adam',\n",
    "                metrics=['accuracy'])\n",
    "\n",
    "  return model\n",
    "\n",
    "model = build_better_embeddings_model(average_over_positions=True)\n",
    "\n",
    "max_token_id=10000\n",
    "max_length=100\n",
    "\n",
    "X_train_padded = pad_data(X_train, max_length=max_length)\n",
    "X_train_reduced = limit_vocab(X_train_padded, max_token_id=max_token_id)\n",
    "X_test_padded = pad_data(X_test, max_length=max_length)\n",
    "X_test_reduced = limit_vocab(X_test_padded, max_token_id=max_token_id)\n",
    "\n",
    "history = model.fit(\n",
    "  x = X_train_reduced,  # our sparse padded training data\n",
    "  y = Y_train,          # corresponding binary labels\n",
    "  epochs=5,             # number of passes through the training data\n",
    "  batch_size=64,        # mini-batch size\n",
    "  validation_split=0.1, # use a fraction of the examples for validation\n",
    "  verbose=1             # display some progress output during training\n",
    ")\n",
    "\n",
    "\n",
    "test_loss, test_accuracy = model.evaluate(x=X_test_reduced, y=Y_test, verbose=1)\n",
    "print(\"Test Loss:\", test_loss)\n",
    "print(\"Test Accuracy:\", test_accuracy)"
   ]
  },
  {
   "cell_type": "markdown",
   "metadata": {
    "id": "7EEJI9yC2jOJ"
   },
   "source": [
    "---"
   ]
  }
 ],
 "metadata": {
  "colab": {
   "authorship_tag": "ABX9TyMbG/uKJC3itEUb58OjZyV3",
   "name": "09 Embeddings for Text.ipynb",
   "provenance": []
  },
  "kernelspec": {
   "display_name": "Python 3",
   "language": "python",
   "name": "python3"
  },
  "language_info": {
   "codemirror_mode": {
    "name": "ipython",
    "version": 3
   },
   "file_extension": ".py",
   "mimetype": "text/x-python",
   "name": "python",
   "nbconvert_exporter": "python",
   "pygments_lexer": "ipython3",
   "version": "3.11.1"
  }
 },
 "nbformat": 4,
 "nbformat_minor": 4
}
