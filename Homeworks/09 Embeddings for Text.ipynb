{
 "cells": [
  {
   "cell_type": "markdown",
   "metadata": {
    "id": "MKsRDH5ZUdfasdv"
   },
   "source": [
    "# Lab 9"
   ]
  },
  {
   "cell_type": "markdown",
   "metadata": {},
   "source": [
    "### <span style=\"color:chocolate\"> Submission requirements </span>\n",
    "\n",
    "Your homework will not be graded if your notebook doesn't include output. In other words, <span style=\"color:red\"> make sure to rerun your notebook before submitting to Gradescope </span> (Note: if you are using Google Colab: go to Edit > Notebook Settings  and uncheck Omit code cell output when saving this notebook, otherwise the output is not printed).\n",
    "\n",
    "Additional points may be deducted if these requirements are not met:\n",
    "    \n",
    "* Comment your code\n",
    "* Each graph should have a title, labels for each axis, and (if needed) a legend. Each graph should be understandable on its own\n",
    "* Try and minimize the use of the global namespace (meaning, keep things inside functions)\n",
    "* Upload your .ipynb file to Gradescope when done\n",
    "---"
   ]
  },
  {
   "cell_type": "markdown",
   "metadata": {
    "id": "43534tdfgs-v"
   },
   "source": [
    "In this lab, we'll train models for sentiment classification and experiment with learned embeddings for text features."
   ]
  },
  {
   "cell_type": "code",
   "execution_count": 1,
   "metadata": {
    "id": "7X58hOMTUH-w"
   },
   "outputs": [
    {
     "name": "stderr",
     "output_type": "stream",
     "text": [
      "/tmp/ipykernel_311619/965524898.py:4: DeprecationWarning: \n",
      "Pyarrow will become a required dependency of pandas in the next major release of pandas (pandas 3.0),\n",
      "(to allow more performant data types, such as the Arrow string type, and better interoperability with other libraries)\n",
      "but was not found to be installed on your system.\n",
      "If this would cause problems for you,\n",
      "please provide us feedback at https://github.com/pandas-dev/pandas/issues/54466\n",
      "        \n",
      "  import pandas as pd\n",
      "2024-03-16 19:33:36.407459: E external/local_xla/xla/stream_executor/cuda/cuda_dnn.cc:9261] Unable to register cuDNN factory: Attempting to register factory for plugin cuDNN when one has already been registered\n",
      "2024-03-16 19:33:36.407485: E external/local_xla/xla/stream_executor/cuda/cuda_fft.cc:607] Unable to register cuFFT factory: Attempting to register factory for plugin cuFFT when one has already been registered\n",
      "2024-03-16 19:33:36.408422: E external/local_xla/xla/stream_executor/cuda/cuda_blas.cc:1515] Unable to register cuBLAS factory: Attempting to register factory for plugin cuBLAS when one has already been registered\n",
      "2024-03-16 19:33:36.413425: I tensorflow/core/platform/cpu_feature_guard.cc:182] This TensorFlow binary is optimized to use available CPU instructions in performance-critical operations.\n",
      "To enable the following instructions: AVX2 FMA, in other operations, rebuild TensorFlow with the appropriate compiler flags.\n",
      "2024-03-16 19:33:37.138648: W tensorflow/compiler/tf2tensorrt/utils/py_utils.cc:38] TF-TRT Warning: Could not find TensorRT\n"
     ]
    }
   ],
   "source": [
    "# Import the libraries we'll use below.\n",
    "import numpy as np\n",
    "from matplotlib import pyplot as plt\n",
    "import pandas as pd\n",
    "import seaborn as sns  # for nicer plots\n",
    "sns.set(style=\"darkgrid\")  # default style\n",
    "import plotly.graph_objs as plotly  # for interactive plots\n",
    "\n",
    "import tensorflow as tf\n",
    "from tensorflow.keras.datasets import imdb"
   ]
  },
  {
   "cell_type": "markdown",
   "metadata": {
    "id": "eqppUDpmdptk"
   },
   "source": [
    "## Data for Sentiment Classification\n",
    "\n",
    "In this lab, we'll train a *sentiment* classifier for movie reviews. That is, the input is the text of a movie review and the output is the probability the input was a positive review. The target labels are binary, 0 for negative and 1 for positive.\n",
    "\n",
    "Our data includes 50,000 movie reviews on IMDB. The data comes pre-segmented into train and test splits. The [data loading function](https://www.tensorflow.org/api_docs/python/tf/keras/datasets/imdb/load_data) below also splits each input text into tokens (words) and maps the words to integer values. Each input is a sequence of integers corresponding to the words."
   ]
  },
  {
   "cell_type": "code",
   "execution_count": 2,
   "metadata": {
    "colab": {
     "base_uri": "https://localhost:8080/"
    },
    "executionInfo": {
     "elapsed": 5870,
     "status": "ok",
     "timestamp": 1646684495083,
     "user": {
      "displayName": "Daniel Gillick",
      "photoUrl": "https://lh3.googleusercontent.com/a-/AOh14Gg9DrSMlwYnG9EolecuJqe8n9m7fpcje4_UbYrhQ10=s64",
      "userId": "01872965353911650729"
     },
     "user_tz": 600
    },
    "id": "s6M-asvhQWV_",
    "outputId": "1aca520b-e1b6-4006-ac44-78ff33ac6da9"
   },
   "outputs": [
    {
     "name": "stdout",
     "output_type": "stream",
     "text": [
      "X_train.shape: (25000,)\n",
      "Y_train.shape: (25000,)\n",
      "X_test.shape: (25000,)\n",
      "Y_test.shape: (25000,)\n",
      "First training example data: [1, 14, 22, 16, 43, 530, 973, 1622, 1385, 65, 458, 4468, 66, 3941, 4, 173, 36, 256, 5, 25, 100, 43, 838, 112, 50, 670, 22665, 9, 35, 480, 284, 5, 150, 4, 172, 112, 167, 21631, 336, 385, 39, 4, 172, 4536, 1111, 17, 546, 38, 13, 447, 4, 192, 50, 16, 6, 147, 2025, 19, 14, 22, 4, 1920, 4613, 469, 4, 22, 71, 87, 12, 16, 43, 530, 38, 76, 15, 13, 1247, 4, 22, 17, 515, 17, 12, 16, 626, 18, 19193, 5, 62, 386, 12, 8, 316, 8, 106, 5, 4, 2223, 5244, 16, 480, 66, 3785, 33, 4, 130, 12, 16, 38, 619, 5, 25, 124, 51, 36, 135, 48, 25, 1415, 33, 6, 22, 12, 215, 28, 77, 52, 5, 14, 407, 16, 82, 10311, 8, 4, 107, 117, 5952, 15, 256, 4, 31050, 7, 3766, 5, 723, 36, 71, 43, 530, 476, 26, 400, 317, 46, 7, 4, 12118, 1029, 13, 104, 88, 4, 381, 15, 297, 98, 32, 2071, 56, 26, 141, 6, 194, 7486, 18, 4, 226, 22, 21, 134, 476, 26, 480, 5, 144, 30, 5535, 18, 51, 36, 28, 224, 92, 25, 104, 4, 226, 65, 16, 38, 1334, 88, 12, 16, 283, 5, 16, 4472, 113, 103, 32, 15, 16, 5345, 19, 178, 32]\n",
      "First training example label: 1\n"
     ]
    }
   ],
   "source": [
    "(X_train, Y_train), (X_test, Y_test) = imdb.load_data(path=\"imdb.npz\",\n",
    "                                                      num_words=None,\n",
    "                                                      skip_top=0,\n",
    "                                                      maxlen=None,\n",
    "                                                      seed=113,\n",
    "                                                      start_char=1,\n",
    "                                                      oov_char=2,\n",
    "                                                      index_from=3)\n",
    "\n",
    "print(\"X_train.shape:\", X_train.shape)\n",
    "print(\"Y_train.shape:\", Y_train.shape)\n",
    "print(\"X_test.shape:\", X_test.shape)\n",
    "print(\"Y_test.shape:\", Y_test.shape)\n",
    "\n",
    "print('First training example data:', X_train[0])\n",
    "print('First training example label:', Y_train[0])"
   ]
  },
  {
   "cell_type": "markdown",
   "metadata": {
    "id": "MyIWiy-4gQK-"
   },
   "source": [
    "So our first training example is a positive review. But that sequence of integer IDs is hard to read. The data loader provides a dictionary mapping words to IDs. Let's create a reverse index.\n"
   ]
  },
  {
   "cell_type": "code",
   "execution_count": 3,
   "metadata": {
    "colab": {
     "base_uri": "https://localhost:8080/"
    },
    "executionInfo": {
     "elapsed": 801,
     "status": "ok",
     "timestamp": 1646684508506,
     "user": {
      "displayName": "Daniel Gillick",
      "photoUrl": "https://lh3.googleusercontent.com/a-/AOh14Gg9DrSMlwYnG9EolecuJqe8n9m7fpcje4_UbYrhQ10=s64",
      "userId": "01872965353911650729"
     },
     "user_tz": 600
    },
    "id": "HQ-qATkhUj7c",
    "outputId": "eea86a69-fe6a-4cdb-ac8c-9307a5118e47"
   },
   "outputs": [
    {
     "name": "stdout",
     "output_type": "stream",
     "text": [
      "Largest ID: 88587\n"
     ]
    }
   ],
   "source": [
    "# The imdb dataset comes with an index mapping words to integers.\n",
    "# In the index the words are ordered by frequency they occur.\n",
    "index = imdb.get_word_index()\n",
    "\n",
    "# Because we used index_from=3 (above), setting aside ids below 3 for special\n",
    "# symbols, we need to add 3 to the index values.\n",
    "index = dict([(key, value+3) for (key, value) in index.items()])\n",
    "\n",
    "# Create a reverse index so we can lookup tokens assigned to each id.\n",
    "reverse_index = dict([(value, key) for (key, value) in index.items()])\n",
    "reverse_index[1] = '<START>'  # start of input\n",
    "reverse_index[2] = '#'        # out-of-vocabulary (OOV)\n",
    "reverse_index[3] = '<UNUSED>'\n",
    "\n",
    "max_id = max(reverse_index.keys())\n",
    "print('Largest ID:', max_id)"
   ]
  },
  {
   "cell_type": "markdown",
   "metadata": {
    "id": "h76-b07ehWNQ"
   },
   "source": [
    "Note that our index (and reverse index) have over 88,000 tokens. That's quite a large vocabulary! Let's also write a decoding function for our data."
   ]
  },
  {
   "cell_type": "code",
   "execution_count": 4,
   "metadata": {
    "colab": {
     "base_uri": "https://localhost:8080/"
    },
    "executionInfo": {
     "elapsed": 358,
     "status": "ok",
     "timestamp": 1646684531998,
     "user": {
      "displayName": "Daniel Gillick",
      "photoUrl": "https://lh3.googleusercontent.com/a-/AOh14Gg9DrSMlwYnG9EolecuJqe8n9m7fpcje4_UbYrhQ10=s64",
      "userId": "01872965353911650729"
     },
     "user_tz": 600
    },
    "id": "UjobmouHS5Dm",
    "outputId": "29975a48-7fda-4600-bd0c-693c35dd8a54"
   },
   "outputs": [
    {
     "name": "stdout",
     "output_type": "stream",
     "text": [
      "[1, 14, 22, 16, 43, 530, 973, 1622, 1385, 65, 458, 4468, 66, 3941, 4, 173, 36, 256, 5, 25, 100, 43, 838, 112, 50, 670, 22665, 9, 35, 480, 284, 5, 150, 4, 172, 112, 167, 21631, 336, 385, 39, 4, 172, 4536, 1111, 17, 546, 38, 13, 447, 4, 192, 50, 16, 6, 147, 2025, 19, 14, 22, 4, 1920, 4613, 469, 4, 22, 71, 87, 12, 16, 43, 530, 38, 76, 15, 13, 1247, 4, 22, 17, 515, 17, 12, 16, 626, 18, 19193, 5, 62, 386, 12, 8, 316, 8, 106, 5, 4, 2223, 5244, 16, 480, 66, 3785, 33, 4, 130, 12, 16, 38, 619, 5, 25, 124, 51, 36, 135, 48, 25, 1415, 33, 6, 22, 12, 215, 28, 77, 52, 5, 14, 407, 16, 82, 10311, 8, 4, 107, 117, 5952, 15, 256, 4, 31050, 7, 3766, 5, 723, 36, 71, 43, 530, 476, 26, 400, 317, 46, 7, 4, 12118, 1029, 13, 104, 88, 4, 381, 15, 297, 98, 32, 2071, 56, 26, 141, 6, 194, 7486, 18, 4, 226, 22, 21, 134, 476, 26, 480, 5, 144, 30, 5535, 18, 51, 36, 28, 224, 92, 25, 104, 4, 226, 65, 16, 38, 1334, 88, 12, 16, 283, 5, 16, 4472, 113, 103, 32, 15, 16, 5345, 19, 178, 32]\n",
      "<START> this film was just brilliant casting location scenery story direction everyone's really suited the part they played and you could just imagine being there robert redford's is an amazing actor and now the same being director norman's father came from the same scottish island as myself so i loved the fact there was a real connection with this film the witty remarks throughout the film were great it was just brilliant so much that i bought the film as soon as it was released for retail and would recommend it to everyone to watch and the fly fishing was amazing really cried at the end it was so sad and you know what they say if you cry at a film it must have been good and this definitely was also congratulations to the two little boy's that played the part's of norman and paul they were just brilliant children are often left out of the praising list i think because the stars that play them all grown up are such a big profile for the whole film but these children are amazing and should be praised for what they have done don't you think the whole story was so lovely because it was true and was someone's life after all that was shared with us all\n"
     ]
    }
   ],
   "source": [
    "def decode(token_ids):\n",
    "  \"\"\"Return a string with the decoded text given a list of token ids.\"\"\"\n",
    "  # Try looking up each id in the index, but return '#' (for OOV) if not found.\n",
    "  tokens = [reverse_index.get(i, \"#\") for i in token_ids]\n",
    "\n",
    "  # Connect the string tokens with a space.\n",
    "  return ' '.join(tokens)\n",
    "\n",
    "# Show the ids corresponding tokens in the first example.\n",
    "print(X_train[0])\n",
    "print(decode(X_train[0]))"
   ]
  },
  {
   "cell_type": "markdown",
   "metadata": {
    "id": "g47w5CackGBA"
   },
   "source": [
    "### Text Lengths\n",
    "As usual, let's start with some data analysis. How long are the reviews? Is there a difference in length between positive and negative reviews? A histogram will help answer these questions."
   ]
  },
  {
   "cell_type": "code",
   "execution_count": 5,
   "metadata": {
    "colab": {
     "base_uri": "https://localhost:8080/",
     "height": 305
    },
    "executionInfo": {
     "elapsed": 762,
     "status": "ok",
     "timestamp": 1646684547021,
     "user": {
      "displayName": "Daniel Gillick",
      "photoUrl": "https://lh3.googleusercontent.com/a-/AOh14Gg9DrSMlwYnG9EolecuJqe8n9m7fpcje4_UbYrhQ10=s64",
      "userId": "01872965353911650729"
     },
     "user_tz": 600
    },
    "id": "kEOgzo8Gk3r7",
    "outputId": "e7446ffd-10c5-4c64-a5bc-7cab81a1d73f"
   },
   "outputs": [
    {
     "data": {
      "image/png": "[encoded data removed]",
      "text/plain": [
       "<Figure size 640x480 with 1 Axes>"
      ]
     },
     "metadata": {},
     "output_type": "display_data"
    },
    {
     "name": "stdout",
     "output_type": "stream",
     "text": [
      "Longest positive review: 2494\n",
      "Longest negative review: 1571\n"
     ]
    }
   ],
   "source": [
    "# Create a list of lengths for training examples with a positive label.\n",
    "text_lengths_pos = [len(x) for (i, x) in enumerate(X_train) if Y_train[i]]\n",
    "\n",
    "# And a list of lengths for training examples with a negative label.\n",
    "text_lengths_neg = [len(x) for (i, x) in enumerate(X_train) if not Y_train[i]]\n",
    "\n",
    "# The histogram function can take a list of inputs and corresponding labels.\n",
    "plt.hist([text_lengths_pos, text_lengths_neg], bins=20, range=(0, 1000),\n",
    "         label=['positive', 'negative'])\n",
    "plt.legend()\n",
    "plt.show()\n",
    "\n",
    "# Also check the longest reviews.\n",
    "print('Longest positive review:', max(text_lengths_pos))\n",
    "print('Longest negative review:', max(text_lengths_neg))"
   ]
  },
  {
   "cell_type": "markdown",
   "metadata": {
    "id": "c3ZE9gpkml3a"
   },
   "source": [
    "---\n",
    "### Exercise 1: Token Counts (20 points)\n",
    "For each of the given tokens, construct a table with the number of positive training examples that include that token and the number of negative training examples that include that token. For reference, here are the counts for the first two tokens:\n",
    "\n",
    "|Token|Pos Count|Neg Count|\n",
    "|-|-|-|\n",
    "|good|4767|4849|\n",
    "|bad|1491|4396|"
   ]
  },
  {
   "cell_type": "code",
   "execution_count": 6,
   "metadata": {
    "id": "8YOYo6d01aWI"
   },
   "outputs": [
    {
     "data": {
      "text/html": [
       "<table border=\"1\" class=\"dataframe\">\n",
       "  <thead>\n",
       "    <tr style=\"text-align: right;\">\n",
       "      <th>Token</th>\n",
       "      <th>Pos Count</th>\n",
       "      <th>Neg Count</th>\n",
       "    </tr>\n",
       "  </thead>\n",
       "  <tbody>\n",
       "    <tr>\n",
       "      <td>good</td>\n",
       "      <td>4767</td>\n",
       "      <td>4849</td>\n",
       "    </tr>\n",
       "    <tr>\n",
       "      <td>bad</td>\n",
       "      <td>1491</td>\n",
       "      <td>4396</td>\n",
       "    </tr>\n",
       "    <tr>\n",
       "      <td>amazing</td>\n",
       "      <td>868</td>\n",
       "      <td>240</td>\n",
       "    </tr>\n",
       "    <tr>\n",
       "      <td>boring</td>\n",
       "      <td>301</td>\n",
       "      <td>1205</td>\n",
       "    </tr>\n",
       "    <tr>\n",
       "      <td>laugh</td>\n",
       "      <td>525</td>\n",
       "      <td>685</td>\n",
       "    </tr>\n",
       "    <tr>\n",
       "      <td>cry</td>\n",
       "      <td>231</td>\n",
       "      <td>114</td>\n",
       "    </tr>\n",
       "  </tbody>\n",
       "</table>"
      ],
      "text/plain": [
       "<IPython.core.display.HTML object>"
      ]
     },
     "metadata": {},
     "output_type": "display_data"
    }
   ],
   "source": [
    "tokens = ['good', 'bad', 'amazing', 'boring', 'laugh', 'cry']\n",
    "# YOUR CODE HERE\n",
    "from IPython.display import HTML\n",
    "XY_train = pd.DataFrame({\"X\": X_train, \"Token\": Y_train})\n",
    "XY_train[\"X\"] = XY_train[\"X\"].apply(lambda list: [reverse_index[item] for item in list])\n",
    "XY_train[\"Token\"] = XY_train[\"Token\"].map({1:\"Pos Count\", 0: \"Neg Count\"})\n",
    "table = pd.DataFrame(columns=[\"Token\", \"Pos Count\", \"Neg Count\"])\n",
    "for token in tokens:\n",
    "    mask = XY_train['X'].apply(lambda x: token in x) \n",
    "    counts = XY_train.loc[mask, 'Token'].value_counts()   \n",
    "    row = pd.DataFrame([{\n",
    "        \"Token\": token,\n",
    "        \"Pos Count\": counts.get(\"Pos Count\", 0),\n",
    "        \"Neg Count\": counts.get(\"Neg Count\", 0)\n",
    "    }])\n",
    "    table = pd.concat([table,row], ignore_index=True)\n",
    "\n",
    "display(HTML(table.to_html(index=False)))"
   ]
  },
  {
   "cell_type": "markdown",
   "metadata": {},
   "source": [
    "---"
   ]
  },
  {
   "cell_type": "markdown",
   "metadata": {
    "id": "hhzt-LnQ1m8w"
   },
   "source": [
    "## Feature Representation\n",
    "Consider the difference between the pixel features we used for image classification and the text features we are now dealing with.\n",
    "\n",
    "An image had 784 pixel positions. At each position, there is a single value in [0,1] (after normalization).\n",
    "\n",
    "In contrast, a review has a variable number of ordered tokens (up to 2494 in the training examples). Each token occurs in a particular position. We can think of the token positions much like the 784 pixel positions, except that some of the trailing positions are empty, since review lengths vary.  At each token position, there is a single token, one of the 88587 entries in the vocabulary. So we can think of a review as a (2500, 90000) matrix: At each of ~2500 token positions, we have 1 of ~90000 token ids.\n",
    "\n",
    "This representation would have 2500 * 90000 = 225 million features -- quite a lot more complexity than the images, though as you'll see below, we will make some simplifying assumptions, reducing both the number of token positions and the number of vocabulary items."
   ]
  },
  {
   "cell_type": "markdown",
   "metadata": {
    "id": "Jm_F5JmWyfko"
   },
   "source": [
    "### Padding and Reduced Length\n",
    "As is clear from the length histogram, the current representation of the review text is a variable-length array. Since fixed-length arrays are easier to work with in Tensorflow, let's add special padding tokens at the end of each review until they are all the same length.\n",
    "\n",
    "We'll also use this operation to limit the number of token positions by truncating all reviews to a specified length. In the code below, as an example, we pad all training inputs to length 300."
   ]
  },
  {
   "cell_type": "code",
   "execution_count": 7,
   "metadata": {
    "colab": {
     "base_uri": "https://localhost:8080/"
    },
    "executionInfo": {
     "elapsed": 766,
     "status": "ok",
     "timestamp": 1646684609342,
     "user": {
      "displayName": "Daniel Gillick",
      "photoUrl": "https://lh3.googleusercontent.com/a-/AOh14Gg9DrSMlwYnG9EolecuJqe8n9m7fpcje4_UbYrhQ10=s64",
      "userId": "01872965353911650729"
     },
     "user_tz": 600
    },
    "id": "a4ou8bSUCWOx",
    "outputId": "be4bc9e1-47aa-4f82-e23b-569f8d6128a4"
   },
   "outputs": [
    {
     "name": "stdout",
     "output_type": "stream",
     "text": [
      "Length of X_train[0]: 218\n",
      "Length of X_train_padded[0]: 300\n",
      "[    1    14    22    16    43   530   973  1622  1385    65   458  4468\n",
      "    66  3941     4   173    36   256     5    25   100    43   838   112\n",
      "    50   670 22665     9    35   480   284     5   150     4   172   112\n",
      "   167 21631   336   385    39     4   172  4536  1111    17   546    38\n",
      "    13   447     4   192    50    16     6   147  2025    19    14    22\n",
      "     4  1920  4613   469     4    22    71    87    12    16    43   530\n",
      "    38    76    15    13  1247     4    22    17   515    17    12    16\n",
      "   626    18 19193     5    62   386    12     8   316     8   106     5\n",
      "     4  2223  5244    16   480    66  3785    33     4   130    12    16\n",
      "    38   619     5    25   124    51    36   135    48    25  1415    33\n",
      "     6    22    12   215    28    77    52     5    14   407    16    82\n",
      " 10311     8     4   107   117  5952    15   256     4 31050     7  3766\n",
      "     5   723    36    71    43   530   476    26   400   317    46     7\n",
      "     4 12118  1029    13   104    88     4   381    15   297    98    32\n",
      "  2071    56    26   141     6   194  7486    18     4   226    22    21\n",
      "   134   476    26   480     5   144    30  5535    18    51    36    28\n",
      "   224    92    25   104     4   226    65    16    38  1334    88    12\n",
      "    16   283     5    16  4472   113   103    32    15    16  5345    19\n",
      "   178    32     0     0     0     0     0     0     0     0     0     0\n",
      "     0     0     0     0     0     0     0     0     0     0     0     0\n",
      "     0     0     0     0     0     0     0     0     0     0     0     0\n",
      "     0     0     0     0     0     0     0     0     0     0     0     0\n",
      "     0     0     0     0     0     0     0     0     0     0     0     0\n",
      "     0     0     0     0     0     0     0     0     0     0     0     0\n",
      "     0     0     0     0     0     0     0     0     0     0     0     0]\n"
     ]
    }
   ],
   "source": [
    "def pad_data(sequences, max_length):\n",
    "  # Keras has a convenient utility for padding a sequence.\n",
    "  # Also make sure we get a numpy array rather than an array of lists.\n",
    "  return np.array(list(\n",
    "      tf.keras.preprocessing.sequence.pad_sequences(\n",
    "          sequences, maxlen=max_length, padding='post', value=0)))\n",
    "\n",
    "# Pad and truncate to 300 tokens.\n",
    "X_train_padded = pad_data(X_train, max_length=300)\n",
    "\n",
    "# Check the padded output.\n",
    "print('Length of X_train[0]:', len(X_train[0]))\n",
    "print('Length of X_train_padded[0]:', len(X_train_padded[0]))\n",
    "print(X_train_padded[0])"
   ]
  },
  {
   "cell_type": "markdown",
   "metadata": {
    "id": "lFEmcwBjL4e_"
   },
   "source": [
    "### Reduced Vocabulary\n",
    "We also want to be able to limit the vocabulary size. Since our padding function produces fixed-length sequences in a numpy matrix, we can use clever numpy indexing to efficiently replace all token ids larger than some value with the designated out-of-vocabulary (OOV) id.\n",
    "\n",
    "In the code below, as an example, we'll keep just token ids less than 1000, replacing all others with OOV."
   ]
  },
  {
   "cell_type": "code",
   "execution_count": 8,
   "metadata": {
    "colab": {
     "base_uri": "https://localhost:8080/"
    },
    "executionInfo": {
     "elapsed": 347,
     "status": "ok",
     "timestamp": 1646684634116,
     "user": {
      "displayName": "Daniel Gillick",
      "photoUrl": "https://lh3.googleusercontent.com/a-/AOh14Gg9DrSMlwYnG9EolecuJqe8n9m7fpcje4_UbYrhQ10=s64",
      "userId": "01872965353911650729"
     },
     "user_tz": 600
    },
    "id": "21qpyEgGNQeB",
    "outputId": "148ce890-4376-4c5a-f96a-9fb50cbe9538"
   },
   "outputs": [
    {
     "name": "stdout",
     "output_type": "stream",
     "text": [
      "[  1  14  22  16  43 530 973   2   2  65 458   2  66   2   4 173  36 256\n",
      "   5  25 100  43 838 112  50 670   2   9  35 480 284   5 150   4 172 112\n",
      " 167   2 336 385  39   4 172   2   2  17 546  38  13 447   4 192  50  16\n",
      "   6 147   2  19  14  22   4   2   2 469   4  22  71  87  12  16  43 530\n",
      "  38  76  15  13   2   4  22  17 515  17  12  16 626  18   2   5  62 386\n",
      "  12   8 316   8 106   5   4   2   2  16 480  66   2  33   4 130  12  16\n",
      "  38 619   5  25 124  51  36 135  48  25   2  33   6  22  12 215  28  77\n",
      "  52   5  14 407  16  82   2   8   4 107 117   2  15 256   4   2   7   2\n",
      "   5 723  36  71  43 530 476  26 400 317  46   7   4   2   2  13 104  88\n",
      "   4 381  15 297  98  32   2  56  26 141   6 194   2  18   4 226  22  21\n",
      " 134 476  26 480   5 144  30   2  18  51  36  28 224  92  25 104   4 226\n",
      "  65  16  38   2  88  12  16 283   5  16   2 113 103  32  15  16   2  19\n",
      " 178  32   0   0   0   0   0   0   0   0   0   0   0   0   0   0   0   0\n",
      "   0   0   0   0   0   0   0   0   0   0   0   0   0   0   0   0   0   0\n",
      "   0   0   0   0   0   0   0   0   0   0   0   0   0   0   0   0   0   0\n",
      "   0   0   0   0   0   0   0   0   0   0   0   0   0   0   0   0   0   0\n",
      "   0   0   0   0   0   0   0   0   0   0   0   0]\n",
      "<START> this film was just brilliant casting # # story direction # really # the part they played and you could just imagine being there robert # is an amazing actor and now the same being director # father came from the same # # as myself so i loved the fact there was a real # with this film the # # throughout the film were great it was just brilliant so much that i # the film as soon as it was released for # and would recommend it to everyone to watch and the # # was amazing really # at the end it was so sad and you know what they say if you # at a film it must have been good and this definitely was also # to the two little # that played the # of # and paul they were just brilliant children are often left out of the # # i think because the stars that play them all # up are such a big # for the whole film but these children are amazing and should be # for what they have done don't you think the whole story was so # because it was true and was # life after all that was # with us all # # # # # # # # # # # # # # # # # # # # # # # # # # # # # # # # # # # # # # # # # # # # # # # # # # # # # # # # # # # # # # # # # # # # # # # # # # # # # # # # # #\n"
     ]
    }
   ],
   "source": [
    "def limit_vocab(sequences, max_token_id, oov_id=2):\n",
    "  \"\"\"Replace token ids greater than or equal to max_token_id with the oov_id.\"\"\"\n",
    "  reduced_sequences = np.copy(sequences)\n",
    "  reduced_sequences[reduced_sequences >= max_token_id] = oov_id\n",
    "  return reduced_sequences\n",
    "\n",
    "# Reduce vocabulary to 1000 tokens.\n",
    "X_train_reduced = limit_vocab(X_train_padded, max_token_id=1000)\n",
    "print(X_train_reduced[0])\n",
    "\n",
    "# Decode to see what this looks like in tokens. Note the '#' for OOVs.\n",
    "print(decode(X_train_reduced[0]))"
   ]
  },
  {
   "cell_type": "markdown",
   "metadata": {
    "id": "d24mOPC6ybC4"
   },
   "source": [
    "### One-hot Encoding\n",
    "Our current feature representations are **sparse**. That is, we only keep track of the token ids that are present in the input. A **one-hot** encoding replaces a value like 22 (corresponding to 'film') with an array with a single 1 at position 22 and zeros everywhere else. This will be very memory-inefficient, but we'll do it anyway for clarity.\n",
    "\n",
    "As discussed above, let's dramatically reduce both the number of token positions (review length) and the number of token ids (vocabulary). We'll clip each review after 20 tokens (so 2500 -> 20) and keep only the most common 1000 tokens (so 90000 -> 1000)."
   ]
  },
  {
   "cell_type": "code",
   "execution_count": 9,
   "metadata": {
    "colab": {
     "base_uri": "https://localhost:8080/"
    },
    "executionInfo": {
     "elapsed": 1777,
     "status": "ok",
     "timestamp": 1646684668163,
     "user": {
      "displayName": "Daniel Gillick",
      "photoUrl": "https://lh3.googleusercontent.com/a-/AOh14Gg9DrSMlwYnG9EolecuJqe8n9m7fpcje4_UbYrhQ10=s64",
      "userId": "01872965353911650729"
     },
     "user_tz": 600
    },
    "id": "EXzkqVL3Jufj",
    "outputId": "69a06ea3-61e2-4d2b-ed57-69c51ee2c5f4"
   },
   "outputs": [
    {
     "name": "stdout",
     "output_type": "stream",
     "text": [
      "X_train_one_hot shape: (25000, 20, 1000)\n"
     ]
    }
   ],
   "source": [
    "# Keras has a util to create one-hot encodings.\n",
    "X_train_padded = pad_data(X_train, max_length=20)\n",
    "X_train_reduced = limit_vocab(X_train_padded, max_token_id=1000)\n",
    "X_train_one_hot = tf.keras.utils.to_categorical(X_train_reduced)\n",
    "print('X_train_one_hot shape:', X_train_one_hot.shape)"
   ]
  },
  {
   "cell_type": "markdown",
   "metadata": {
    "id": "B5RvIN4w66Ej"
   },
   "source": [
    "Note the shape of the one-hot encoded features. For each of our 25000 training examples, we have a 20 x 1000 matrix. That is, for each of 20 token positions, we have a vector of 1000 elements containing a single 1 and 999 zeros.\n",
    "\n",
    "We can think of these 1000-dimensional one-hot arrays as **embeddings**. Each token in the input has a 1000-dimensional representation. But because of the one-hot setup, the distance between each pair of tokens is the same ([1,0,0,...], [0,1,0,...], etc.). By contrast, learned embeddings result in meaningful distances between pairs of tokens. We'll get to that soon."
   ]
  },
  {
   "cell_type": "markdown",
   "metadata": {
    "id": "296Cnt647b5c"
   },
   "source": [
    "## Logistic Regression with One-Hot Encodings\n",
    "Let's start with something familiar -- logistic regression. Since our feature representation is in 2 dimensions (20 x 1000), we need to flatten it to pass it to Keras (remember we did this with the pixel data too). Let's try two strategies for flattening.\n",
    "\n",
    "1. Flatten by *concatenating* (as we did with pixels), turning (20 x 1000) data into (20000,) data. The result is a separate feature for each token at each position.\n",
    "2. Flatten by *averaging* over token positions, turning (20 x 1000) data into (1000,) data. The result is an array with average token counts, ignoring position.\n",
    "\n",
    "NOTE: Our prior assignments have used the standard Stochastic Gradient Descent (SGD) optimizer to compute the gradient from an estimate of the loss (based on the current mini-batch). There are many alternative optimizers. Here we'll use the **Adam** optimizer, which sometimes gives better results. One key characteristic of Adam is that it effectively uses a different learning rate for each parameter rather than a fixed learning rate as in SGD."
   ]
  },
  {
   "cell_type": "code",
   "execution_count": 10,
   "metadata": {
    "id": "6m6eebM-0dUW"
   },
   "outputs": [],
   "source": [
    "def build_onehot_model(average_over_positions=False):\n",
    "  \"\"\"Build a tf.keras model for one-hot data.\"\"\"\n",
    "  # Clear session and remove randomness.\n",
    "  tf.keras.backend.clear_session()\n",
    "  tf.random.set_seed(0)\n",
    "\n",
    "  model = tf.keras.Sequential()\n",
    "  if average_over_positions:\n",
    "    # This layer averages over the first dimension of the input by default.\n",
    "    model.add(tf.keras.layers.GlobalAveragePooling1D())\n",
    "  else:\n",
    "    # Concatenate.\n",
    "    model.add(tf.keras.layers.Flatten())\n",
    "  model.add(tf.keras.layers.Dense(\n",
    "      units=1,                     # output dim (for binary classification)\n",
    "      activation=\"sigmoid\"         # sigmoid activation for classification\n",
    "  ))\n",
    "\n",
    "  model.compile(loss='binary_crossentropy',   # this is a classification task\n",
    "                optimizer='adam',             # fancy optimizer\n",
    "                metrics=['accuracy'])\n",
    "\n",
    "  return model"
   ]
  },
  {
   "cell_type": "markdown",
   "metadata": {
    "id": "NY3W_1-OSZ2X"
   },
   "source": [
    "Now let's try fitting the model to our training data and check performance metrics on the validation (held-out) data. But first, here's a function for plotting the learning curves given the training history object we get from Keras."
   ]
  },
  {
   "cell_type": "code",
   "execution_count": 11,
   "metadata": {
    "id": "cOVmajSuMjN6"
   },
   "outputs": [],
   "source": [
    "def plot_history(history):\n",
    "  plt.ylabel('Loss')\n",
    "  plt.xlabel('Epoch')\n",
    "  plt.xticks(range(0, len(history['loss'] + 1)))\n",
    "  plt.plot(history['loss'], label=\"training\", marker='o')\n",
    "  plt.plot(history['val_loss'], label=\"validation\", marker='o')\n",
    "  plt.legend()\n",
    "  plt.show()"
   ]
  },
  {
   "cell_type": "code",
   "execution_count": 12,
   "metadata": {
    "colab": {
     "base_uri": "https://localhost:8080/",
     "height": 478
    },
    "executionInfo": {
     "elapsed": 22140,
     "status": "ok",
     "timestamp": 1646684718388,
     "user": {
      "displayName": "Daniel Gillick",
      "photoUrl": "https://lh3.googleusercontent.com/a-/AOh14Gg9DrSMlwYnG9EolecuJqe8n9m7fpcje4_UbYrhQ10=s64",
      "userId": "01872965353911650729"
     },
     "user_tz": 600
    },
    "id": "MyE4PgX70_op",
    "outputId": "3de05dfa-f372-4b77-ba43-f212c2f47c1e"
   },
   "outputs": [
    {
     "name": "stderr",
     "output_type": "stream",
     "text": [
      "2024-03-16 19:33:41.756846: I external/local_xla/xla/stream_executor/cuda/cuda_executor.cc:901] successful NUMA node read from SysFS had negative value (-1), but there must be at least one NUMA node, so returning NUMA node zero. See more at https://github.com/torvalds/linux/blob/v6.0/Documentation/ABI/testing/sysfs-bus-pci#L344-L355\n",
      "2024-03-16 19:33:41.787705: I external/local_xla/xla/stream_executor/cuda/cuda_executor.cc:901] successful NUMA node read from SysFS had negative value (-1), but there must be at least one NUMA node, so returning NUMA node zero. See more at https://github.com/torvalds/linux/blob/v6.0/Documentation/ABI/testing/sysfs-bus-pci#L344-L355\n",
      "2024-03-16 19:33:41.787907: I external/local_xla/xla/stream_executor/cuda/cuda_executor.cc:901] successful NUMA node read from SysFS had negative value (-1), but there must be at least one NUMA node, so returning NUMA node zero. See more at https://github.com/torvalds/linux/blob/v6.0/Documentation/ABI/testing/sysfs-bus-pci#L344-L355\n",
      "2024-03-16 19:33:41.789007: I external/local_xla/xla/stream_executor/cuda/cuda_executor.cc:901] successful NUMA node read from SysFS had negative value (-1), but there must be at least one NUMA node, so returning NUMA node zero. See more at https://github.com/torvalds/linux/blob/v6.0/Documentation/ABI/testing/sysfs-bus-pci#L344-L355\n",
      "2024-03-16 19:33:41.789189: I external/local_xla/xla/stream_executor/cuda/cuda_executor.cc:901] successful NUMA node read from SysFS had negative value (-1), but there must be at least one NUMA node, so returning NUMA node zero. See more at https://github.com/torvalds/linux/blob/v6.0/Documentation/ABI/testing/sysfs-bus-pci#L344-L355\n",
      "2024-03-16 19:33:41.789346: I external/local_xla/xla/stream_executor/cuda/cuda_executor.cc:901] successful NUMA node read from SysFS had negative value (-1), but there must be at least one NUMA node, so returning NUMA node zero. See more at https://github.com/torvalds/linux/blob/v6.0/Documentation/ABI/testing/sysfs-bus-pci#L344-L355\n",
      "2024-03-16 19:33:41.846219: I external/local_xla/xla/stream_executor/cuda/cuda_executor.cc:901] successful NUMA node read from SysFS had negative value (-1), but there must be at least one NUMA node, so returning NUMA node zero. See more at https://github.com/torvalds/linux/blob/v6.0/Documentation/ABI/testing/sysfs-bus-pci#L344-L355\n",
      "2024-03-16 19:33:41.846406: I external/local_xla/xla/stream_executor/cuda/cuda_executor.cc:901] successful NUMA node read from SysFS had negative value (-1), but there must be at least one NUMA node, so returning NUMA node zero. See more at https://github.com/torvalds/linux/blob/v6.0/Documentation/ABI/testing/sysfs-bus-pci#L344-L355\n",
      "2024-03-16 19:33:41.846569: I external/local_xla/xla/stream_executor/cuda/cuda_executor.cc:901] successful NUMA node read from SysFS had negative value (-1), but there must be at least one NUMA node, so returning NUMA node zero. See more at https://github.com/torvalds/linux/blob/v6.0/Documentation/ABI/testing/sysfs-bus-pci#L344-L355\n",
      "2024-03-16 19:33:41.846696: I tensorflow/core/common_runtime/gpu/gpu_device.cc:1929] Created device /job:localhost/replica:0/task:0/device:GPU:0 with 9696 MB memory:  -> device: 0, name: NVIDIA GeForce RTX 3080, pci bus id: 0000:08:00.0, compute capability: 8.6\n"
     ]
    },
    {
     "name": "stdout",
     "output_type": "stream",
     "text": [
      "Epoch 1/5\n"
     ]
    },
    {
     "name": "stderr",
     "output_type": "stream",
     "text": [
      "2024-03-16 19:33:44.994210: I external/local_tsl/tsl/platform/default/subprocess.cc:304] Start cannot spawn child process: No such file or directory\n"
     ]
    },
    {
     "name": "stdout",
     "output_type": "stream",
     "text": [
      " 22/352 [>.............................] - ETA: 0s - loss: 0.6925 - accuracy: 0.5249  "
     ]
    },
    {
     "name": "stderr",
     "output_type": "stream",
     "text": [
      "2024-03-16 19:33:45.317176: I external/local_xla/xla/service/service.cc:168] XLA service 0x7aca878774c0 initialized for platform CUDA (this does not guarantee that XLA will be used). Devices:\n",
      "2024-03-16 19:33:45.317200: I external/local_xla/xla/service/service.cc:176]   StreamExecutor device (0): NVIDIA GeForce RTX 3080, Compute Capability 8.6\n",
      "2024-03-16 19:33:45.321401: I tensorflow/compiler/mlir/tensorflow/utils/dump_mlir_util.cc:269] disabling MLIR crash reproducer, set env var `MLIR_CRASH_REPRODUCER_DIRECTORY` to enable.\n",
      "2024-03-16 19:33:45.333681: I external/local_xla/xla/stream_executor/cuda/cuda_dnn.cc:454] Loaded cuDNN version 8904\n",
      "WARNING: All log messages before absl::InitializeLog() is called are written to STDERR\n",
      "I0000 00:00:1710632025.396258  311875 device_compiler.h:186] Compiled cluster using XLA!  This line is logged at most once for the lifetime of the process.\n"
     ]
    },
    {
     "name": "stdout",
     "output_type": "stream",
     "text": [
      "352/352 [==============================] - 2s 4ms/step - loss: 0.6788 - accuracy: 0.6112 - val_loss: 0.6658 - val_accuracy: 0.6504\n",
      "Epoch 2/5\n",
      "352/352 [==============================] - 1s 3ms/step - loss: 0.6335 - accuracy: 0.7444 - val_loss: 0.6454 - val_accuracy: 0.6704\n",
      "Epoch 3/5\n",
      "352/352 [==============================] - 1s 3ms/step - loss: 0.5969 - accuracy: 0.7748 - val_loss: 0.6293 - val_accuracy: 0.6760\n",
      "Epoch 4/5\n",
      "202/352 [================>.............] - ETA: 0s - loss: 0.5695 - accuracy: 0.8026"
     ]
    },
    {
     "name": "stdout",
     "output_type": "stream",
     "text": [
      "352/352 [==============================] - 1s 3ms/step - loss: 0.5667 - accuracy: 0.7965 - val_loss: 0.6181 - val_accuracy: 0.6784\n",
      "Epoch 5/5\n",
      "352/352 [==============================] - 1s 3ms/step - loss: 0.5411 - accuracy: 0.8089 - val_loss: 0.6090 - val_accuracy: 0.6816\n"
     ]
    },
    {
     "data": {
      "image/png": "[encoded data removed]",
      "text/plain": [
       "<Figure size 640x480 with 1 Axes>"
      ]
     },
     "metadata": {},
     "output_type": "display_data"
    }
   ],
   "source": [
    "model = build_onehot_model()\n",
    "\n",
    "# Fit the model.\n",
    "history = model.fit(\n",
    "  x = X_train_one_hot,  # one-hot training data\n",
    "  y = Y_train,          # corresponding binary labels\n",
    "  epochs=5,             # number of passes through the training data\n",
    "  batch_size=64,        # mini-batch size\n",
    "  validation_split=0.1, # use a fraction of the examples for validation\n",
    "  verbose=1             # display some progress output during training\n",
    "  )\n",
    "\n",
    "# Convert the return value into a DataFrame so we can see the train loss \n",
    "# and binary accuracy after every epoch.\n",
    "history = pd.DataFrame(history.history)\n",
    "plot_history(history)\n"
   ]
  },
  {
   "cell_type": "markdown",
   "metadata": {
    "id": "QuCh9aQPv7F_"
   },
   "source": [
    "---\n",
    "### Exercise 2: Comparing logistic regrerssion models (20 points)\n",
    "Train the one-hot model using both the concatenating and the averaging strategies and compare the results. Let's call these *LR-C* (Logistic Regression Concatenating) and *LR-A* (Logistic Regression Averaging). Then answer the following questions:\n",
    "\n",
    "1. What are the final training and validation accuracies for LR-C and LR-A?\n",
    "2. How many parameters are there in each model?\n",
    "3. Would you say that either model is overfitting? Why or why not?\n",
    "4. Briefly describe how LR-C differs from LR-A. How do you explain the relationship between their respective validation accuracy results? "
   ]
  },
  {
   "cell_type": "code",
   "execution_count": 13,
   "metadata": {},
   "outputs": [
    {
     "name": "stdout",
     "output_type": "stream",
     "text": [
      "Model: \"sequential\"\n",
      "_________________________________________________________________\n",
      " Layer (type)                Output Shape              Param #   \n",
      "=================================================================\n",
      " flatten (Flatten)           (None, 20000)             0         \n",
      "                                                                 \n",
      " dense (Dense)               (None, 1)                 20001     \n",
      "                                                                 \n",
      "=================================================================\n",
      "Total params: 20001 (78.13 KB)\n",
      "Trainable params: 20001 (78.13 KB)\n",
      "Non-trainable params: 0 (0.00 Byte)\n",
      "_________________________________________________________________\n",
      "None\n"
     ]
    },
    {
     "data": {
      "image/png": "[encoded data removed]",
      "text/plain": [
       "<Figure size 640x480 with 1 Axes>"
      ]
     },
     "metadata": {},
     "output_type": "display_data"
    },
    {
     "name": "stdout",
     "output_type": "stream",
     "text": [
      "Epoch 1/5\n",
      "352/352 [==============================] - 2s 4ms/step - loss: 0.6904 - accuracy: 0.6145 - val_loss: 0.6881 - val_accuracy: 0.6500\n",
      "Epoch 2/5\n",
      "352/352 [==============================] - 1s 3ms/step - loss: 0.6853 - accuracy: 0.6740 - val_loss: 0.6835 - val_accuracy: 0.6680\n",
      "Epoch 3/5\n",
      "352/352 [==============================] - 1s 3ms/step - loss: 0.6804 - accuracy: 0.6757 - val_loss: 0.6788 - val_accuracy: 0.6848\n",
      "Epoch 4/5\n",
      "352/352 [==============================] - 1s 3ms/step - loss: 0.6757 - accuracy: 0.6968 - val_loss: 0.6746 - val_accuracy: 0.6864\n",
      "Epoch 5/5\n",
      "352/352 [==============================] - 1s 3ms/step - loss: 0.6712 - accuracy: 0.6976 - val_loss: 0.6706 - val_accuracy: 0.6904\n",
      "Model: \"sequential\"\n",
      "_________________________________________________________________\n",
      " Layer (type)                Output Shape              Param #   \n",
      "=================================================================\n",
      " global_average_pooling1d (  (None, 1000)              0         \n",
      " GlobalAveragePooling1D)                                         \n",
      "                                                                 \n",
      " dense (Dense)               (None, 1)                 1001      \n",
      "                                                                 \n",
      "=================================================================\n",
      "Total params: 1001 (3.91 KB)\n",
      "Trainable params: 1001 (3.91 KB)\n",
      "Non-trainable params: 0 (0.00 Byte)\n",
      "_________________________________________________________________\n",
      "None\n"
     ]
    },
    {
     "data": {
      "image/png": "[encoded data removed]",
      "text/plain": [
       "<Figure size 640x480 with 1 Axes>"
      ]
     },
     "metadata": {},
     "output_type": "display_data"
    }
   ],
   "source": [
    "print(model.summary())\n",
    "plt.title(\"LR-C\")\n",
    "concat = plot_history(history)\n",
    "\n",
    "model = build_onehot_model(average_over_positions=True)\n",
    "\n",
    "# Fit the model.\n",
    "history = model.fit(\n",
    "  x = X_train_one_hot,  # one-hot training data\n",
    "  y = Y_train,          # corresponding binary labels\n",
    "  epochs=5,             # number of passes through the training data\n",
    "  batch_size=64,        # mini-batch size\n",
    "  validation_split=0.1, # use a fraction of the examples for validation\n",
    "  verbose=1             # display some progress output during training\n",
    "  )\n",
    "\n",
    "# Convert the return value into a DataFrame so we can see the train loss \n",
    "# and binary accuracy after every epoch.\n",
    "history = pd.DataFrame(history.history)\n",
    "print(model.summary())\n",
    "plt.title(\"LR-A\")\n",
    "avg = plot_history(history)"
   ]
  },
  {
   "cell_type": "markdown",
   "metadata": {
    "id": "CEAN5BejHc__"
   },
   "source": [
    "*Written answers:*\n",
    "\n",
    "1. LR-C Training: 0.5410, LR-C Validation: 0.6091, LR-A Training: 0.6715, LR-A Validation: 0.6710\n",
    "2. LR-C: 20001, LR-A: 1001\n",
    "3. LR-C is overfitting given that it's validation loss deviates substantially from its training loss\n",
    "4. The LR-C model effectively contains more information; it includes the position of tokens, where as the LR-A model effectively compresses the token data down to the average number of times tokens are used. The fact that the LR-C model overfits while the LR-A model does not tells us that for the use case of sentiment classification, it matters more how often certain word are used than the order in which they are used. Because of this, the position information effectively creates more variance, which the neural net will overfit to given is flexibility and increased number of parameters.\n"
   ]
  },
  {
   "cell_type": "markdown",
   "metadata": {},
   "source": [
    "---"
   ]
  },
  {
   "cell_type": "markdown",
   "metadata": {
    "id": "sJIBRqK7lsjG"
   },
   "source": [
    "## Logistic Regression with Embeddings\n",
    "Next, let's train model that replaces one-hot representations of each token with learned embeddings.\n",
    "\n",
    "The code below uses a Keras Embedding layer, which expects to receive a sparse (rather than one-hot) representation. That is, it expects a (padded) sequence of token ids; for each id, it looks up the corresponding embedding vector."
   ]
  },
  {
   "cell_type": "code",
   "execution_count": 14,
   "metadata": {
    "id": "ho6uOeCaBs2e"
   },
   "outputs": [],
   "source": [
    "def build_embeddings_model(average_over_positions=False,\n",
    "                           vocab_size=1000,\n",
    "                           sequence_length=20,\n",
    "                           embedding_dim=2):\n",
    "  \"\"\"Build a tf.keras model using embeddings.\"\"\"\n",
    "  # Clear session and remove randomness.\n",
    "  tf.keras.backend.clear_session()\n",
    "  tf.random.set_seed(0)\n",
    "\n",
    "  model = tf.keras.Sequential()\n",
    "  model.add(tf.keras.layers.Embedding(\n",
    "      input_dim=vocab_size,\n",
    "      output_dim=embedding_dim,\n",
    "      input_length=sequence_length)\n",
    "  )\n",
    "\n",
    "  if average_over_positions:\n",
    "    # This layer averages over the first dimension of the input by default.\n",
    "    model.add(tf.keras.layers.GlobalAveragePooling1D())\n",
    "  else:\n",
    "    # Concatenate.\n",
    "    model.add(tf.keras.layers.Flatten())\n",
    "  model.add(tf.keras.layers.Dense(\n",
    "      units=1,                     # output dim (for binary classification)\n",
    "      activation='sigmoid'         # apply the sigmoid function!\n",
    "  ))\n",
    "\n",
    "  model.compile(loss='binary_crossentropy', \n",
    "                optimizer='adam',\n",
    "                metrics=['accuracy'])\n",
    "\n",
    "  return model"
   ]
  },
  {
   "cell_type": "markdown",
   "metadata": {
    "id": "eyhoEjAiFSNB"
   },
   "source": [
    "Try training the model as before. We'll use the averaging strategy rather than the concatenating strategy for dealing with the token sequence. That is, we'll look up embedding vectors for each token. Then we'll average them to produce a single vector. Then we'll traing a logistic regression with that vector as input to predict the binary label."
   ]
  },
  {
   "cell_type": "code",
   "execution_count": 15,
   "metadata": {
    "colab": {
     "base_uri": "https://localhost:8080/",
     "height": 478
    },
    "executionInfo": {
     "elapsed": 5490,
     "status": "ok",
     "timestamp": 1646684762935,
     "user": {
      "displayName": "Daniel Gillick",
      "photoUrl": "https://lh3.googleusercontent.com/a-/AOh14Gg9DrSMlwYnG9EolecuJqe8n9m7fpcje4_UbYrhQ10=s64",
      "userId": "01872965353911650729"
     },
     "user_tz": 600
    },
    "id": "uYUE5UwkxoU8",
    "outputId": "20a4c237-8c49-4b24-9ea1-e0f325cb9908"
   },
   "outputs": [
    {
     "name": "stdout",
     "output_type": "stream",
     "text": [
      "Epoch 1/5\n",
      "  6/352 [..............................] - ETA: 35s - loss: 0.6932 - accuracy: 0.5182"
     ]
    },
    {
     "name": "stdout",
     "output_type": "stream",
     "text": [
      "352/352 [==============================] - 7s 17ms/step - loss: 0.6897 - accuracy: 0.6215 - val_loss: 0.6840 - val_accuracy: 0.6544\n",
      "Epoch 2/5\n",
      "352/352 [==============================] - 2s 4ms/step - loss: 0.6725 - accuracy: 0.6872 - val_loss: 0.6624 - val_accuracy: 0.6884\n",
      "Epoch 3/5\n",
      "352/352 [==============================] - 1s 3ms/step - loss: 0.6461 - accuracy: 0.7008 - val_loss: 0.6363 - val_accuracy: 0.6980\n",
      "Epoch 4/5\n",
      "352/352 [==============================] - 1s 3ms/step - loss: 0.6186 - accuracy: 0.7113 - val_loss: 0.6130 - val_accuracy: 0.7044\n",
      "Epoch 5/5\n",
      "352/352 [==============================] - 1s 3ms/step - loss: 0.5942 - accuracy: 0.7186 - val_loss: 0.5940 - val_accuracy: 0.7100\n"
     ]
    },
    {
     "data": {
      "image/png": "[encoded data removed]",
      "text/plain": [
       "<Figure size 640x480 with 1 Axes>"
      ]
     },
     "metadata": {},
     "output_type": "display_data"
    }
   ],
   "source": [
    "model = build_embeddings_model(average_over_positions=True,\n",
    "                               vocab_size=1000,\n",
    "                               sequence_length=20,\n",
    "                               embedding_dim=2)\n",
    "history = model.fit(\n",
    "  x = X_train_reduced,  # our sparse padded training data\n",
    "  y = Y_train,          # corresponding binary labels\n",
    "  epochs=5,             # number of passes through the training data\n",
    "  batch_size=64,        # mini-batch size\n",
    "  validation_split=0.1, # use a fraction of the examples for validation\n",
    "  verbose=1             # display some progress output during training\n",
    "  )\n",
    "\n",
    "history = pd.DataFrame(history.history)\n",
    "plot_history(history)"
   ]
  },
  {
   "cell_type": "markdown",
   "metadata": {
    "id": "V3k__61hFnag"
   },
   "source": [
    "---\n",
    "### Exercise 3: Experiments with embeddings (20 points)\n",
    "Train 6 models with embedding sizes in [2,4,8,16,32,64], keeping other settings fixed. Use the averaging strategy rather than the concatenating strategy.\n",
    "\n",
    "1. Construct a table with the training and validation accuracies of each model (after 5 training epochs).\n",
    "2. Compute the number of parameters in each model.\n",
    "3. Do learned embeddings appear to provide improved performance over the one-hot encoding? Why?"
   ]
  },
  {
   "cell_type": "code",
   "execution_count": 16,
   "metadata": {},
   "outputs": [
    {
     "name": "stdout",
     "output_type": "stream",
     "text": [
      "Epoch 1/5\n",
      "  7/352 [..............................] - ETA: 19s - loss: 0.6928 - accuracy: 0.5067"
     ]
    },
    {
     "name": "stdout",
     "output_type": "stream",
     "text": [
      "352/352 [==============================] - 4s 11ms/step - loss: 0.6886 - accuracy: 0.6252 - val_loss: 0.6819 - val_accuracy: 0.6596\n",
      "Epoch 2/5\n",
      "352/352 [==============================] - 1s 4ms/step - loss: 0.6694 - accuracy: 0.6892 - val_loss: 0.6591 - val_accuracy: 0.6904\n",
      "Epoch 3/5\n",
      "352/352 [==============================] - 1s 3ms/step - loss: 0.6423 - accuracy: 0.7017 - val_loss: 0.6329 - val_accuracy: 0.6996\n",
      "Epoch 4/5\n",
      "352/352 [==============================] - 1s 3ms/step - loss: 0.6149 - accuracy: 0.7124 - val_loss: 0.6102 - val_accuracy: 0.7040\n",
      "Epoch 5/5\n",
      "352/352 [==============================] - 1s 3ms/step - loss: 0.5911 - accuracy: 0.7192 - val_loss: 0.5917 - val_accuracy: 0.7116\n"
     ]
    },
    {
     "data": {
      "image/png": "[encoded data removed]",
      "text/plain": [
       "<Figure size 640x480 with 1 Axes>"
      ]
     },
     "metadata": {},
     "output_type": "display_data"
    },
    {
     "name": "stdout",
     "output_type": "stream",
     "text": [
      "Epoch 1/5\n",
      "352/352 [==============================] - 7s 18ms/step - loss: 0.6837 - accuracy: 0.6395 - val_loss: 0.6712 - val_accuracy: 0.6748\n",
      "Epoch 2/5\n",
      "352/352 [==============================] - 2s 4ms/step - loss: 0.6508 - accuracy: 0.6979 - val_loss: 0.6355 - val_accuracy: 0.6980\n",
      "Epoch 3/5\n",
      "352/352 [==============================] - 1s 3ms/step - loss: 0.6119 - accuracy: 0.7112 - val_loss: 0.6025 - val_accuracy: 0.7080\n",
      "Epoch 4/5\n",
      "352/352 [==============================] - 1s 3ms/step - loss: 0.5797 - accuracy: 0.7224 - val_loss: 0.5795 - val_accuracy: 0.7140\n",
      "Epoch 5/5\n",
      "352/352 [==============================] - 1s 4ms/step - loss: 0.5560 - accuracy: 0.7303 - val_loss: 0.5637 - val_accuracy: 0.7188\n"
     ]
    },
    {
     "data": {
      "image/png": "[encoded data removed]",
      "text/plain": [
       "<Figure size 640x480 with 1 Axes>"
      ]
     },
     "metadata": {},
     "output_type": "display_data"
    },
    {
     "name": "stdout",
     "output_type": "stream",
     "text": [
      "Epoch 1/5\n",
      "352/352 [==============================] - 7s 18ms/step - loss: 0.6801 - accuracy: 0.6510 - val_loss: 0.6611 - val_accuracy: 0.6808\n",
      "Epoch 2/5\n",
      "352/352 [==============================] - 2s 5ms/step - loss: 0.6303 - accuracy: 0.7075 - val_loss: 0.6105 - val_accuracy: 0.7084\n",
      "Epoch 3/5\n",
      "352/352 [==============================] - 1s 3ms/step - loss: 0.5812 - accuracy: 0.7200 - val_loss: 0.5758 - val_accuracy: 0.7144\n",
      "Epoch 4/5\n",
      "352/352 [==============================] - 1s 3ms/step - loss: 0.5492 - accuracy: 0.7321 - val_loss: 0.5570 - val_accuracy: 0.7208\n",
      "Epoch 5/5\n",
      "352/352 [==============================] - 1s 3ms/step - loss: 0.5294 - accuracy: 0.7406 - val_loss: 0.5462 - val_accuracy: 0.7196\n"
     ]
    },
    {
     "data": {
      "image/png": "[encoded data removed]",
      "text/plain": [
       "<Figure size 640x480 with 1 Axes>"
      ]
     },
     "metadata": {},
     "output_type": "display_data"
    },
    {
     "name": "stdout",
     "output_type": "stream",
     "text": [
      "Epoch 1/5\n",
      "352/352 [==============================] - 7s 18ms/step - loss: 0.6728 - accuracy: 0.6533 - val_loss: 0.6426 - val_accuracy: 0.6872\n",
      "Epoch 2/5\n",
      "352/352 [==============================] - 2s 5ms/step - loss: 0.6015 - accuracy: 0.7128 - val_loss: 0.5817 - val_accuracy: 0.7092\n",
      "Epoch 3/5\n",
      "352/352 [==============================] - 1s 3ms/step - loss: 0.5504 - accuracy: 0.7300 - val_loss: 0.5537 - val_accuracy: 0.7220\n",
      "Epoch 4/5\n",
      "352/352 [==============================] - 1s 3ms/step - loss: 0.5245 - accuracy: 0.7423 - val_loss: 0.5422 - val_accuracy: 0.7216\n",
      "Epoch 5/5\n",
      "352/352 [==============================] - 1s 3ms/step - loss: 0.5107 - accuracy: 0.7481 - val_loss: 0.5367 - val_accuracy: 0.7276\n"
     ]
    },
    {
     "data": {
      "image/png": "[encoded data removed]",
      "text/plain": [
       "<Figure size 640x480 with 1 Axes>"
      ]
     },
     "metadata": {},
     "output_type": "display_data"
    },
    {
     "name": "stdout",
     "output_type": "stream",
     "text": [
      "Epoch 1/5\n",
      "352/352 [==============================] - 7s 17ms/step - loss: 0.6610 - accuracy: 0.6601 - val_loss: 0.6174 - val_accuracy: 0.6940\n",
      "Epoch 2/5\n",
      "352/352 [==============================] - 2s 4ms/step - loss: 0.5706 - accuracy: 0.7226 - val_loss: 0.5580 - val_accuracy: 0.7184\n",
      "Epoch 3/5\n",
      "352/352 [==============================] - 1s 3ms/step - loss: 0.5266 - accuracy: 0.7394 - val_loss: 0.5404 - val_accuracy: 0.7240\n",
      "Epoch 4/5\n",
      "352/352 [==============================] - 1s 3ms/step - loss: 0.5086 - accuracy: 0.7460 - val_loss: 0.5354 - val_accuracy: 0.7272\n",
      "Epoch 5/5\n",
      "352/352 [==============================] - 1s 3ms/step - loss: 0.5004 - accuracy: 0.7516 - val_loss: 0.5338 - val_accuracy: 0.7296\n"
     ]
    },
    {
     "data": {
      "image/png": "[encoded data removed]",
      "text/plain": [
       "<Figure size 640x480 with 1 Axes>"
      ]
     },
     "metadata": {},
     "output_type": "display_data"
    },
    {
     "name": "stdout",
     "output_type": "stream",
     "text": [
      "Epoch 1/5\n",
      "352/352 [==============================] - 7s 18ms/step - loss: 0.6446 - accuracy: 0.6665 - val_loss: 0.5882 - val_accuracy: 0.7088\n",
      "Epoch 2/5\n",
      "352/352 [==============================] - 2s 4ms/step - loss: 0.5432 - accuracy: 0.7312 - val_loss: 0.5433 - val_accuracy: 0.7220\n",
      "Epoch 3/5\n",
      "352/352 [==============================] - 1s 3ms/step - loss: 0.5116 - accuracy: 0.7444 - val_loss: 0.5353 - val_accuracy: 0.7304\n",
      "Epoch 4/5\n",
      "352/352 [==============================] - 1s 3ms/step - loss: 0.5004 - accuracy: 0.7489 - val_loss: 0.5346 - val_accuracy: 0.7292\n",
      "Epoch 5/5\n",
      "352/352 [==============================] - 1s 3ms/step - loss: 0.4961 - accuracy: 0.7550 - val_loss: 0.5347 - val_accuracy: 0.7288\n"
     ]
    },
    {
     "data": {
      "image/png": "[encoded data removed]",
      "text/plain": [
       "<Figure size 640x480 with 1 Axes>"
      ]
     },
     "metadata": {},
     "output_type": "display_data"
    }
   ],
   "source": [
    "embeds = [2,4,8,16,32,64]\n",
    "accuracies = []\n",
    "params = []\n",
    "for embed in embeds:\n",
    "    model = build_embeddings_model(average_over_positions=True,\n",
    "                               vocab_size=1000,\n",
    "                               sequence_length=20,\n",
    "                               embedding_dim=embed)\n",
    "    history = model.fit(\n",
    "    x = X_train_reduced,  # our sparse padded training data\n",
    "    y = Y_train,          # corresponding binary labels\n",
    "    epochs=5,             # number of passes through the training data\n",
    "    batch_size=64,        # mini-batch size\n",
    "    validation_split=0.1, # use a fraction of the examples for validation\n",
    "    verbose=1             # display some progress output during training\n",
    "    )\n",
    "\n",
    "    accuracies.append((history.history['accuracy'][-1], history.history['val_accuracy'][-1]))\n",
    "    params.append(model.count_params())\n",
    "\n",
    "    history = pd.DataFrame(history.history)\n",
    "    plot_history(history)"
   ]
  },
  {
   "cell_type": "code",
   "execution_count": 17,
   "metadata": {},
   "outputs": [
    {
     "name": "stdout",
     "output_type": "stream",
     "text": [
      "[(0.7192000150680542, 0.7116000056266785), (0.7303110957145691, 0.7188000082969666), (0.7406222224235535, 0.7196000218391418), (0.7481333613395691, 0.7275999784469604), (0.7515555620193481, 0.7296000123023987), (0.7549777626991272, 0.7287999987602234)]\n",
      "[2003, 4005, 8009, 16017, 32033, 64065]\n"
     ]
    }
   ],
   "source": [
    "print(accuracies)\n",
    "print(params)"
   ]
  },
  {
   "cell_type": "code",
   "execution_count": 18,
   "metadata": {},
   "outputs": [
    {
     "data": {
      "image/png": "[encoded data removed]",
      "text/plain": [
       "<Figure size 640x480 with 1 Axes>"
      ]
     },
     "metadata": {},
     "output_type": "display_data"
    }
   ],
   "source": [
    "val_accuracies = [x[1] for x in accuracies]\n",
    "plt.plot(embeds, val_accuracies)\n",
    "plt.xticks(ticks=embeds, labels=[2, 4, 8, 16, 32, 64])\n",
    "plt.xlabel(\"Embedding Size\")\n",
    "plt.ylabel(\"Accuracy\")\n",
    "plt.title(\"Embeddings vs. Validation Accuracy\")\n",
    "plt.show()"
   ]
  },
  {
   "cell_type": "markdown",
   "metadata": {
    "id": "O7t46ZdX2ofd"
   },
   "source": [
    "*Written answers:*\n",
    "\n",
    "1. 2 Train: 0.72, 2 Val: 0.71, 4 Train: 0.73, 4 Val: 0.71,8 Train: 0.74, 8 Val: 0.72,16 Train: 0.75, 16 Val: 0.73, 32 Train: 0.75, 32 Val: 0.73, 64 Train: 0.76, 64 Val: 0.73\n",
    "2. 2: 2003, 4: 4005, 8: 8009, 16: 16017, 32033, 64065\n",
    "3. Yes, learned embeddings appear to improve performance given that they increase validation accuracy. However, there is a certain point where increasing embeddings may cause overfitting and decrease performance.\n"
   ]
  },
  {
   "cell_type": "markdown",
   "metadata": {},
   "source": [
    "---"
   ]
  },
  {
   "cell_type": "markdown",
   "metadata": {
    "id": "i2dWOuxqKHA6"
   },
   "source": [
    "## Inspecting Learned Embeddings\n",
    "Let's retrieve the learned embedding parameters from the trained model and plot the token embeddings.\n",
    "\n",
    "The model layers in a Keras Sequential model are stored as a list and the embeddings are the first layer. We can use the get_weights() function to get a numpy array with the parameters."
   ]
  },
  {
   "cell_type": "code",
   "execution_count": 19,
   "metadata": {
    "colab": {
     "base_uri": "https://localhost:8080/",
     "height": 86
    },
    "executionInfo": {
     "elapsed": 355,
     "status": "ok",
     "timestamp": 1646684774106,
     "user": {
      "displayName": "Daniel Gillick",
      "photoUrl": "https://lh3.googleusercontent.com/a-/AOh14Gg9DrSMlwYnG9EolecuJqe8n9m7fpcje4_UbYrhQ10=s64",
      "userId": "01872965353911650729"
     },
     "user_tz": 600
    },
    "id": "bfsbGSwkaFjo",
    "outputId": "d9d74723-012f-464f-a9f3-8a41d8178868"
   },
   "outputs": [
    {
     "data": {
      "text/plain": [
       "[<keras.src.layers.core.embedding.Embedding at 0x7acc3299ff50>,\n",
       " <keras.src.layers.pooling.global_average_pooling1d.GlobalAveragePooling1D at 0x7acc32297610>,\n",
       " <keras.src.layers.core.dense.Dense at 0x7acc32939fd0>]"
      ]
     },
     "metadata": {},
     "output_type": "display_data"
    },
    {
     "data": {
      "text/plain": [
       "(1000, 64)"
      ]
     },
     "metadata": {},
     "output_type": "display_data"
    }
   ],
   "source": [
    "# Display the model layers.\n",
    "display(model.layers)\n",
    "\n",
    "# Retrieve the embeddings layer, which itself is wrapped in a list.\n",
    "embeddings = model.layers[0].get_weights()[0]\n",
    "display(embeddings.shape)"
   ]
  },
  {
   "cell_type": "markdown",
   "metadata": {
    "id": "apPWscNwcXTE"
   },
   "source": [
    "Now we'll use a fancy plotting tool called *plotly* to show the embeddings with hovertext so you can move your mouse over the points to see the corresponding tokens."
   ]
  },
  {
   "cell_type": "code",
   "execution_count": 20,
   "metadata": {
    "colab": {
     "base_uri": "https://localhost:8080/",
     "height": 542
    },
    "executionInfo": {
     "elapsed": 453,
     "status": "ok",
     "timestamp": 1646684778338,
     "user": {
      "displayName": "Daniel Gillick",
      "photoUrl": "https://lh3.googleusercontent.com/a-/AOh14Gg9DrSMlwYnG9EolecuJqe8n9m7fpcje4_UbYrhQ10=s64",
      "userId": "01872965353911650729"
     },
     "user_tz": 600
    },
    "id": "5RZMTrA0KttL",
    "outputId": "f5ec9b65-84bb-4c28-c673-cf86a87112df"
   },
   "outputs": [
    {
     "data": {
      "application/vnd.plotly.v1+json": {
       "config": {
        "plotlyServerURL": "https://plot.ly"
       },
       "data": [
        {
         "hoverinfo": "text",
         "mode": "markers",
         "text": [
          "game",
          "past",
          "able",
          "b",
          "days",
          "turns",
          "child",
          "they're",
          "hand",
          "flick",
          "enjoyed",
          "act",
          "genre",
          "town",
          "favorite",
          "soon",
          "kill",
          "starts",
          "sometimes",
          "car",
          "gave",
          "run",
          "late",
          "eyes",
          "actress",
          "etc",
          "directed",
          "horrible",
          "won't",
          "viewer",
          "brilliant",
          "parts",
          "self",
          "themselves",
          "hour",
          "expect",
          "thinking",
          "stories",
          "stuff",
          "girls",
          "obviously",
          "blood",
          "decent",
          "city",
          "voice",
          "highly",
          "myself",
          "feeling",
          "fight",
          "except",
          "slow",
          "matter",
          "type",
          "anyway",
          "kid",
          "roles",
          "killed",
          "heard",
          "god",
          "age",
          "says",
          "moment",
          "took",
          "leave",
          "writer",
          "strong",
          "cannot",
          "violence",
          "police",
          "hit",
          "stop",
          "happens",
          "particularly",
          "known",
          "involved",
          "happened",
          "extremely",
          "daughter",
          "obvious",
          "told",
          "chance",
          "living",
          "coming",
          "lack",
          "alone",
          "experience",
          "wouldn't",
          "including",
          "murder",
          "attempt",
          "s",
          "please",
          "james",
          "happen",
          "wonder",
          "crap",
          "ago",
          "brother",
          "film's",
          "gore",
          "none",
          "complete",
          "interest",
          "score",
          "group",
          "cut",
          "simple",
          "save",
          "ok",
          "hell",
          "looked",
          "career",
          "number",
          "song",
          "possible",
          "seriously",
          "annoying",
          "shown",
          "exactly",
          "sad",
          "running",
          "musical",
          "serious",
          "taken",
          "yourself",
          "whose",
          "released",
          "cinematography",
          "david",
          "scary",
          "ends",
          "english",
          "hero",
          "usually",
          "hours",
          "reality",
          "opening",
          "i'll",
          "across",
          "today",
          "jokes",
          "light",
          "hilarious",
          "somewhat",
          "usual",
          "started",
          "cool",
          "ridiculous",
          "body",
          "relationship",
          "view",
          "level",
          "opinion",
          "change",
          "happy",
          "middle",
          "taking",
          "wish",
          "husband",
          "finds",
          "saying",
          "order",
          "talking",
          "ones",
          "documentary",
          "shots",
          "huge",
          "novel",
          "female",
          "mostly",
          "robert",
          "power",
          "episodes",
          "room",
          "important",
          "rating",
          "talent",
          "five",
          "major",
          "turned",
          "strange",
          "word",
          "modern",
          "call",
          "apparently",
          "disappointed",
          "single",
          "events",
          "due",
          "four",
          "songs",
          "basically",
          "attention",
          "7",
          "knows",
          "clearly",
          "supporting",
          "knew",
          "british",
          "television",
          "comic",
          "non",
          "fast",
          "earth",
          "country",
          "future",
          "cheap",
          "class",
          "thriller",
          "8",
          "silly",
          "king",
          "problems",
          "aren't",
          "easily",
          "words",
          "tells",
          "miss",
          "jack",
          "local",
          "sequence",
          "bring",
          "entertainment",
          "paul",
          "beyond",
          "upon",
          "whether",
          "predictable",
          "moving",
          "similar",
          "straight",
          "romantic",
          "sets",
          "review",
          "falls",
          "oscar",
          "mystery",
          "enjoyable",
          "needs",
          "appears",
          "talk",
          "rock",
          "george",
          "giving",
          "eye",
          "richard",
          "within",
          "ten",
          "animation",
          "message",
          "theater",
          "near",
          "above",
          "dull",
          "nearly",
          "sequel",
          "theme",
          "points",
          "'",
          "stand",
          "mention",
          "lady",
          "bunch",
          "add",
          "feels",
          "herself",
          "release",
          "red",
          "team",
          "storyline",
          "surprised",
          "ways",
          "using",
          "named",
          "haven't",
          "lots",
          "easy",
          "fantastic",
          "begins",
          "actual",
          "working",
          "effort",
          "york",
          "die",
          "hate",
          "french",
          "minute",
          "tale",
          "clear",
          "stay",
          "9",
          "elements",
          "feature",
          "among",
          "follow",
          "comments",
          "re",
          "viewers",
          "avoid",
          "sister",
          "showing",
          "typical",
          "editing",
          "what's",
          "famous",
          "tried",
          "sorry",
          "dialog",
          "check",
          "fall",
          "period",
          "season",
          "form",
          "certain",
          "filmed",
          "weak",
          "soundtrack",
          "means",
          "buy",
          "material",
          "somehow",
          "realistic",
          "figure",
          "crime",
          "doubt",
          "gone",
          "peter",
          "tom",
          "kept",
          "viewing",
          "t",
          "general",
          "leads",
          "greatest",
          "space",
          "lame",
          "suspense",
          "dance",
          "imagine",
          "brought",
          "third",
          "atmosphere",
          "hear",
          "particular",
          "sequences",
          "whatever",
          "parents",
          "move",
          "lee",
          "indeed",
          "learn",
          "rent",
          "de",
          "eventually",
          "note",
          "deal",
          "average",
          "reviews",
          "wait",
          "forget",
          "japanese",
          "sexual",
          "poorly",
          "premise",
          "okay",
          "zombie",
          "surprise",
          "believable",
          "stage",
          "possibly",
          "sit",
          "who's",
          "decided",
          "expected",
          "you've",
          "subject",
          "nature",
          "became",
          "difficult",
          "free",
          "killing",
          "screenplay",
          "truth",
          "romance",
          "dr",
          "nor",
          "reading",
          "needed",
          "question",
          "leaves",
          "street",
          "20",
          "meets",
          "hot",
          "unless",
          "begin",
          "baby",
          "superb",
          "credits",
          "imdb",
          "otherwise",
          "write",
          "shame",
          "let's",
          "situation",
          "dramatic",
          "memorable",
          "directors",
          "earlier",
          "meet",
          "disney",
          "open",
          "dog",
          "badly",
          "joe",
          "male",
          "weird",
          "acted",
          "forced",
          "laughs",
          "sci",
          "emotional",
          "older",
          "realize",
          "fi",
          "dream",
          "society",
          "writers",
          "interested",
          "footage",
          "forward",
          "comment",
          "crazy",
          "deep",
          "sounds",
          "plus",
          "beauty",
          "whom",
          "america",
          "fantasy",
          "directing",
          "keeps",
          "ask",
          "development",
          "features",
          "air",
          "quickly",
          "mess",
          "creepy",
          "towards",
          "perfectly",
          "mark",
          "worked",
          "box",
          "cheesy",
          "unique",
          "setting",
          "hands",
          "plenty",
          "result",
          "previous",
          "brings",
          "effect",
          "e",
          "total",
          "personal",
          "incredibly",
          "rate",
          "fire",
          "monster",
          "business",
          "leading",
          "apart",
          "casting",
          "admit",
          "joke",
          "powerful",
          "appear",
          "background",
          "telling",
          "girlfriend",
          "meant",
          "christmas",
          "hardly",
          "present",
          "battle",
          "potential",
          "create",
          "bill",
          "break",
          "pay",
          "masterpiece",
          "gay",
          "political",
          "return",
          "dumb",
          "fails",
          "fighting",
          "various",
          "era"
         ],
         "textposition": "bottom left",
         "type": "scatter",
         "x": [
          -0.04734937101602554,
          -0.013812056742608547,
          -0.05539056658744812,
          -0.022722803056240082,
          -0.04971110820770264,
          -0.03420602157711983,
          -0.07235493510961533,
          0.006739331409335136,
          0.2620605230331421,
          0.06686326116323471,
          -0.25121408700942993,
          0.11017674207687378,
          -0.16986098885536194,
          -0.03536061570048332,
          -0.4001346826553345,
          -0.14322349429130554,
          0.11244726926088333,
          0.053158458322286606,
          -0.15531811118125916,
          0.15509292483329773,
          0.03337525948882103,
          0.11098596453666687,
          -0.03030112013220787,
          -0.03520359471440315,
          0.04003380239009857,
          0.2146984487771988,
          0.0386296883225441,
          0.5176811814308167,
          -0.1606197953224182,
          -0.00706740515306592,
          -0.34751102328300476,
          -0.13362650573253632,
          0.2210715264081955,
          0.0056295027025043964,
          0.013837544247508049,
          0.10434731096029282,
          0.10346536338329315,
          -0.15701909363269806,
          -0.08515263348817825,
          0.05140552669763565,
          0.1549808531999588,
          -0.06208715960383415,
          0.247389018535614,
          0.0013190777972340584,
          -0.071897491812706,
          -0.6299765110015869,
          -0.05311836302280426,
          -0.043179724365472794,
          0.018769405782222748,
          0.13642078638076782,
          0.015189839527010918,
          -0.14377832412719727,
          -0.016474649310112,
          0.038253068923950195,
          0.09621228277683258,
          0.016374291852116585,
          0.16138887405395508,
          -0.16370485723018646,
          0.17736051976680756,
          -0.09001506865024567,
          0.05405093729496002,
          0.009660284966230392,
          0.025583157315850258,
          0.09646665304899216,
          0.12927064299583435,
          -0.2451479136943817,
          0.022869864478707314,
          -0.006831877399235964,
          -0.0362090989947319,
          -0.34946873784065247,
          0.059313300997018814,
          0.29299014806747437,
          0.121057890355587,
          -0.0650222897529602,
          0.18751582503318787,
          -0.05699147284030914,
          0.00003131619450869039,
          0.0066076465882360935,
          0.18578699231147766,
          0.012910221703350544,
          -0.3593021333217621,
          0.09577283263206482,
          -0.027079520747065544,
          0.34842807054519653,
          0.05620348080992699,
          -0.17420080304145813,
          0.38595086336135864,
          -0.2494092434644699,
          0.003975451923906803,
          0.27590784430503845,
          -0.016560254618525505,
          0.039952781051397324,
          -0.15697930753231049,
          -0.04249879717826843,
          0.027572426944971085,
          0.5531476140022278,
          -0.08196713775396347,
          0.05179322138428688,
          0.16825352609157562,
          0.24038316309452057,
          0.17375177145004272,
          0.12133022397756577,
          0.05440022423863411,
          -0.013072662055492401,
          0.023187700659036636,
          -0.14343474805355072,
          -0.05726797133684158,
          0.5728381276130676,
          0.1814737468957901,
          0.1433313488960266,
          0.3154319226741791,
          0.13583093881607056,
          -0.027584075927734375,
          0.015538307838141918,
          0.0013577316422015429,
          0.20041733980178833,
          0.3230297267436981,
          -0.029492469504475594,
          -0.012031829915940762,
          0.15949806571006775,
          0.039138004183769226,
          -0.029447035863995552,
          -0.04587281495332718,
          -0.05177697539329529,
          0.10222064703702927,
          0.041210517287254333,
          -0.13730092346668243,
          0.011411841958761215,
          0.11186406016349792,
          0.09268103539943695,
          0.015470542944967747,
          -0.27086156606674194,
          -0.03402984142303467,
          0.036282170563936234,
          0.06855848431587219,
          -0.07392889261245728,
          -0.06041720509529114,
          0.02886255830526352,
          -0.04845023155212402,
          -0.44830870628356934,
          0.05211326479911804,
          -0.20738208293914795,
          -0.12052146345376968,
          -0.06415926665067673,
          -0.05551393702626228,
          0.14893488585948944,
          -0.17503443360328674,
          0.3632815480232239,
          0.0817214772105217,
          -0.15846198797225952,
          -0.09664580225944519,
          0.05596165731549263,
          0.004247109405696392,
          -0.11675039678812027,
          -0.20651456713676453,
          0.04679545387625694,
          -0.0004660912381950766,
          -0.08818338811397552,
          0.08877548575401306,
          -0.03868531435728073,
          0.1494063138961792,
          -0.008903530426323414,
          -0.10145435482263565,
          0.04334345832467079,
          -0.03977369889616966,
          0.21781180799007416,
          0.16029518842697144,
          0.01154035609215498,
          0.045980215072631836,
          0.05286584421992302,
          -0.10185759514570236,
          0.02735307812690735,
          -0.2054467797279358,
          0.11021192371845245,
          -0.0756465271115303,
          0.11745285242795944,
          0.1128261387348175,
          0.06330893188714981,
          0.1460481584072113,
          0.2192176878452301,
          -0.044801149517297745,
          0.09678152948617935,
          -0.11725307255983353,
          0.1521017998456955,
          0.08746668696403503,
          0.1154165044426918,
          0.018728505820035934,
          -0.06882921606302261,
          0.0479731522500515,
          -0.006903671193867922,
          0.00439988449215889,
          0.07670668512582779,
          -0.13297609984874725,
          -0.6793500185012817,
          -0.14142799377441406,
          0.14053253829479218,
          0.015074356459081173,
          0.17484050989151,
          0.08541208505630493,
          -0.1421215981245041,
          -0.04839841648936272,
          0.06757349520921707,
          0.11876882612705231,
          0.032220397144556046,
          -0.0655737966299057,
          -0.16299819946289062,
          0.30451440811157227,
          -0.022092165425419807,
          -0.19279682636260986,
          -0.6392102837562561,
          0.0720471516251564,
          0.009028110653162003,
          0.011388338170945644,
          0.07472337782382965,
          -0.14513608813285828,
          -0.07506785541772842,
          -0.14948253333568573,
          -0.22550266981124878,
          -0.13644517958164215,
          0.14391764998435974,
          -0.22868913412094116,
          -0.17549635469913483,
          -0.014619032852351665,
          -0.04389525204896927,
          -0.009672541171312332,
          0.0936073586344719,
          -0.17429396510124207,
          0.2457330822944641,
          -0.25595685839653015,
          -0.02617659606039524,
          0.028987357392907143,
          -0.15566980838775635,
          -0.0380474217236042,
          -0.016006363555788994,
          0.12207181006669998,
          -0.2200862318277359,
          -0.019143976271152496,
          -0.32146239280700684,
          0.16353315114974976,
          0.10375113785266876,
          -0.07475326210260391,
          -0.15984617173671722,
          0.10383300483226776,
          -0.02512918971478939,
          -0.023824719712138176,
          -0.047005411237478256,
          -0.10243967175483704,
          -0.08437255769968033,
          0.025129107758402824,
          -0.17461225390434265,
          0.15766340494155884,
          0.06856707483530045,
          -0.0401790589094162,
          0.41564393043518066,
          -0.11275947839021683,
          0.016189318150281906,
          0.013987029902637005,
          0.0239060427993536,
          0.019830413162708282,
          -0.011915290728211403,
          -0.0013946745311841369,
          -0.17141056060791016,
          -0.05694657936692238,
          -0.04490457847714424,
          0.08278871327638626,
          -0.17317898571491241,
          -0.11006221920251846,
          0.1386299729347229,
          -0.1158318892121315,
          -0.023154573515057564,
          -0.07098855078220367,
          -0.1129731684923172,
          0.14486084878444672,
          0.1747235655784607,
          -0.16354674100875854,
          -0.03275522589683533,
          -0.11509066820144653,
          -0.23826034367084503,
          -0.08057436347007751,
          0.1621178239583969,
          0.05775819346308708,
          0.25256025791168213,
          0.015544731169939041,
          0.17752531170845032,
          0.0669095367193222,
          0.03138905018568039,
          0.14201872050762177,
          -0.29695653915405273,
          0.11204490810632706,
          0.1953439563512802,
          -0.5019292831420898,
          -0.14305990934371948,
          0.09584065526723862,
          -0.07425736635923386,
          0.013298201374709606,
          -0.0070769949816167355,
          -0.01727682538330555,
          0.005025091115385294,
          0.7607854604721069,
          0.06278825551271439,
          -0.12025099247694016,
          -0.10665976256132126,
          0.09441936761140823,
          -0.005832616239786148,
          -0.18304389715194702,
          0.0022474585566669703,
          0.3897327482700348,
          0.020982777699828148,
          -0.21876734495162964,
          -0.02619779109954834,
          -0.07616274058818817,
          -0.15380853414535522,
          0.004723123740404844,
          -0.1482585370540619,
          0.10362802445888519,
          0.31482577323913574,
          -0.18929430842399597,
          -0.09750064462423325,
          -0.13889771699905396,
          0.08748389780521393,
          0.01172554213553667,
          -0.34176936745643616,
          -0.011743638664484024,
          -0.0868723914027214,
          -0.05649755895137787,
          -0.018634729087352753,
          0.003474255558103323,
          -0.16770951449871063,
          0.01403861865401268,
          -0.20263516902923584,
          0.19998963177204132,
          0.059546057134866714,
          0.011993405409157276,
          -0.35963907837867737,
          0.10817180573940277,
          0.4025205075740814,
          -0.032469652593135834,
          -0.2092931568622589,
          -0.0447295606136322,
          -0.13159245252609253,
          -0.06738945841789246,
          -0.23405201733112335,
          -0.09855714440345764,
          -0.07026993483304977,
          -0.14916066825389862,
          0.06884077936410904,
          0.030159899964928627,
          0.15219436585903168,
          0.2733269929885864,
          0.07220786809921265,
          -0.03975512087345123,
          0.1335763782262802,
          -0.02547944150865078,
          -0.08463950455188751,
          0.02057482674717903,
          -0.09127509593963623,
          -0.007994817569851875,
          0.09095246344804764,
          -0.02016136609017849,
          0.04528395086526871,
          -0.15584006905555725,
          0.10460493713617325,
          0.393118292093277,
          0.18104341626167297,
          0.2450033724308014,
          0.06800723820924759,
          -0.016552463173866272,
          -0.19605642557144165,
          -0.06270100176334381,
          0.004269022028893232,
          0.13992540538311005,
          -0.17896027863025665,
          0.10236077755689621,
          0.08777977526187897,
          -0.0023518698289990425,
          0.16382449865341187,
          -0.20470121502876282,
          -0.012126743793487549,
          -0.21724291145801544,
          0.24941615760326385,
          0.17747749388217926,
          -0.03237452358007431,
          0.012904521077871323,
          -0.1565057933330536,
          0.026928236708045006,
          0.12033731490373611,
          -0.09032923728227615,
          -0.11160432547330856,
          -0.12526051700115204,
          -0.022164732217788696,
          0.002425751183182001,
          0.0012192183639854193,
          -0.03814011439681053,
          0.161621555685997,
          0.5725551247596741,
          0.09635797142982483,
          0.024751944467425346,
          -0.3214052617549896,
          0.14694082736968994,
          0.11721299588680267,
          0.21403227746486664,
          0.2915762662887573,
          0.2265591025352478,
          0.015590580180287361,
          -0.21468670666217804,
          -0.10556551814079285,
          -0.033961765468120575,
          0.16670626401901245,
          -0.09130999445915222,
          0.1728551685810089,
          -0.07574295252561569,
          -0.13316760957241058,
          0.014458505436778069,
          0.2829289138317108,
          0.26239463686943054,
          0.17306314408779144,
          -0.04937751218676567,
          0.010066836141049862,
          0.15857212245464325,
          0.11830567568540573,
          -0.04783099889755249,
          -0.0462946780025959,
          0.01717524230480194,
          0.19797122478485107,
          -0.043174877762794495,
          -0.10737163573503494,
          -0.06857308000326157,
          0.14598411321640015,
          -0.09788918495178223,
          -0.06242014840245247,
          -0.10574056953191757,
          0.06538879126310349,
          0.04538944736123085,
          -0.1065327450633049,
          0.07025398313999176,
          0.0450466051697731,
          -0.2460802048444748,
          -0.017183296382427216,
          -0.1627260148525238,
          -0.12580054998397827,
          -0.043098028749227524,
          -0.16568462550640106,
          -0.07399121671915054,
          0.010652735829353333,
          -0.06136670336127281,
          -0.14752793312072754,
          0.1191655769944191,
          0.539094090461731,
          -0.1097913309931755,
          0.05972977355122566,
          -0.3046751320362091,
          0.13801038265228271,
          0.15249024331569672,
          -0.05059218779206276,
          0.06608045846223831,
          -0.17478273808956146,
          0.0983494445681572,
          0.02223897911608219,
          -0.0186830572783947,
          0.32274961471557617,
          0.11102347075939178,
          -0.16297191381454468,
          0.042249519377946854,
          0.16075915098190308,
          0.2349824756383896,
          -0.07754521071910858,
          -0.007619299925863743,
          -0.007771530654281378,
          -0.15527522563934326,
          0.13459958136081696,
          0.03505094721913338,
          -0.10565778613090515,
          0.11115845292806625,
          0.09992257505655289,
          -0.028975162655115128,
          0.23161081969738007,
          -0.32127803564071655,
          0.05173960328102112,
          0.015001913532614708,
          0.0020718725863844156,
          -0.10582521557807922,
          0.11291192471981049,
          0.1418687105178833,
          0.1852479875087738,
          -0.10258568078279495,
          -0.05570422485470772,
          0.19390389323234558,
          0.021201394498348236,
          -0.09998074918985367,
          0.18416912853717804,
          0.245907261967659,
          -0.2623153030872345,
          0.1013350561261177,
          -0.06407354772090912,
          0.056194327771663666,
          0.21911507844924927,
          0.3273547887802124,
          -0.12436407804489136,
          -0.07601463794708252,
          -0.21739962697029114
         ],
         "y": [
          -0.03558504953980446,
          -0.05543961748480797,
          0.02376561611890793,
          0.014976385980844498,
          -0.0931135043501854,
          -0.02825053781270981,
          -0.07569898664951324,
          0.024435952305793762,
          0.21623654663562775,
          0.03144712746143341,
          -0.18178404867649078,
          0.08987617492675781,
          -0.11502780765295029,
          -0.04055129736661911,
          -0.2991147041320801,
          -0.12329325824975967,
          0.07730406522750854,
          0.10533683001995087,
          -0.11110661923885345,
          0.0868411436676979,
          0.014360499568283558,
          0.1040002703666687,
          -0.06050628051161766,
          -0.059838611632585526,
          0.021832384169101715,
          0.18835003674030304,
          0.032259877771139145,
          0.4530760943889618,
          -0.07133368402719498,
          -0.034684356302022934,
          -0.3656192421913147,
          -0.1257455199956894,
          0.14379841089248657,
          -0.010411025956273079,
          -0.02375957928597927,
          0.037149831652641296,
          0.01542071532458067,
          -0.08148611336946487,
          0.006948351394385099,
          -0.0008281681220978498,
          0.14246557652950287,
          -0.0733061134815216,
          0.19891725480556488,
          -0.027359383180737495,
          -0.1009581908583641,
          -0.557144284248352,
          0.003912191838026047,
          -0.02450762502849102,
          0.03946680575609207,
          0.14287298917770386,
          0.03186138719320297,
          -0.15940551459789276,
          -0.06115170195698738,
          -0.023381810635328293,
          0.07563486695289612,
          0.01548576820641756,
          0.11377586424350739,
          -0.12275972217321396,
          0.14747607707977295,
          -0.10013510286808014,
          0.003985133487731218,
          -0.030991697683930397,
          0.004421079531311989,
          0.06473329663276672,
          0.15691465139389038,
          -0.2060462385416031,
          0.0396256148815155,
          0.023962577804923058,
          -0.03394244983792305,
          -0.28604546189308167,
          0.023089736700057983,
          0.18378056585788727,
          0.06496933847665787,
          -0.05951419472694397,
          0.15359804034233093,
          0.02182074449956417,
          0.0401916429400444,
          0.04915367066860199,
          0.15976998209953308,
          0.017405379563570023,
          -0.28095924854278564,
          0.12669247388839722,
          -0.0448167622089386,
          0.3221331834793091,
          0.03776329755783081,
          -0.17221510410308838,
          0.38157010078430176,
          -0.2133299559354782,
          0.001329116988927126,
          0.30428507924079895,
          -0.04202589765191078,
          -0.006637713871896267,
          -0.12422697246074677,
          -0.028003618121147156,
          0.03027248941361904,
          0.40687358379364014,
          -0.0827227383852005,
          0.04975322261452675,
          0.13244737684726715,
          0.24365901947021484,
          0.14817295968532562,
          0.05029764026403427,
          0.058500900864601135,
          -0.016943316906690598,
          0.060905490070581436,
          -0.15287935733795166,
          -0.027609022334218025,
          0.44436296820640564,
          0.13957606256008148,
          0.07973933219909668,
          0.2301979809999466,
          0.14156240224838257,
          -0.07668747007846832,
          0.09384512156248093,
          0.004718265496194363,
          0.1466381996870041,
          0.20603202283382416,
          -0.11348433047533035,
          -0.050726715475320816,
          0.14182032644748688,
          0.067916139960289,
          -0.08412047475576401,
          0.02274428866803646,
          -0.040820907801389694,
          0.14786800742149353,
          0.02178441360592842,
          -0.11517103761434555,
          0.05185817554593086,
          0.08129750937223434,
          0.09033367037773132,
          -0.014229361899197102,
          -0.23641209304332733,
          -0.05203339457511902,
          0.05300069600343704,
          0.09071827679872513,
          -0.11204145848751068,
          -0.06587924808263779,
          0.038751035928726196,
          0.03229644522070885,
          -0.36524534225463867,
          0.056651655584573746,
          -0.11578310281038284,
          -0.12045615166425705,
          -0.06114758178591728,
          -0.0002714858273975551,
          0.07202453911304474,
          -0.14973191916942596,
          0.29710835218429565,
          0.11850538104772568,
          -0.1315138339996338,
          -0.026601141318678856,
          -0.014073936268687248,
          0.03158728778362274,
          -0.08970694988965988,
          -0.14231058955192566,
          0.05442533269524574,
          0.0836620181798935,
          -0.06521957367658615,
          0.05734923109412193,
          -0.05521318316459656,
          0.08216957002878189,
          -0.05395769700407982,
          -0.09810169786214828,
          0.011982274241745472,
          0.005674462765455246,
          0.1601465493440628,
          0.1242043748497963,
          0.023374376818537712,
          0.09773259609937668,
          0.061634279787540436,
          -0.049820706248283386,
          0.011321689933538437,
          -0.1503094881772995,
          0.06479942798614502,
          -0.08417210727930069,
          0.03337042033672333,
          0.14194363355636597,
          0.06621114164590836,
          0.09303008019924164,
          0.20348571240901947,
          0.04150300845503807,
          0.11172705143690109,
          -0.141556054353714,
          0.1541929990053177,
          0.08416886627674103,
          0.1284550279378891,
          0.07571213692426682,
          -0.08339685201644897,
          0.07733535021543503,
          -0.008910316042602062,
          0.07983222603797913,
          0.13552644848823547,
          -0.10719233751296997,
          -0.5909098386764526,
          -0.0837373211979866,
          0.09654869139194489,
          0.03880113735795021,
          0.14933368563652039,
          0.09205739200115204,
          -0.11027635633945465,
          -0.05156775936484337,
          0.0858045369386673,
          0.1147259771823883,
          -0.033494796603918076,
          -0.09839239716529846,
          -0.149302139878273,
          0.35616204142570496,
          -0.030531512573361397,
          -0.18923787772655487,
          -0.5738211274147034,
          0.09748755395412445,
          0.03618782386183739,
          0.03645722568035126,
          0.07671826332807541,
          -0.07681138813495636,
          -0.12122456729412079,
          -0.10458306968212128,
          -0.18966910243034363,
          -0.10594815015792847,
          0.14293979108333588,
          -0.18061856925487518,
          -0.1546032726764679,
          0.002694623079150915,
          -0.062157899141311646,
          -0.009533043019473553,
          0.07590463757514954,
          -0.12899667024612427,
          0.22661137580871582,
          -0.1964969038963318,
          -0.0733267217874527,
          0.09399941563606262,
          -0.09179870784282684,
          0.05861241742968559,
          0.01252731028944254,
          0.09066867083311081,
          -0.2517879605293274,
          -0.021785588935017586,
          -0.33060649037361145,
          0.09736437350511551,
          0.10573503375053406,
          -0.0574825145304203,
          -0.11248201876878738,
          0.07168829441070557,
          0.040771547704935074,
          0.05941198393702507,
          -0.030636658892035484,
          -0.10811128467321396,
          -0.02558893710374832,
          -0.008536620996892452,
          -0.11609594523906708,
          0.15476369857788086,
          0.06764775514602661,
          -0.003441181033849716,
          0.3713587522506714,
          -0.10546428710222244,
          -0.031084265559911728,
          0.08657749742269516,
          0.07089342176914215,
          0.01329172495752573,
          -0.06212177500128746,
          -0.006952902767807245,
          -0.11443936079740524,
          -0.1143542006611824,
          -0.036650627851486206,
          0.057120565325021744,
          -0.164888396859169,
          -0.10624559968709946,
          0.13182677328586578,
          -0.11190726608037949,
          -0.039486709982156754,
          -0.06614531576633453,
          -0.12850312888622284,
          0.09497343003749847,
          0.1406112164258957,
          -0.08802183717489243,
          0.016936851665377617,
          -0.07947416603565216,
          -0.26411953568458557,
          -0.04718323424458504,
          0.14998111128807068,
          -0.0028238045051693916,
          0.21002991497516632,
          0.02839679643511772,
          0.14641346037387848,
          0.12554669380187988,
          0.008996086195111275,
          0.1834164559841156,
          -0.2915861904621124,
          0.1554531455039978,
          0.13611897826194763,
          -0.453675776720047,
          -0.10624871402978897,
          0.08580807596445084,
          -0.057280849665403366,
          0.011078981682658195,
          -0.06678826361894608,
          0.04971272498369217,
          -0.0008305454393848777,
          0.6822676658630371,
          0.02576848678290844,
          -0.04936249181628227,
          -0.07554826885461807,
          0.025207340717315674,
          -0.05888748541474342,
          -0.1963835209608078,
          0.0002818213833961636,
          0.3322356939315796,
          0.010620190761983395,
          -0.1474895477294922,
          -0.03314260393381119,
          -0.09559237211942673,
          -0.17172826826572418,
          0.009294649586081505,
          -0.07449162751436234,
          0.04098598286509514,
          0.2337728887796402,
          -0.12734530866146088,
          -0.09648924320936203,
          -0.06788304448127747,
          0.14594140648841858,
          -0.04358827322721481,
          -0.2467716932296753,
          0.04823503643274307,
          -0.12440300732851028,
          -0.11112707853317261,
          0.007546667475253344,
          -0.049112770706415176,
          -0.12234436720609665,
          -0.007114056032150984,
          -0.24687664210796356,
          0.16032521426677704,
          0.07266318053007126,
          -0.0013607682194560766,
          -0.3061515986919403,
          0.07487044483423233,
          0.37284159660339355,
          -0.005559507757425308,
          -0.13968171179294586,
          -0.06358727067708969,
          -0.10936880856752396,
          0.02937842719256878,
          -0.19001531600952148,
          -0.0774741917848587,
          -0.11770059168338776,
          -0.14491309225559235,
          0.07862331718206406,
          0.0308497603982687,
          0.09203146398067474,
          0.2637614607810974,
          0.08466286957263947,
          -0.015870561823248863,
          0.11187209188938141,
          0.008843128569424152,
          -0.02719973213970661,
          0.024672815576195717,
          -0.11857210099697113,
          0.026479952037334442,
          0.09205500036478043,
          0.026574939489364624,
          0.049545131623744965,
          -0.07704262435436249,
          0.07461855560541153,
          0.43212106823921204,
          0.1966879963874817,
          0.2758926451206207,
          0.04279056191444397,
          -0.03072860836982727,
          -0.15434964001178741,
          0.00905885361135006,
          0.006848189514130354,
          0.035637881606817245,
          -0.15341661870479584,
          0.15685756504535675,
          0.09774614125490189,
          -0.043987929821014404,
          0.15449278056621552,
          -0.20566442608833313,
          0.0375048965215683,
          -0.21393463015556335,
          0.21928580105304718,
          0.14428459107875824,
          0.010722845792770386,
          -0.002872915705665946,
          -0.12789009511470795,
          0.03618552163243294,
          0.10191921889781952,
          -0.10626920312643051,
          -0.15503734350204468,
          -0.05895616486668587,
          -0.037684954702854156,
          -0.01658697798848152,
          0.0860448107123375,
          0.004264382645487785,
          0.17063137888908386,
          0.4684399664402008,
          0.07249362766742706,
          0.04677460715174675,
          -0.3511731028556824,
          0.06810113787651062,
          0.09832651913166046,
          0.17786073684692383,
          0.19348026812076569,
          0.1438138335943222,
          0.005389939062297344,
          -0.17182251811027527,
          -0.12915125489234924,
          -0.06971997767686844,
          0.07955026626586914,
          -0.07367102056741714,
          0.09475907683372498,
          -0.07487015426158905,
          -0.10084477066993713,
          0.0728582963347435,
          0.24329684674739838,
          0.19538290798664093,
          0.1340220719575882,
          -0.09169962257146835,
          0.026166507974267006,
          0.1554930955171585,
          0.09614907205104828,
          -0.028764965012669563,
          -0.04100178927183151,
          0.049665872007608414,
          0.16917434334754944,
          -0.03876011446118355,
          -0.09285051375627518,
          -0.13425950706005096,
          0.11881102621555328,
          -0.15763677656650543,
          -0.08224117755889893,
          -0.13623742759227753,
          0.049780361354351044,
          -0.006012479308992624,
          -0.16720883548259735,
          0.06355246156454086,
          0.055875230580568314,
          -0.14199970662593842,
          -0.05581517890095711,
          -0.12693625688552856,
          -0.17465528845787048,
          0.013661033473908901,
          -0.07410326600074768,
          -0.015531467273831367,
          0.07354405522346497,
          -0.05938190966844559,
          -0.14920052886009216,
          0.09994536638259888,
          0.43754684925079346,
          -0.14461180567741394,
          0.036461424082517624,
          -0.32701215147972107,
          0.13675379753112793,
          0.11195521801710129,
          -0.06972122937440872,
          0.13151608407497406,
          -0.1163601204752922,
          0.09799852967262268,
          0.04053980112075806,
          0.0555184930562973,
          0.27202728390693665,
          0.1441737711429596,
          -0.1803811639547348,
          0.02145552635192871,
          0.1607176661491394,
          0.17200395464897156,
          -0.05890212580561638,
          -0.05818038433790207,
          -0.07201232761144638,
          -0.09716520458459854,
          0.0997459664940834,
          0.018250612542033195,
          -0.14790302515029907,
          0.060153476893901825,
          0.08879106491804123,
          -0.0835479274392128,
          0.261720210313797,
          -0.2881625294685364,
          0.08320104330778122,
          -0.0593290701508522,
          -0.012613802216947079,
          -0.11899451911449432,
          0.13232487440109253,
          0.12238672375679016,
          0.14666180312633514,
          -0.05966627597808838,
          0.024752343073487282,
          0.14284376800060272,
          -0.03878165781497955,
          -0.13113310933113098,
          0.1863635927438736,
          0.2596975564956665,
          -0.24335412681102753,
          0.15265996754169464,
          -0.05465419963002205,
          0.034555595368146896,
          0.1610058695077896,
          0.2558106482028961,
          -0.1576915979385376,
          0.017062034457921982,
          -0.19217327237129211
         ]
        }
       ],
       "layout": {
        "hovermode": "closest",
        "template": {
         "data": {
          "bar": [
           {
            "error_x": {
             "color": "#2a3f5f"
            },
            "error_y": {
             "color": "#2a3f5f"
            },
            "marker": {
             "line": {
              "color": "#E5ECF6",
              "width": 0.5
             },
             "pattern": {
              "fillmode": "overlay",
              "size": 10,
              "solidity": 0.2
             }
            },
            "type": "bar"
           }
          ],
          "barpolar": [
           {
            "marker": {
             "line": {
              "color": "#E5ECF6",
              "width": 0.5
             },
             "pattern": {
              "fillmode": "overlay",
              "size": 10,
              "solidity": 0.2
             }
            },
            "type": "barpolar"
           }
          ],
          "carpet": [
           {
            "aaxis": {
             "endlinecolor": "#2a3f5f",
             "gridcolor": "white",
             "linecolor": "white",
             "minorgridcolor": "white",
             "startlinecolor": "#2a3f5f"
            },
            "baxis": {
             "endlinecolor": "#2a3f5f",
             "gridcolor": "white",
             "linecolor": "white",
             "minorgridcolor": "white",
             "startlinecolor": "#2a3f5f"
            },
            "type": "carpet"
           }
          ],
          "choropleth": [
           {
            "colorbar": {
             "outlinewidth": 0,
             "ticks": ""
            },
            "type": "choropleth"
           }
          ],
          "contour": [
           {
            "colorbar": {
             "outlinewidth": 0,
             "ticks": ""
            },
            "colorscale": [
             [
              0,
              "#0d0887"
             ],
             [
              0.1111111111111111,
              "#46039f"
             ],
             [
              0.2222222222222222,
              "#7201a8"
             ],
             [
              0.3333333333333333,
              "#9c179e"
             ],
             [
              0.4444444444444444,
              "#bd3786"
             ],
             [
              0.5555555555555556,
              "#d8576b"
             ],
             [
              0.6666666666666666,
              "#ed7953"
             ],
             [
              0.7777777777777778,
              "#fb9f3a"
             ],
             [
              0.8888888888888888,
              "#fdca26"
             ],
             [
              1,
              "#f0f921"
             ]
            ],
            "type": "contour"
           }
          ],
          "contourcarpet": [
           {
            "colorbar": {
             "outlinewidth": 0,
             "ticks": ""
            },
            "type": "contourcarpet"
           }
          ],
          "heatmap": [
           {
            "colorbar": {
             "outlinewidth": 0,
             "ticks": ""
            },
            "colorscale": [
             [
              0,
              "#0d0887"
             ],
             [
              0.1111111111111111,
              "#46039f"
             ],
             [
              0.2222222222222222,
              "#7201a8"
             ],
             [
              0.3333333333333333,
              "#9c179e"
             ],
             [
              0.4444444444444444,
              "#bd3786"
             ],
             [
              0.5555555555555556,
              "#d8576b"
             ],
             [
              0.6666666666666666,
              "#ed7953"
             ],
             [
              0.7777777777777778,
              "#fb9f3a"
             ],
             [
              0.8888888888888888,
              "#fdca26"
             ],
             [
              1,
              "#f0f921"
             ]
            ],
            "type": "heatmap"
           }
          ],
          "heatmapgl": [
           {
            "colorbar": {
             "outlinewidth": 0,
             "ticks": ""
            },
            "colorscale": [
             [
              0,
              "#0d0887"
             ],
             [
              0.1111111111111111,
              "#46039f"
             ],
             [
              0.2222222222222222,
              "#7201a8"
             ],
             [
              0.3333333333333333,
              "#9c179e"
             ],
             [
              0.4444444444444444,
              "#bd3786"
             ],
             [
              0.5555555555555556,
              "#d8576b"
             ],
             [
              0.6666666666666666,
              "#ed7953"
             ],
             [
              0.7777777777777778,
              "#fb9f3a"
             ],
             [
              0.8888888888888888,
              "#fdca26"
             ],
             [
              1,
              "#f0f921"
             ]
            ],
            "type": "heatmapgl"
           }
          ],
          "histogram": [
           {
            "marker": {
             "pattern": {
              "fillmode": "overlay",
              "size": 10,
              "solidity": 0.2
             }
            },
            "type": "histogram"
           }
          ],
          "histogram2d": [
           {
            "colorbar": {
             "outlinewidth": 0,
             "ticks": ""
            },
            "colorscale": [
             [
              0,
              "#0d0887"
             ],
             [
              0.1111111111111111,
              "#46039f"
             ],
             [
              0.2222222222222222,
              "#7201a8"
             ],
             [
              0.3333333333333333,
              "#9c179e"
             ],
             [
              0.4444444444444444,
              "#bd3786"
             ],
             [
              0.5555555555555556,
              "#d8576b"
             ],
             [
              0.6666666666666666,
              "#ed7953"
             ],
             [
              0.7777777777777778,
              "#fb9f3a"
             ],
             [
              0.8888888888888888,
              "#fdca26"
             ],
             [
              1,
              "#f0f921"
             ]
            ],
            "type": "histogram2d"
           }
          ],
          "histogram2dcontour": [
           {
            "colorbar": {
             "outlinewidth": 0,
             "ticks": ""
            },
            "colorscale": [
             [
              0,
              "#0d0887"
             ],
             [
              0.1111111111111111,
              "#46039f"
             ],
             [
              0.2222222222222222,
              "#7201a8"
             ],
             [
              0.3333333333333333,
              "#9c179e"
             ],
             [
              0.4444444444444444,
              "#bd3786"
             ],
             [
              0.5555555555555556,
              "#d8576b"
             ],
             [
              0.6666666666666666,
              "#ed7953"
             ],
             [
              0.7777777777777778,
              "#fb9f3a"
             ],
             [
              0.8888888888888888,
              "#fdca26"
             ],
             [
              1,
              "#f0f921"
             ]
            ],
            "type": "histogram2dcontour"
           }
          ],
          "mesh3d": [
           {
            "colorbar": {
             "outlinewidth": 0,
             "ticks": ""
            },
            "type": "mesh3d"
           }
          ],
          "parcoords": [
           {
            "line": {
             "colorbar": {
              "outlinewidth": 0,
              "ticks": ""
             }
            },
            "type": "parcoords"
           }
          ],
          "pie": [
           {
            "automargin": true,
            "type": "pie"
           }
          ],
          "scatter": [
           {
            "fillpattern": {
             "fillmode": "overlay",
             "size": 10,
             "solidity": 0.2
            },
            "type": "scatter"
           }
          ],
          "scatter3d": [
           {
            "line": {
             "colorbar": {
              "outlinewidth": 0,
              "ticks": ""
             }
            },
            "marker": {
             "colorbar": {
              "outlinewidth": 0,
              "ticks": ""
             }
            },
            "type": "scatter3d"
           }
          ],
          "scattercarpet": [
           {
            "marker": {
             "colorbar": {
              "outlinewidth": 0,
              "ticks": ""
             }
            },
            "type": "scattercarpet"
           }
          ],
          "scattergeo": [
           {
            "marker": {
             "colorbar": {
              "outlinewidth": 0,
              "ticks": ""
             }
            },
            "type": "scattergeo"
           }
          ],
          "scattergl": [
           {
            "marker": {
             "colorbar": {
              "outlinewidth": 0,
              "ticks": ""
             }
            },
            "type": "scattergl"
           }
          ],
          "scattermapbox": [
           {
            "marker": {
             "colorbar": {
              "outlinewidth": 0,
              "ticks": ""
             }
            },
            "type": "scattermapbox"
           }
          ],
          "scatterpolar": [
           {
            "marker": {
             "colorbar": {
              "outlinewidth": 0,
              "ticks": ""
             }
            },
            "type": "scatterpolar"
           }
          ],
          "scatterpolargl": [
           {
            "marker": {
             "colorbar": {
              "outlinewidth": 0,
              "ticks": ""
             }
            },
            "type": "scatterpolargl"
           }
          ],
          "scatterternary": [
           {
            "marker": {
             "colorbar": {
              "outlinewidth": 0,
              "ticks": ""
             }
            },
            "type": "scatterternary"
           }
          ],
          "surface": [
           {
            "colorbar": {
             "outlinewidth": 0,
             "ticks": ""
            },
            "colorscale": [
             [
              0,
              "#0d0887"
             ],
             [
              0.1111111111111111,
              "#46039f"
             ],
             [
              0.2222222222222222,
              "#7201a8"
             ],
             [
              0.3333333333333333,
              "#9c179e"
             ],
             [
              0.4444444444444444,
              "#bd3786"
             ],
             [
              0.5555555555555556,
              "#d8576b"
             ],
             [
              0.6666666666666666,
              "#ed7953"
             ],
             [
              0.7777777777777778,
              "#fb9f3a"
             ],
             [
              0.8888888888888888,
              "#fdca26"
             ],
             [
              1,
              "#f0f921"
             ]
            ],
            "type": "surface"
           }
          ],
          "table": [
           {
            "cells": {
             "fill": {
              "color": "#EBF0F8"
             },
             "line": {
              "color": "white"
             }
            },
            "header": {
             "fill": {
              "color": "#C8D4E3"
             },
             "line": {
              "color": "white"
             }
            },
            "type": "table"
           }
          ]
         },
         "layout": {
          "annotationdefaults": {
           "arrowcolor": "#2a3f5f",
           "arrowhead": 0,
           "arrowwidth": 1
          },
          "autotypenumbers": "strict",
          "coloraxis": {
           "colorbar": {
            "outlinewidth": 0,
            "ticks": ""
           }
          },
          "colorscale": {
           "diverging": [
            [
             0,
             "#8e0152"
            ],
            [
             0.1,
             "#c51b7d"
            ],
            [
             0.2,
             "#de77ae"
            ],
            [
             0.3,
             "#f1b6da"
            ],
            [
             0.4,
             "#fde0ef"
            ],
            [
             0.5,
             "#f7f7f7"
            ],
            [
             0.6,
             "#e6f5d0"
            ],
            [
             0.7,
             "#b8e186"
            ],
            [
             0.8,
             "#7fbc41"
            ],
            [
             0.9,
             "#4d9221"
            ],
            [
             1,
             "#276419"
            ]
           ],
           "sequential": [
            [
             0,
             "#0d0887"
            ],
            [
             0.1111111111111111,
             "#46039f"
            ],
            [
             0.2222222222222222,
             "#7201a8"
            ],
            [
             0.3333333333333333,
             "#9c179e"
            ],
            [
             0.4444444444444444,
             "#bd3786"
            ],
            [
             0.5555555555555556,
             "#d8576b"
            ],
            [
             0.6666666666666666,
             "#ed7953"
            ],
            [
             0.7777777777777778,
             "#fb9f3a"
            ],
            [
             0.8888888888888888,
             "#fdca26"
            ],
            [
             1,
             "#f0f921"
            ]
           ],
           "sequentialminus": [
            [
             0,
             "#0d0887"
            ],
            [
             0.1111111111111111,
             "#46039f"
            ],
            [
             0.2222222222222222,
             "#7201a8"
            ],
            [
             0.3333333333333333,
             "#9c179e"
            ],
            [
             0.4444444444444444,
             "#bd3786"
            ],
            [
             0.5555555555555556,
             "#d8576b"
            ],
            [
             0.6666666666666666,
             "#ed7953"
            ],
            [
             0.7777777777777778,
             "#fb9f3a"
            ],
            [
             0.8888888888888888,
             "#fdca26"
            ],
            [
             1,
             "#f0f921"
            ]
           ]
          },
          "colorway": [
           "#636efa",
           "#EF553B",
           "#00cc96",
           "#ab63fa",
           "#FFA15A",
           "#19d3f3",
           "#FF6692",
           "#B6E880",
           "#FF97FF",
           "#FECB52"
          ],
          "font": {
           "color": "#2a3f5f"
          },
          "geo": {
           "bgcolor": "white",
           "lakecolor": "white",
           "landcolor": "#E5ECF6",
           "showlakes": true,
           "showland": true,
           "subunitcolor": "white"
          },
          "hoverlabel": {
           "align": "left"
          },
          "hovermode": "closest",
          "mapbox": {
           "style": "light"
          },
          "paper_bgcolor": "white",
          "plot_bgcolor": "#E5ECF6",
          "polar": {
           "angularaxis": {
            "gridcolor": "white",
            "linecolor": "white",
            "ticks": ""
           },
           "bgcolor": "#E5ECF6",
           "radialaxis": {
            "gridcolor": "white",
            "linecolor": "white",
            "ticks": ""
           }
          },
          "scene": {
           "xaxis": {
            "backgroundcolor": "#E5ECF6",
            "gridcolor": "white",
            "gridwidth": 2,
            "linecolor": "white",
            "showbackground": true,
            "ticks": "",
            "zerolinecolor": "white"
           },
           "yaxis": {
            "backgroundcolor": "#E5ECF6",
            "gridcolor": "white",
            "gridwidth": 2,
            "linecolor": "white",
            "showbackground": true,
            "ticks": "",
            "zerolinecolor": "white"
           },
           "zaxis": {
            "backgroundcolor": "#E5ECF6",
            "gridcolor": "white",
            "gridwidth": 2,
            "linecolor": "white",
            "showbackground": true,
            "ticks": "",
            "zerolinecolor": "white"
           }
          },
          "shapedefaults": {
           "line": {
            "color": "#2a3f5f"
           }
          },
          "ternary": {
           "aaxis": {
            "gridcolor": "white",
            "linecolor": "white",
            "ticks": ""
           },
           "baxis": {
            "gridcolor": "white",
            "linecolor": "white",
            "ticks": ""
           },
           "bgcolor": "#E5ECF6",
           "caxis": {
            "gridcolor": "white",
            "linecolor": "white",
            "ticks": ""
           }
          },
          "title": {
           "x": 0.05
          },
          "xaxis": {
           "automargin": true,
           "gridcolor": "white",
           "linecolor": "white",
           "ticks": "",
           "title": {
            "standoff": 15
           },
           "zerolinecolor": "white",
           "zerolinewidth": 2
          },
          "yaxis": {
           "automargin": true,
           "gridcolor": "white",
           "linecolor": "white",
           "ticks": "",
           "title": {
            "standoff": 15
           },
           "zerolinecolor": "white",
           "zerolinewidth": 2
          }
         }
        },
        "title": {
         "text": "Word Embeddings"
        }
       }
      }
     },
     "metadata": {},
     "output_type": "display_data"
    }
   ],
   "source": [
    "def plot_2d_embeddings(embeddings, id_start=1, count=100):\n",
    "  # Get 1st and 2nd embedding dims for the desired tokens.\n",
    "  x1 = embeddings[id_start:id_start+count, 0]\n",
    "  x2 = embeddings[id_start:id_start+count, 1]\n",
    "  \n",
    "  # Get the corresponding words from the reverse index (for labeling).\n",
    "  tokens = [reverse_index[i] for i in range(id_start, id_start+count)]\n",
    "\n",
    "  # Plot with the plotly library.\n",
    "  data = plotly.Scatter(x=x1, y=x2, text=tokens,\n",
    "                        mode='markers', textposition='bottom left',\n",
    "                        hoverinfo='text')\n",
    "  fig = plotly.Figure(data=[data],\n",
    "                      layout=plotly.Layout(title=\"Word Embeddings\",\n",
    "                                           hovermode='closest'))\n",
    "  fig.show()\n",
    "\n",
    "# Very frequent tokens tend to be more syntactic than semantic, so let's plot\n",
    "# some rarer words.    \n",
    "plot_2d_embeddings(embeddings, id_start=500, count=500)"
   ]
  },
  {
   "cell_type": "markdown",
   "metadata": {
    "id": "Z3Mm8MjRcZ20"
   },
   "source": [
    "---\n",
    "### Exercise 4: Interpreting Embeddings (20 points)\n",
    "Notice that the 2-D embeddings fall in a narrow diagonal band.\n",
    "\n",
    "1. Have the learned embeddings separated positive and negative words? What is the most negative word? Does this make sense?\n",
    "2. Give 2 examples of words that seem to have surprising embedding values and try to explain their positions. For example, what's going on with the tokens '7', '8', and '9'? What are two other surprising results?\n",
    "3. The embedding for 'crazy' is very close to (0,0). Explain what this means in terms of the model's output.\n",
    "4. Can you explain what you think the 2 learned embedding dimensions mean, if anything?"
   ]
  },
  {
   "cell_type": "markdown",
   "metadata": {
    "id": "x_qAAvvo2y3t"
   },
   "source": [
    "*Written answers:*\n",
    "\n",
    "1. Yes, it appears that the embeddings separate positive and negative words, but not perfectly: there are many words without a strong embedding that could be used to label either positive or negative sentiments. The most negative word is \"avoid\". This makes sense given that the dataset contains movie reviews, and reviewers may commonly suggest that readers \"avoid\" a given film.\n",
    "2. For the first example, the placement of tokens that reflect numbers (i.e. '7', '8', '9') seems surprising at first, but may refer to scoring out of 10, which reviewers may commonly type out in their reviews. Another suprising positive token is \"today\", which may be used by reviewers to suggest that viewers should go see the film today / as soon as possible.\n",
    "3. The low embedding suggests that the word \"crazy\" is not closely associated with positivity or negativity, or with other words that are associated with positivity or negativity. This may be because \"crazy\" is being used by reviewers to generally describe the extent of other descriptors.\n",
    "4. It is difficult to explain what learned embeddings mean discretely, beyond being useful to relatively compare the assocition of different tokens with other tokens and with classes.\n"
   ]
  },
  {
   "cell_type": "markdown",
   "metadata": {},
   "source": [
    "---"
   ]
  },
  {
   "cell_type": "markdown",
   "metadata": {
    "id": "IXCitmUvxfwb"
   },
   "source": [
    "## Scaling Up!\n",
    "Remember how we limited our input sequences to 20 tokens and 1000 vocabulary entries? Let's see how well we can do using more data and bigger models (more parameters)."
   ]
  },
  {
   "cell_type": "markdown",
   "metadata": {
    "id": "OKZDEGS7xzr6"
   },
   "source": [
    "### Exercise 5: Improve Results (20 points)\n",
    "Using pieces of code from above, set up and train a model that improves the validation accuracy to at least 80%. You should include the following elements:\n",
    "\n",
    "1. Truncate and pad input to the desired length.\n",
    "2. Limit vocabulary to the desired size.\n",
    "3. Set up a model using embeddings.\n",
    "4. Add an additional layer or layers (after the embeddings layer and before the output layer).\n",
    "5. Evaluate on the test data. Remember to apply the same pre-processing to the test data. You can use model.evaluate()."
   ]
  },
  {
   "cell_type": "code",
   "execution_count": 21,
   "metadata": {
    "id": "ekbJ4sIq2hID"
   },
   "outputs": [
    {
     "name": "stdout",
     "output_type": "stream",
     "text": [
      "Epoch 1/5\n",
      " 28/352 [=>............................] - ETA: 32s - loss: 0.6936 - accuracy: 0.4950"
     ]
    },
    {
     "name": "stdout",
     "output_type": "stream",
     "text": [
      "352/352 [==============================] - 16s 43ms/step - loss: 0.5722 - accuracy: 0.7056 - val_loss: 0.3872 - val_accuracy: 0.8280\n",
      "Epoch 2/5\n",
      "352/352 [==============================] - 4s 10ms/step - loss: 0.3081 - accuracy: 0.8697 - val_loss: 0.3525 - val_accuracy: 0.8460\n",
      "Epoch 3/5\n",
      "352/352 [==============================] - 4s 10ms/step - loss: 0.2488 - accuracy: 0.9012 - val_loss: 0.3476 - val_accuracy: 0.8484\n",
      "Epoch 4/5\n",
      "352/352 [==============================] - 3s 8ms/step - loss: 0.2115 - accuracy: 0.9189 - val_loss: 0.3667 - val_accuracy: 0.8452\n",
      "Epoch 5/5\n",
      "352/352 [==============================] - 2s 4ms/step - loss: 0.1836 - accuracy: 0.9332 - val_loss: 0.3979 - val_accuracy: 0.8384\n",
      "782/782 [==============================] - 1s 1ms/step - loss: 0.3996 - accuracy: 0.8414\n",
      "Test Loss: 0.399614542722702\n",
      "Test Accuracy: 0.8414000272750854\n"
     ]
    }
   ],
   "source": [
    "# YOUR CODE HERE\n",
    "def build_better_embeddings_model(average_over_positions=False,\n",
    "                           vocab_size=10000,\n",
    "                           sequence_length=100,\n",
    "                           embedding_dim=2):\n",
    "  \"\"\"Build a tf.keras model using embeddings.\"\"\"\n",
    "  # Clear session and remove randomness.\n",
    "  tf.keras.backend.clear_session()\n",
    "  tf.random.set_seed(0)\n",
    "\n",
    "  model = tf.keras.Sequential()\n",
    "  model.add(tf.keras.layers.Embedding(\n",
    "      input_dim=vocab_size,\n",
    "      output_dim=embedding_dim,\n",
    "      input_length=sequence_length)\n",
    "  )\n",
    "\n",
    "  if average_over_positions:\n",
    "    # This layer averages over the first dimension of the input by default.\n",
    "    model.add(tf.keras.layers.GlobalAveragePooling1D())\n",
    "    model.add(tf.keras.layers.Dense(units=64, activation='relu'))\n",
    "    model.add(tf.keras.layers.Dense(units=64, activation='relu'))\n",
    "  else:\n",
    "    # Concatenate.\n",
    "    model.add(tf.keras.layers.Flatten())\n",
    "    model.add(tf.keras.layers.Dense(units=64, activation='relu'))\n",
    "    model.add(tf.keras.layers.Dense(units=64, activation='relu'))\n",
    "  \n",
    "  model.add(tf.keras.layers.Dense(\n",
    "      units=1,                     # output dim (for binary classification)\n",
    "      activation='sigmoid'         # apply the sigmoid function!\n",
    "  ))\n",
    "\n",
    "  model.compile(loss='binary_crossentropy', \n",
    "                optimizer='adam',\n",
    "                metrics=['accuracy'])\n",
    "\n",
    "  return model\n",
    "\n",
    "model = build_better_embeddings_model(average_over_positions=True)\n",
    "\n",
    "max_token_id=10000\n",
    "max_length=100\n",
    "\n",
    "X_train_padded = pad_data(X_train, max_length=max_length)\n",
    "X_train_reduced = limit_vocab(X_train_padded, max_token_id=max_token_id)\n",
    "X_test_padded = pad_data(X_test, max_length=max_length)\n",
    "X_test_reduced = limit_vocab(X_test_padded, max_token_id=max_token_id)\n",
    "\n",
    "history = model.fit(\n",
    "  x = X_train_reduced,  # our sparse padded training data\n",
    "  y = Y_train,          # corresponding binary labels\n",
    "  epochs=5,             # number of passes through the training data\n",
    "  batch_size=64,        # mini-batch size\n",
    "  validation_split=0.1, # use a fraction of the examples for validation\n",
    "  verbose=1             # display some progress output during training\n",
    ")\n",
    "\n",
    "\n",
    "test_loss, test_accuracy = model.evaluate(x=X_test_reduced, y=Y_test, verbose=1)\n",
    "print(\"Test Loss:\", test_loss)\n",
    "print(\"Test Accuracy:\", test_accuracy)"
   ]
  },
  {
   "cell_type": "markdown",
   "metadata": {
    "id": "7EEJI9yC2jOJ"
   },
   "source": [
    "---"
   ]
  }
 ],
 "metadata": {
  "colab": {
   "authorship_tag": "ABX9TyMbG/uKJC3itEUb58OjZyV3",
   "name": "09 Embeddings for Text.ipynb",
   "provenance": []
  },
  "kernelspec": {
   "display_name": "Python 3",
   "language": "python",
   "name": "python3"
  },
  "language_info": {
   "codemirror_mode": {
    "name": "ipython",
    "version": 3
   },
   "file_extension": ".py",
   "mimetype": "text/x-python",
   "name": "python",
   "nbconvert_exporter": "python",
   "pygments_lexer": "ipython3",
   "version": "3.11.1"
  }
 },
 "nbformat": 4,
 "nbformat_minor": 4
}
