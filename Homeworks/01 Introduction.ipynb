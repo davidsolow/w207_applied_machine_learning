{
  "cells": [
    {
      "cell_type": "markdown",
      "metadata": {
        "id": "rHLcriKWLRe4"
      },
      "source": [
        "# Lab 1"
      ]
    },
    {
      "cell_type": "markdown",
      "metadata": {
        "id": "zZ3OLESZrdAj"
      },
      "source": [
        "### <span style=\"color:chocolate\"> Submission requirements </span>\n",
        "\n",
        "Your homework will not be graded if your notebook doesn't include output. In other words, <span style=\"color:red\"> make sure to rerun your notebook before submitting to Gradescope </span> (Note: if you are using Google Colab: go to Edit > Notebook Settings  and uncheck Omit code cell output when saving this notebook, otherwise the output is not printed).\n",
        "\n",
        "Additional points may be deducted if these requirements are not met:\n",
        "    \n",
        "* Comment your code\n",
        "* Each graph should have a title, labels for each axis, and (if needed) a legend. Each graph should be understandable on its own\n",
        "* Try and minimize the use of the global namespace (meaning, keep things inside functions)\n",
        "* Upload your .ipynb file to Gradescope when done\n",
        "---"
      ]
    },
    {
      "cell_type": "code",
      "execution_count": 1,
      "metadata": {
        "id": "7X58hOMTUH-w"
      },
      "outputs": [],
      "source": [
        "# Import the libraries we'll use below.\n",
        "import numpy as np\n",
        "import matplotlib.pyplot as plt"
      ]
    },
    {
      "cell_type": "markdown",
      "metadata": {
        "id": "0nNOD-Z7SzAq"
      },
      "source": [
        "## Data as matrices\n",
        "Data usually comes in the form of matrices. The Python Numpy library makes it easy to manipulate matrices efficiently. See the [Numpy Tutorial](https://docs.scipy.org/doc/numpy/user/quickstart.html) for details."
      ]
    },
    {
      "cell_type": "code",
      "execution_count": 2,
      "metadata": {
        "colab": {
          "base_uri": "https://localhost:8080/"
        },
        "id": "KWlmuAMwTZ3P",
        "outputId": "9a14424c-2fc7-4dc1-cde2-5b91dfacfc56"
      },
      "outputs": [
        {
          "name": "stdout",
          "output_type": "stream",
          "text": [
            "[1 2 3]\n",
            "[[ 1  2  3  4]\n",
            " [ 5  6  7  8]\n",
            " [ 9 10 11 12]]\n",
            "[[1. 1. 1.]\n",
            " [1. 1. 1.]]\n",
            "[[1. 0. 0.]\n",
            " [0. 1. 0.]\n",
            " [0. 0. 1.]]\n"
          ]
        }
      ],
      "source": [
        "# Print these to make sure you understand what is being generated.\n",
        "A = np.array([1, 2, 3])\n",
        "B = np.arange(1, 13).reshape(3, 4)\n",
        "C = np.ones((2, 3))\n",
        "D = np.eye(3)\n",
        "\n",
        "print(A)\n",
        "print(B)\n",
        "print(C)def MSE(true_values, predicted_values):\n",
        "\n",
        "  \"\"\"Return the MSE between true_values and predicted values.\"\"\"\n",
        "\n",
        "  # YOUR CODE HERE\n",
        "\n",
        "  mse = np.sum((true_values - predicted_values) **  2) / true_values.size\n",
        "\n",
        "  return mse\n",
        "print(D)"
      ]
    },
    {
      "cell_type": "markdown",
      "metadata": {
        "id": "T4wvvzKoUIAN"
      },
      "source": [
        "---\n",
        "### Exercise 1: Matrix manipulation (25 points)"
      ]
    },
    {
      "cell_type": "markdown",
      "metadata": {
        "id": "v4Q5NlGBrdAl"
      },
      "source": [
        "Perform the following computations using numpy functions and <span style=\"color:chocolate\">print</span> the results. Note that the `*` operator implies matrix multiplication  (typically denoted using dot notation in linear algebra) -- make sure the dimensions align!\n",
        "1. 2A + 1\n",
        "2. Sum the rows of B (Hint: pass axis=1 to the cooresponding sum function)\n",
        "3. Sum the columns of B (Hint: pass axis=0 to the cooresponding sum function)\n",
        "4. Number of elements of B greater than 5\n",
        "5. C + C\n",
        "6. A * B"
      ]
    },
    {
      "cell_type": "code",
      "execution_count": 3,
      "metadata": {
        "colab": {
          "base_uri": "https://localhost:8080/"
        },
        "id": "HJtwrjdO6TbS",
        "outputId": "f24c3ced-3d23-4ef5-a1c5-fb0f83d3c393"
      },
      "outputs": [
        {
          "name": "stdout",
          "output_type": "stream",
          "text": [
            "1.1-----\n",
            "[3 5 7]\n",
            "1.2-----\n",
            "[10 26 42]\n",
            "1.3-----\n",
            "[15 18 21 24]\n",
            "1.4-----\n",
            "7\n",
            "1.5-----\n",
            "[[2. 2. 2.]\n",
            " [2. 2. 2.]]\n",
            "1.6-----\n",
            "[38 44 50 56]\n"
          ]
        }
      ],
      "source": [
        "# YOUR CODE HERE\n",
        "\n",
        "# Function for 1.1 (2A + 1)\n",
        "def one_one(A):\n",
        "  \"\"\"\n",
        "  Multiply a numpy array by 2 and add 1.\n",
        "\n",
        "  Args:\n",
        "    A: a numpy array\n",
        "\n",
        "  Returns:\n",
        "    A multiplied by two and added to 1\n",
        "  \"\"\"\n",
        "\n",
        "  return np.add(np.multiply(2, A), 1)\n",
        "\n",
        "# Function for 1.2 (Sum the rows of B)\n",
        "def one_two(B):\n",
        "  \"\"\"\n",
        "  Sum the rows of a numpy matrix.\n",
        "\n",
        "  Args:\n",
        "    B: a numpy matrix\n",
        "\n",
        "  Returns:\n",
        "    The sum of the rows of B\n",
        "  \"\"\"\n",
        "\n",
        "  return np.sum(B, axis=1)\n",
        "\n",
        "# Function for 1.3 (Sum the columns of B)\n",
        "def one_three(B):\n",
        "  \"\"\"\n",
        "  Sum the columns of a numpy matrix.\n",
        "\n",
        "  Args:\n",
        "    B: a numpy matrix\n",
        "\n",
        "  Returns:\n",
        "    The sum of the columns of B\n",
        "  \"\"\"\n",
        "\n",
        "  return np.sum(B, axis=0)\n",
        "\n",
        "# Function for 1.4 (number of elements of B greater than 5)\n",
        "def one_four(B):\n",
        "  \"\"\"\n",
        "  Find the number of elements in a numpy matrix that are greater than five.\n",
        "\n",
        "  Args:\n",
        "    B: a numpy matrix\n",
        "\n",
        "  Returns:\n",
        "    The number of elements in B that are greater than 5\n",
        "\n",
        "  \"\"\"\n",
        "  return B[np.where(B > 5)].size\n",
        "\n",
        "# Function for 1.5 (C + C)\n",
        "def one_five(C):\n",
        "  \"\"\"\n",
        "  Add two numpy matrices together.\n",
        "\n",
        "  Args:\n",
        "    C: a numpy matrix\n",
        "\n",
        "  Returns:\n",
        "    C added to itself\n",
        "\n",
        "  \"\"\"\n",
        "\n",
        "  return np.add(C, C)\n",
        "\n",
        "# Function for 1.6 (A*B)\n",
        "def one_six(A, B):\n",
        "  \"\"\"\n",
        "  Get the dot product of two numpy matrices.\n",
        "\n",
        "  Args:\n",
        "    A: a numpy matrix (a 1 by M matrix if a vector)\n",
        "    B: a numpy matrix (a 1 by M matrix if a vector)\n",
        "\n",
        "  Returns:\n",
        "    The dot product of A and B\n",
        "  \"\"\"\n",
        "\n",
        "  return np.dot(A, B)\n",
        "\n",
        "# Print all results\n",
        "print('1.1-----')\n",
        "print(one_one(A))\n",
        "print('1.2-----')\n",
        "print(one_two(B))\n",
        "print('1.3-----')\n",
        "print(one_three(B))\n",
        "print('1.4-----')\n",
        "print(one_four(B))\n",
        "print('1.5-----')\n",
        "print(one_five(C))\n",
        "print('1.6-----')\n",
        "print(one_six(A, B))"
      ]
    },
    {
      "cell_type": "markdown",
      "metadata": {
        "id": "IBiImum9rdAl"
      },
      "source": [
        "---"
      ]
    },
    {
      "cell_type": "markdown",
      "metadata": {
        "id": "xbCRG2-uUKCT"
      },
      "source": [
        "## Data for Supervised Learning\n",
        "Supervised learning is all about learning to make predictions: given an input $x$ (e.g. home square footage), can we produce an output $\\hat{y}$ (e.g. estimated value) as close to the actual observed output $y$ (e.g. sale price) as possible. Note that the \"hat\" above $y$ is used to denote an estimated or predicted value.\n",
        "\n",
        "Let's start by generating some artificial data. We'll create a vector of inputs, $X$, and a corresponding vector of target outputs $Y$. In general, we'll refer to invidual examples with a lowercase ($x$), and a vector or matrix containing multiple examples with a capital ($X$)."
      ]
    },
    {
      "cell_type": "code",
      "execution_count": 4,
      "metadata": {
        "id": "Ulmn_bFdU87t"
      },
      "outputs": [],
      "source": [
        "def create_1d_data(num_examples=10, w=2, b=1, random_scale=1):\n",
        "  \"\"\"Create X, Y data with a linear relationship with added noise.\n",
        "\n",
        "  Args:\n",
        "    num_examples: number of examples to generate\n",
        "    w: desired slope\n",
        "    b: desired intercept\n",
        "    random_scale: add uniform noise between -random_scale and +random_scale\n",
        "\n",
        "  Returns:\n",
        "    X and Y with shape (num_examples)\n",
        "  \"\"\"\n",
        "  X = np.arange(num_examples)\n",
        "  np.random.seed(4)  # consistent random number generation\n",
        "  deltas = np.random.uniform(low=-random_scale, high=random_scale, size=X.shape)\n",
        "  Y = b + deltas + w * X\n",
        "  return X, Y"
      ]
    },
    {
      "cell_type": "code",
      "execution_count": 5,
      "metadata": {
        "colab": {
          "base_uri": "https://localhost:8080/",
          "height": 430
        },
        "id": "6qJg0IiYVJ8U",
        "outputId": "06fa5b80-9e99-4040-ce72-f18aa6da6646"
      },
      "outputs": [
        {
          "data": {
            "image/png": "[encoded data removed]",
            "text/plain": [
              "<Figure size 640x480 with 1 Axes>"
            ]
          },
          "metadata": {},
          "output_type": "display_data"
        }
      ],
      "source": [
        "# Create some artificial data using create_1d_data.\n",
        "X, Y = create_1d_data()\n",
        "plt.scatter(X, Y)\n",
        "plt.show()"
      ]
    },
    {
      "cell_type": "markdown",
      "metadata": {
        "id": "W6coKbXSpXOz"
      },
      "source": [
        "---\n",
        "### Exercise 2: Models for Data (25 points)"
      ]
    },
    {
      "cell_type": "markdown",
      "metadata": {
        "id": "m_wUCjIFrdAn"
      },
      "source": [
        "A model is a function that takes an input $x$ and produces a prediction $\\hat{y}$.\n",
        "\n",
        "Let's consider two possible models for this data:\n",
        "1. $M_1(x) = x+5$\n",
        "2. $M_2(x) = 2x+1$\n",
        "\n",
        "Compute the predictions of models $M_1$ and $M_2$ for the values in $X$. These predictions should be vectors of the same shape as $Y$. Then plot the prediction lines of these two models overlayed on the \"observed\" data $(X, Y)$. Use [plt.plot()](https://matplotlib.org/api/_as_gen/matplotlib.pyplot.plot.html) to draw the lines. Note: you will generate only one plot. Make sure to include axes, titles and legend."
      ]
    },
    {
      "cell_type": "code",
      "execution_count": 6,
      "metadata": {
        "colab": {
          "base_uri": "https://localhost:8080/",
          "height": 489
        },
        "id": "AHIY5kNXUIAP",
        "outputId": "9345279e-019d-49d1-ce1a-ad1ed5a65625"
      },
      "outputs": [
        {
          "data": {
            "text/plain": [
              "<function matplotlib.pyplot.show(close=None, block=None)>"
            ]
          },
          "execution_count": 6,
          "metadata": {},
          "output_type": "execute_result"
        },
        {
          "data": {
            "image/png": "[encoded data removed]",
            "text/plain": [
              "<Figure size 640x480 with 1 Axes>"
            ]
          },
          "metadata": {},
          "output_type": "display_data"
        }
      ],
      "source": [
        "# YOUR CODE HERE\n",
        "\n",
        "# Function to generate model predictions\n",
        "def two(mod, X):\n",
        "  \"\"\"\n",
        "  Generate predicted values based on one of two defined linear models.\n",
        "\n",
        "  Args:\n",
        "    mod: The linear model\n",
        "    X: feature vector\n",
        "\n",
        "  Returns:\n",
        "    Predicted values\n",
        "  \"\"\"\n",
        "\n",
        "  if mod == 1:\n",
        "    Y = X + 5\n",
        "  if mod == 2:\n",
        "    Y = (2*X) + 1\n",
        "\n",
        "  return Y\n",
        "\n",
        "M1 = two(1, X)\n",
        "M2 = two(2, X)\n",
        "\n",
        "plt.scatter(X, Y, color=\"gray\")\n",
        "plt.plot(two(1, X), color=\"blue\", label=\"Model 1\")\n",
        "plt.plot(two(2, X), color=\"green\", label=\"Model 2\")\n",
        "plt.xlabel(\"X Values\")\n",
        "plt.ylabel(\"Y Values\")\n",
        "plt.title(\"Comparison: Model 1 vs. Model 2\")\n",
        "plt.legend(frameon=False)\n",
        "plt.show()\n"
      ]
    },
    {
      "cell_type": "markdown",
      "metadata": {
        "id": "17CVW1J7rdAn"
      },
      "source": [
        "---"
      ]
    },
    {
      "cell_type": "markdown",
      "metadata": {
        "id": "NH-0soZiWx9x"
      },
      "source": [
        "## Evaluation Metrics\n",
        "\n",
        "How good are our models? Intuitively, the better the model, the more closely it fits the data we have. That is, for each $x$, we'll compare $y$, the true value, with $\\hat{y}$, the predicted value. This comparison is often called the *loss* or the *error*. One common such comparison is *squared error*: $(y-\\hat{y})^2$. Averaging over all our data points, we get the *mean squared error*:\n",
        "\n",
        "\\begin{equation}\n",
        "\\textit{MSE} = \\frac{1}{n} \\sum_{y_i \\in Y}(y_i - \\hat{y}_i)^2\n",
        "\\end{equation}"
      ]
    },
    {
      "cell_type": "markdown",
      "metadata": {
        "id": "_AyY2DpxYLI0"
      },
      "source": [
        "---\n",
        "### Exercise 3: Computing MSE (25 points)"
      ]
    },
    {
      "cell_type": "markdown",
      "metadata": {
        "id": "Ha-knOcErdAn"
      },
      "source": [
        "Write a function for computing the MSE metric and use it to compute the MSE for the two models above, $M_1$ and $M_2$."
      ]
    },
    {
      "cell_type": "code",
      "execution_count": 7,
      "metadata": {
        "id": "uCeAfI5mW9sg"
      },
      "outputs": [],
      "source": [
        "def MSE(true_values, predicted_values):\n",
        "  \"\"\"Return the MSE between true_values and predicted values.\"\"\"\n",
        "  # YOUR CODE HERE\n",
        "  mse = np.sum((true_values - predicted_values) **  2) / true_values.size\n",
        "  return mse"
      ]
    },
    {
      "cell_type": "code",
      "execution_count": 8,
      "metadata": {
        "colab": {
          "base_uri": "https://localhost:8080/"
        },
        "id": "uF-x9DI2ZOKq",
        "outputId": "2c480f55-90ca-4b1b-c284-b1f94589b23c"
      },
      "outputs": [
        {
          "name": "stdout",
          "output_type": "stream",
          "text": [
            "MSE for M1: 6.839502909434264\n",
            "MSE for M2: 0.45821672338761366\n"
          ]
        }
      ],
      "source": [
        "print ('MSE for M1:', MSE(Y, M1))\n",
        "print ('MSE for M2:', MSE(Y, M2))"
      ]
    },
    {
      "cell_type": "markdown",
      "metadata": {
        "id": "zn_lfoxhrdAo"
      },
      "source": [
        "---"
      ]
    },
    {
      "cell_type": "markdown",
      "metadata": {
        "id": "eDiy3OZwZlwj"
      },
      "source": [
        "## Generalization\n",
        "\n",
        "Our data $(X, Y)$ represents just a sample of all possible input-output pairs we might care about. A model will be useful to the extent we can apply it to new inputs. Consider the more complex model below, which appears to produce a much smaller mean squared error."
      ]
    },
    {
      "cell_type": "code",
      "execution_count": 9,
      "metadata": {
        "colab": {
          "base_uri": "https://localhost:8080/",
          "height": 447
        },
        "id": "ns1siZ9DZvSY",
        "outputId": "7d20c367-0f0b-44e3-d937-5551f50d925a"
      },
      "outputs": [
        {
          "name": "stdout",
          "output_type": "stream",
          "text": [
            "MSE for M3: 0.10941956925521772\n"
          ]
        },
        {
          "data": {
            "image/png": "[encoded data removed]",
            "text/plain": [
              "<Figure size 640x480 with 1 Axes>"
            ]
          },
          "metadata": {},
          "output_type": "display_data"
        }
      ],
      "source": [
        "# Fit an 8-th degree polynomial to (X, Y). See np.polyfit for details.\n",
        "polynomial_model_coefficients = np.polyfit(X, Y, deg=8)\n",
        "polynomial_model = np.poly1d(polynomial_model_coefficients)\n",
        "M3 = polynomial_model(X)\n",
        "fig = plt.scatter(X, Y)\n",
        "plt.plot(X, M3, '-k')\n",
        "print ('MSE for M3:', MSE(Y, M3))"
      ]
    },
    {
      "cell_type": "markdown",
      "metadata": {
        "id": "M2m9YmLMZ1EV"
      },
      "source": [
        "---\n",
        "### Exercise 4: Generalization (25 points)"
      ]
    },
    {
      "cell_type": "markdown",
      "metadata": {
        "id": "bfB7bDRsrdAo"
      },
      "source": [
        "Explain whether you expect $M_3$ to be better than $M_2$ at predicting the labels for new unseen inputs."
      ]
    },
    {
      "cell_type": "markdown",
      "metadata": {
        "id": "h0Zpx79_aQEC"
      },
      "source": [
        "*Writen answer:*"
      ]
    },
    {
      "cell_type": "markdown",
      "metadata": {
        "id": "j9EH9D7Faf9n"
      },
      "source": [
        "---\n",
        "I expect M3 to be worse at predicting the labels for unseen inputs compared to M2 because M3 is overfitted to the training data. Our X values are generated based on a linear function (with some noise added uniformly at random), and not an eighth degree polynomial. Given that the noise is random, we should not attempt to fit it perfectly as the noise from unseen inputs will not be the same. Instead, we should stick with a linear model which, on average, will best fit new data that is generated similary to our X values but with different noise."
      ]
    },
    {
      "cell_type": "markdown",
      "metadata": {
        "id": "6hIdZHngdrET"
      },
      "source": [
        "## Review\n",
        "\n",
        "* In **Supervised Machine Learning**, we must start with data in the form $(X,Y)$ where $X$ are the inputs and $Y$ are the output labels.\n",
        "* A **model** is a function that maps an input $x$ to an output $y$. The model's output is referred to as a **prediction**, denoted by $\\hat{y}$.\n",
        "* We **evaluate** predictions by comparing them to the true labels. This measurement is called a **loss** or **error**. For real-valued data, **mean squared error** is a common metric.\n",
        "* A model is only as good as its ability to **generalize** to new examples."
      ]
    }
  ],
  "metadata": {
    "colab": {
      "provenance": []
    },
    "kernelspec": {
      "display_name": "Python 3",
      "name": "python3"
    },
    "language_info": {
      "codemirror_mode": {
        "name": "ipython",
        "version": 3
      },
      "file_extension": ".py",
      "mimetype": "text/x-python",
      "name": "python",
      "nbconvert_exporter": "python",
      "pygments_lexer": "ipython3",
      "version": "3.8.3"
    }
  },
  "nbformat": 4,
  "nbformat_minor": 0
}
