{
 "cells": [
  {
   "cell_type": "code",
   "execution_count": 1,
   "metadata": {},
   "outputs": [],
   "source": [
    "def naive_relu(x):\n",
    "    assert len(x.shape) == 2\n",
    "    x = x.copy()\n",
    "    for i in range(x.shape[0]):\n",
    "        for j in range(x.shape[1]):\n",
    "            x[i,j] = max(x[i,j], 0)\n",
    "\n",
    "    return x"
   ]
  },
  {
   "cell_type": "code",
   "execution_count": 2,
   "metadata": {},
   "outputs": [],
   "source": [
    "def naive_add(x, y):\n",
    "    assert len(x.shape) == 2\n",
    "    assert x.shape == y.shape\n",
    "\n",
    "    x = x.copy()\n",
    "    for i in range(x.shape[0]):\n",
    "        for j in range(x.shape[1]):\n",
    "            x[i,j] += y[i,j]\n",
    "    \n",
    "    return x"
   ]
  },
  {
   "cell_type": "code",
   "execution_count": 3,
   "metadata": {},
   "outputs": [],
   "source": [
    "def naive_add_matrix_and_vector(x, y):\n",
    "    assert len(x.shape) == 2\n",
    "    assert len(y.shape) == 1\n",
    "    assert x.shape[1] == y.shape[0]\n",
    "\n",
    "    x = x.copy()\n",
    "    for i in range(x.shape[0]):\n",
    "        for j in range(x.shape[1]):\n",
    "            x[i, j] += y[j]\n",
    "\n",
    "    return x"
   ]
  },
  {
   "cell_type": "code",
   "execution_count": 4,
   "metadata": {},
   "outputs": [
    {
     "name": "stdout",
     "output_type": "stream",
     "text": [
      "[[[[0.26904389 0.8705948  0.4418309  ... 0.4599279  0.85260934\n",
      "    0.84002684]\n",
      "   [0.31166864 0.64759484 0.47019876 ... 0.55616407 0.63169478\n",
      "    0.98993992]\n",
      "   [0.7770974  0.62513907 0.92647312 ... 0.58971143 0.92650393\n",
      "    0.99272361]\n",
      "   ...\n",
      "   [0.80005817 0.7262103  0.56048654 ... 0.67565854 0.76455534\n",
      "    0.66494453]\n",
      "   [0.80121628 0.74490646 0.51168756 ... 0.87525406 0.97515618\n",
      "    0.41276969]\n",
      "   [0.56951414 0.29062341 0.97026291 ... 0.898567   0.35458657\n",
      "    0.98480159]]\n",
      "\n",
      "  [[0.26904389 0.8705948  0.41585944 ... 0.4599279  0.44120435\n",
      "    0.35115919]\n",
      "   [0.50116676 0.17812621 0.65698579 ... 0.59260867 0.63169478\n",
      "    0.55844427]\n",
      "   [0.89524223 0.24437161 0.92647312 ... 0.79516633 0.90251856\n",
      "    0.47235908]\n",
      "   ...\n",
      "   [0.17900692 0.80394267 0.84194667 ... 0.67565854 0.49133814\n",
      "    0.97372693]\n",
      "   [0.79498989 0.95689586 0.51168756 ... 0.87525406 0.31477705\n",
      "    0.85818958]\n",
      "   [0.87459097 0.2304525  0.41342798 ... 0.57823184 0.35458657\n",
      "    0.92382938]]\n",
      "\n",
      "  [[0.26904389 0.8705948  0.963255   ... 0.4599279  0.44120435\n",
      "    0.25160479]\n",
      "   [0.97093774 0.41139327 0.1294823  ... 0.72106644 0.63169478\n",
      "    0.88378521]\n",
      "   [0.37882658 0.23334603 0.92647312 ... 0.24319344 0.90251856\n",
      "    0.76560434]\n",
      "   ...\n",
      "   [0.17900692 0.7262103  0.57738629 ... 0.67565854 0.49133814\n",
      "    0.94071896]\n",
      "   [0.69611866 0.25555363 0.51168756 ... 0.87525406 0.99394342\n",
      "    0.41276969]\n",
      "   [0.56951414 0.8830276  0.92317498 ... 0.83534152 0.35458657\n",
      "    0.92382938]]]\n",
      "\n",
      "\n",
      " [[[0.35334865 0.8705948  0.41585944 ... 0.83113707 0.89618216\n",
      "    0.32425452]\n",
      "   [0.31166864 0.17812621 0.94992731 ... 0.23842329 0.63169478\n",
      "    0.81001388]\n",
      "   [0.28015777 0.85769812 0.92647312 ... 0.25682678 0.90251856\n",
      "    0.40940884]\n",
      "   ...\n",
      "   [0.39361026 0.7262103  0.44699735 ... 0.67565854 0.49133814\n",
      "    0.66494453]\n",
      "   [0.45198596 0.64463164 0.57516155 ... 0.87525406 0.77356515\n",
      "    0.99681422]\n",
      "   [0.56951414 0.60641315 0.97624132 ... 0.57823184 0.76320015\n",
      "    0.92382938]]\n",
      "\n",
      "  [[0.73635547 0.8705948  0.41585944 ... 0.4599279  0.92984333\n",
      "    0.33632826]\n",
      "   [0.47484891 0.74330644 0.13283781 ... 0.5970573  0.94977458\n",
      "    0.58432613]\n",
      "   [0.9188399  0.85433553 0.92647312 ... 0.60549579 0.90251856\n",
      "    0.60808796]\n",
      "   ...\n",
      "   [0.17900692 0.7262103  0.44699735 ... 0.67565854 0.97945099\n",
      "    0.95584695]\n",
      "   [0.45198596 0.53841276 0.51168756 ... 0.87525406 0.35392358\n",
      "    0.97708151]\n",
      "   [0.59269814 0.85603434 0.41342798 ... 0.78965322 0.69624171\n",
      "    0.92382938]]\n",
      "\n",
      "  [[0.26904389 0.8705948  0.65238481 ... 0.54084499 0.68059331\n",
      "    0.95997358]\n",
      "   [0.63711506 0.17812621 0.48835259 ... 0.98454918 0.91304244\n",
      "    0.55844427]\n",
      "   [0.10704128 0.23334603 0.92647312 ... 0.61018432 0.90251856\n",
      "    0.40940884]\n",
      "   ...\n",
      "   [0.95811402 0.7262103  0.44699735 ... 0.84740698 0.49133814\n",
      "    0.78150657]\n",
      "   [0.61666333 0.31142299 0.51168756 ... 0.87525406 0.2606972\n",
      "    0.41276969]\n",
      "   [0.56951414 0.3346114  0.41342798 ... 0.57823184 0.61559357\n",
      "    0.92382938]]]\n",
      "\n",
      "\n",
      " [[[0.60060468 0.8705948  0.41585944 ... 0.84747309 0.44120435\n",
      "    0.28858662]\n",
      "   [0.52727571 0.2180617  0.19336557 ... 0.88928547 0.63169478\n",
      "    0.87039131]\n",
      "   [0.4371156  0.42589043 0.92647312 ... 0.49074328 0.90251856\n",
      "    0.40940884]\n",
      "   ...\n",
      "   [0.90758052 0.7262103  0.44699735 ... 0.83865068 0.69184643\n",
      "    0.66494453]\n",
      "   [0.67836083 0.86607654 0.51168756 ... 0.88471749 0.39426034\n",
      "    0.53510053]\n",
      "   [0.8760307  0.2304525  0.41342798 ... 0.57823184 0.35458657\n",
      "    0.92382938]]\n",
      "\n",
      "  [[0.26904389 0.8705948  0.41585944 ... 0.94536464 0.44120435\n",
      "    0.28056234]\n",
      "   [0.31166864 0.17812621 0.51521622 ... 0.52758431 0.97024959\n",
      "    0.89923531]\n",
      "   [0.86176786 0.4979647  0.92647312 ... 0.69277307 0.90251856\n",
      "    0.77031028]\n",
      "   ...\n",
      "   [0.36328237 0.7262103  0.44699735 ... 0.67565854 0.70911772\n",
      "    0.99146925]\n",
      "   [0.711965   0.56509668 0.73710418 ... 0.87525406 0.2606972\n",
      "    0.96540169]\n",
      "   [0.64541033 0.89734214 0.41342798 ... 0.99305232 0.35458657\n",
      "    0.92382938]]\n",
      "\n",
      "  [[0.73509364 0.8705948  0.56552671 ... 0.48439012 0.99005046\n",
      "    0.56699051]\n",
      "   [0.31166864 0.18475396 0.22238398 ... 0.87633554 0.99271897\n",
      "    0.96904023]\n",
      "   [0.7706081  0.23334603 0.92647312 ... 0.98630525 0.90251856\n",
      "    0.99398245]\n",
      "   ...\n",
      "   [0.39617028 0.7262103  0.44699735 ... 0.67565854 0.67440794\n",
      "    0.73794933]\n",
      "   [0.83391577 0.86114979 0.51168756 ... 0.87525406 0.84002272\n",
      "    0.56660291]\n",
      "   [0.56951414 0.44628938 0.41342798 ... 0.8912105  0.35458657\n",
      "    0.92382938]]]\n",
      "\n",
      "\n",
      " ...\n",
      "\n",
      "\n",
      " [[[0.55501208 0.8705948  0.98576716 ... 0.54086396 0.83754339\n",
      "    0.58109211]\n",
      "   [0.51519756 0.21325826 0.21466165 ... 0.10170842 0.96747675\n",
      "    0.55844427]\n",
      "   [0.63581326 0.72293783 0.92647312 ... 0.35782152 0.90251856\n",
      "    0.76048027]\n",
      "   ...\n",
      "   [0.52847153 0.7262103  0.79691975 ... 0.67565854 0.49133814\n",
      "    0.66494453]\n",
      "   [0.85522299 0.17197822 0.99699376 ... 0.87525406 0.2606972\n",
      "    0.41276969]\n",
      "   [0.56951414 0.2304525  0.94711592 ... 0.73380649 0.80687098\n",
      "    0.92382938]]\n",
      "\n",
      "  [[0.83110734 0.8705948  0.41585944 ... 0.4599279  0.44120435\n",
      "    0.20268092]\n",
      "   [0.62662916 0.17812621 0.30079995 ... 0.12757184 0.63169478\n",
      "    0.9460363 ]\n",
      "   [0.15515842 0.32647945 0.92647312 ... 0.8992017  0.90251856\n",
      "    0.57667967]\n",
      "   ...\n",
      "   [0.35526655 0.7262103  0.78559256 ... 0.67565854 0.9835536\n",
      "    0.67266074]\n",
      "   [0.90967101 0.40568116 0.55610333 ... 0.87525406 0.2606972\n",
      "    0.45790055]\n",
      "   [0.56951414 0.36584546 0.41342798 ... 0.95059914 0.35458657\n",
      "    0.98873343]]\n",
      "\n",
      "  [[0.77820277 0.8705948  0.87821804 ... 0.65880858 0.96620552\n",
      "    0.31107668]\n",
      "   [0.92516658 0.39426885 0.98859636 ... 0.43464242 0.63169478\n",
      "    0.5741734 ]\n",
      "   [0.68866309 0.35949674 0.92647312 ... 0.30152751 0.90251856\n",
      "    0.84167046]\n",
      "   ...\n",
      "   [0.17900692 0.7262103  0.44699735 ... 0.67565854 0.49133814\n",
      "    0.66494453]\n",
      "   [0.59658844 0.17197822 0.51168756 ... 0.87525406 0.40777354\n",
      "    0.54346798]\n",
      "   [0.6901271  0.2304525  0.41342798 ... 0.57823184 0.53081124\n",
      "    0.92382938]]]\n",
      "\n",
      "\n",
      " [[[0.26904389 0.91428554 0.41585944 ... 0.9985266  0.97401462\n",
      "    0.12028886]\n",
      "   [0.93272866 0.95254213 0.57348599 ... 0.21379759 0.73352599\n",
      "    0.55844427]\n",
      "   [0.23373855 0.66106804 0.92647312 ... 0.24319344 0.90251856\n",
      "    0.7073534 ]\n",
      "   ...\n",
      "   [0.46959063 0.79147136 0.44699735 ... 0.67565854 0.49133814\n",
      "    0.66494453]\n",
      "   [0.97849998 0.23402184 0.51168756 ... 0.87525406 0.71937934\n",
      "    0.44160764]\n",
      "   [0.60160062 0.97745385 0.99586666 ... 0.57823184 0.35458657\n",
      "    0.97990802]]\n",
      "\n",
      "  [[0.43617838 0.8705948  0.41585944 ... 0.4599279  0.71107592\n",
      "    0.07072868]\n",
      "   [0.32276954 0.8361916  0.46555413 ... 0.88146531 0.63169478\n",
      "    0.55844427]\n",
      "   [0.53330316 0.78185439 0.93101412 ... 0.37887319 0.90251856\n",
      "    0.97318669]\n",
      "   ...\n",
      "   [0.6683681  0.7262103  0.87796197 ... 0.8988313  0.49133814\n",
      "    0.66494453]\n",
      "   [0.60915611 0.78194156 0.75078307 ... 0.87525406 0.27487486\n",
      "    0.70331229]\n",
      "   [0.90541199 0.2304525  0.41342798 ... 0.79886841 0.35458657\n",
      "    0.92382938]]\n",
      "\n",
      "  [[0.26904389 0.8705948  0.41585944 ... 0.63072163 0.94066084\n",
      "    0.903639  ]\n",
      "   [0.87429977 0.29022962 0.67013321 ... 0.5133629  0.63169478\n",
      "    0.55844427]\n",
      "   [0.24254777 0.82445259 0.93750707 ... 0.81692422 0.92193949\n",
      "    0.76731242]\n",
      "   ...\n",
      "   [0.5110336  0.7262103  0.47749765 ... 0.67565854 0.49133814\n",
      "    0.97088214]\n",
      "   [0.48645955 0.87274491 0.51168756 ... 0.87525406 0.2606972\n",
      "    0.41276969]\n",
      "   [0.56951414 0.2304525  0.41342798 ... 0.57823184 0.97978873\n",
      "    0.92382938]]]\n",
      "\n",
      "\n",
      " [[[0.99945113 0.8705948  0.41585944 ... 0.4599279  0.44120435\n",
      "    0.07072868]\n",
      "   [0.37006535 0.47227068 0.1294823  ... 0.0952784  0.63169478\n",
      "    0.55844427]\n",
      "   [0.59587484 0.98430908 0.92647312 ... 0.77733279 0.90251856\n",
      "    0.62454849]\n",
      "   ...\n",
      "   [0.27118715 0.7262103  0.44699735 ... 0.97945997 0.49133814\n",
      "    0.66494453]\n",
      "   [0.45198596 0.91347714 0.64736159 ... 0.87525406 0.50353307\n",
      "    0.93876169]\n",
      "   [0.56951414 0.29761737 0.41342798 ... 0.57823184 0.35458657\n",
      "    0.92382938]]\n",
      "\n",
      "  [[0.86333046 0.8705948  0.89458797 ... 0.90413696 0.44120435\n",
      "    0.54676242]\n",
      "   [0.31166864 0.83453194 0.94823535 ... 0.48795177 0.63169478\n",
      "    0.85703536]\n",
      "   [0.81959606 0.81708743 0.92647312 ... 0.97485912 0.90251856\n",
      "    0.56864295]\n",
      "   ...\n",
      "   [0.17900692 0.7262103  0.44699735 ... 0.67565854 0.49133814\n",
      "    0.66494453]\n",
      "   [0.56637893 0.35659155 0.51168756 ... 0.87525406 0.2606972\n",
      "    0.41276969]\n",
      "   [0.56951414 0.29359832 0.43770313 ... 0.87813694 0.73351827\n",
      "    0.92382938]]\n",
      "\n",
      "  [[0.26904389 0.8705948  0.41585944 ... 0.4599279  0.5355076\n",
      "    0.07072868]\n",
      "   [0.31166864 0.44060208 0.84199702 ... 0.98940819 0.90508052\n",
      "    0.55844427]\n",
      "   [0.15529794 0.23334603 0.92647312 ... 0.5313128  0.90251856\n",
      "    0.61172616]\n",
      "   ...\n",
      "   [0.63651918 0.7262103  0.67183215 ... 0.81184113 0.49133814\n",
      "    0.66494453]\n",
      "   [0.45198596 0.32794779 0.51168756 ... 0.87525406 0.61596403\n",
      "    0.6766372 ]\n",
      "   [0.75416211 0.72397353 0.63939956 ... 0.64653843 0.5609258\n",
      "    0.92382938]]]]\n"
     ]
    }
   ],
   "source": [
    "import numpy as np\n",
    "\n",
    "x = np.random.random((64, 3, 32, 10))\n",
    "y = np.random.random((32, 10))\n",
    "z = np.maximum(x, y)\n",
    "print(z)"
   ]
  },
  {
   "cell_type": "code",
   "execution_count": 5,
   "metadata": {},
   "outputs": [],
   "source": [
    "def naive_vector_dot(x, y):\n",
    "    assert len(x.shape) == 1\n",
    "    assert len(y.shape) == 1\n",
    "    assert x.shape[0] == y.shape[0]\n",
    "\n",
    "    z = 0.\n",
    "    for i in range(x.shape[0]):\n",
    "        z += x[i] * y[i]\n",
    "    \n",
    "    return z"
   ]
  },
  {
   "cell_type": "code",
   "execution_count": 6,
   "metadata": {},
   "outputs": [],
   "source": [
    "import numpy as np\n",
    "\n",
    "def naive_matrix_vector_dot(x, y):\n",
    "    assert len(x.shape) == 2\n",
    "    assert len(y.shape) == 1\n",
    "    assert x.shape[1] == y.shape[0]\n",
    "    z = np.zeros(x.shape[0])\n",
    "    for i in range(x.shape[0]):\n",
    "        for j in range(x.shape[1]):\n",
    "            z[i] += x[i,j] * y[j]\n",
    "\n",
    "    return z"
   ]
  },
  {
   "cell_type": "code",
   "execution_count": 7,
   "metadata": {},
   "outputs": [],
   "source": [
    "def naive_matrix_dot(x, y):\n",
    "    assert len(x.shape) == 2\n",
    "    assert len(y.shape) == 2\n",
    "    assert x.shape[1] == y.shape[0]\n",
    "\n",
    "    z = np.zeros((x.shape[0], y.shape[1]))\n",
    "    for i in range(x.shape[0]):\n",
    "        for j in range(y.shape[1]):\n",
    "            row_x = x[i, :]\n",
    "            column_y = y[:, j]\n",
    "            z[i, j] = naive_vector_dot(row_x, column_y)\n",
    "    \n",
    "    return z"
   ]
  },
  {
   "cell_type": "code",
   "execution_count": 8,
   "metadata": {},
   "outputs": [
    {
     "name": "stdout",
     "output_type": "stream",
     "text": [
      "(3, 2)\n"
     ]
    }
   ],
   "source": [
    "x = np.array([[0., 1.],\n",
    "              [2., 3.],\n",
    "              [4., 5.]])\n",
    "print(x.shape)"
   ]
  },
  {
   "cell_type": "code",
   "execution_count": 9,
   "metadata": {},
   "outputs": [
    {
     "name": "stdout",
     "output_type": "stream",
     "text": [
      "[[0.]\n",
      " [1.]\n",
      " [2.]\n",
      " [3.]\n",
      " [4.]\n",
      " [5.]]\n"
     ]
    }
   ],
   "source": [
    "x = x.reshape((6, 1))\n",
    "print(x)"
   ]
  },
  {
   "cell_type": "code",
   "execution_count": 10,
   "metadata": {},
   "outputs": [
    {
     "name": "stdout",
     "output_type": "stream",
     "text": [
      "[[0. 1. 2.]\n",
      " [3. 4. 5.]]\n"
     ]
    }
   ],
   "source": [
    "x = x.reshape((2, 3))\n",
    "print(x)"
   ]
  },
  {
   "cell_type": "code",
   "execution_count": 11,
   "metadata": {},
   "outputs": [
    {
     "name": "stdout",
     "output_type": "stream",
     "text": [
      "(20, 300)\n"
     ]
    }
   ],
   "source": [
    "x = np.zeros((300, 20))\n",
    "x = np.transpose(x)\n",
    "print(x.shape)"
   ]
  },
  {
   "cell_type": "code",
   "execution_count": 12,
   "metadata": {},
   "outputs": [
    {
     "name": "stderr",
     "output_type": "stream",
     "text": [
      "2024-02-13 11:33:19.380097: E external/local_xla/xla/stream_executor/cuda/cuda_dnn.cc:9261] Unable to register cuDNN factory: Attempting to register factory for plugin cuDNN when one has already been registered\n",
      "2024-02-13 11:33:19.380125: E external/local_xla/xla/stream_executor/cuda/cuda_fft.cc:607] Unable to register cuFFT factory: Attempting to register factory for plugin cuFFT when one has already been registered\n",
      "2024-02-13 11:33:19.381124: E external/local_xla/xla/stream_executor/cuda/cuda_blas.cc:1515] Unable to register cuBLAS factory: Attempting to register factory for plugin cuBLAS when one has already been registered\n",
      "2024-02-13 11:33:19.386153: I tensorflow/core/platform/cpu_feature_guard.cc:182] This TensorFlow binary is optimized to use available CPU instructions in performance-critical operations.\n",
      "To enable the following instructions: AVX2 FMA, in other operations, rebuild TensorFlow with the appropriate compiler flags.\n",
      "2024-02-13 11:33:19.987652: W tensorflow/compiler/tf2tensorrt/utils/py_utils.cc:38] TF-TRT Warning: Could not find TensorRT\n"
     ]
    }
   ],
   "source": [
    "import tensorflow as tf\n",
    "mnist = tf.keras.datasets.mnist\n",
    "(train_images, train_labels), (test_images, test_lables) = mnist.load_data()\n",
    "\n",
    "train_images = train_images.reshape((60000, 28 * 28))\n",
    "train_images = train_images.astype('float32') / 255\n",
    "test_images = test_images.reshape((10000, 28 *28))\n",
    "test_images = test_images.astype('float32') / 255"
   ]
  },
  {
   "cell_type": "code",
   "execution_count": 13,
   "metadata": {},
   "outputs": [
    {
     "name": "stderr",
     "output_type": "stream",
     "text": [
      "2024-02-13 11:33:20.914557: I external/local_xla/xla/stream_executor/cuda/cuda_executor.cc:901] successful NUMA node read from SysFS had negative value (-1), but there must be at least one NUMA node, so returning NUMA node zero. See more at https://github.com/torvalds/linux/blob/v6.0/Documentation/ABI/testing/sysfs-bus-pci#L344-L355\n",
      "2024-02-13 11:33:20.946818: I external/local_xla/xla/stream_executor/cuda/cuda_executor.cc:901] successful NUMA node read from SysFS had negative value (-1), but there must be at least one NUMA node, so returning NUMA node zero. See more at https://github.com/torvalds/linux/blob/v6.0/Documentation/ABI/testing/sysfs-bus-pci#L344-L355\n",
      "2024-02-13 11:33:20.947004: I external/local_xla/xla/stream_executor/cuda/cuda_executor.cc:901] successful NUMA node read from SysFS had negative value (-1), but there must be at least one NUMA node, so returning NUMA node zero. See more at https://github.com/torvalds/linux/blob/v6.0/Documentation/ABI/testing/sysfs-bus-pci#L344-L355\n",
      "2024-02-13 11:33:20.948227: I external/local_xla/xla/stream_executor/cuda/cuda_executor.cc:901] successful NUMA node read from SysFS had negative value (-1), but there must be at least one NUMA node, so returning NUMA node zero. See more at https://github.com/torvalds/linux/blob/v6.0/Documentation/ABI/testing/sysfs-bus-pci#L344-L355\n",
      "2024-02-13 11:33:20.948383: I external/local_xla/xla/stream_executor/cuda/cuda_executor.cc:901] successful NUMA node read from SysFS had negative value (-1), but there must be at least one NUMA node, so returning NUMA node zero. See more at https://github.com/torvalds/linux/blob/v6.0/Documentation/ABI/testing/sysfs-bus-pci#L344-L355\n",
      "2024-02-13 11:33:20.948525: I external/local_xla/xla/stream_executor/cuda/cuda_executor.cc:901] successful NUMA node read from SysFS had negative value (-1), but there must be at least one NUMA node, so returning NUMA node zero. See more at https://github.com/torvalds/linux/blob/v6.0/Documentation/ABI/testing/sysfs-bus-pci#L344-L355\n",
      "2024-02-13 11:33:21.007642: I external/local_xla/xla/stream_executor/cuda/cuda_executor.cc:901] successful NUMA node read from SysFS had negative value (-1), but there must be at least one NUMA node, so returning NUMA node zero. See more at https://github.com/torvalds/linux/blob/v6.0/Documentation/ABI/testing/sysfs-bus-pci#L344-L355\n",
      "2024-02-13 11:33:21.007814: I external/local_xla/xla/stream_executor/cuda/cuda_executor.cc:901] successful NUMA node read from SysFS had negative value (-1), but there must be at least one NUMA node, so returning NUMA node zero. See more at https://github.com/torvalds/linux/blob/v6.0/Documentation/ABI/testing/sysfs-bus-pci#L344-L355\n",
      "2024-02-13 11:33:21.007966: I external/local_xla/xla/stream_executor/cuda/cuda_executor.cc:901] successful NUMA node read from SysFS had negative value (-1), but there must be at least one NUMA node, so returning NUMA node zero. See more at https://github.com/torvalds/linux/blob/v6.0/Documentation/ABI/testing/sysfs-bus-pci#L344-L355\n",
      "2024-02-13 11:33:21.008086: I tensorflow/core/common_runtime/gpu/gpu_device.cc:1929] Created device /job:localhost/replica:0/task:0/device:GPU:0 with 9701 MB memory:  -> device: 0, name: NVIDIA GeForce RTX 3080, pci bus id: 0000:08:00.0, compute capability: 8.6\n"
     ]
    }
   ],
   "source": [
    "from tensorflow.keras import layers\n",
    "\n",
    "network = tf.keras.models.Sequential()\n",
    "network.add(layers.Dense(512, activation='relu', input_shape=(28 * 28,)))\n",
    "network.add(layers.Dense(10, activation='softmax'))"
   ]
  },
  {
   "cell_type": "code",
   "execution_count": 14,
   "metadata": {},
   "outputs": [],
   "source": [
    "network.compile(optimizer='rmsprop',\n",
    "                loss='categorical_crossentropy',\n",
    "                metrics=['accuracy'])"
   ]
  },
  {
   "cell_type": "code",
   "execution_count": 15,
   "metadata": {},
   "outputs": [
    {
     "name": "stdout",
     "output_type": "stream",
     "text": [
      "Epoch 1/5\n"
     ]
    },
    {
     "name": "stderr",
     "output_type": "stream",
     "text": [
      "2024-02-13 11:33:21.763857: I external/local_tsl/tsl/platform/default/subprocess.cc:304] Start cannot spawn child process: No such file or directory\n",
      "2024-02-13 11:33:21.829670: I external/local_xla/xla/service/service.cc:168] XLA service 0x741de140d130 initialized for platform CUDA (this does not guarantee that XLA will be used). Devices:\n",
      "2024-02-13 11:33:21.829686: I external/local_xla/xla/service/service.cc:176]   StreamExecutor device (0): NVIDIA GeForce RTX 3080, Compute Capability 8.6\n",
      "2024-02-13 11:33:21.833493: I tensorflow/compiler/mlir/tensorflow/utils/dump_mlir_util.cc:269] disabling MLIR crash reproducer, set env var `MLIR_CRASH_REPRODUCER_DIRECTORY` to enable.\n",
      "2024-02-13 11:33:21.841847: I external/local_xla/xla/stream_executor/cuda/cuda_dnn.cc:454] Loaded cuDNN version 8904\n",
      "WARNING: All log messages before absl::InitializeLog() is called are written to STDERR\n",
      "I0000 00:00:1707842001.882736  141273 device_compiler.h:186] Compiled cluster using XLA!  This line is logged at most once for the lifetime of the process.\n"
     ]
    },
    {
     "name": "stdout",
     "output_type": "stream",
     "text": [
      "469/469 [==============================] - 1s 2ms/step - loss: 0.2653 - accuracy: 0.9247\n",
      "Epoch 2/5\n",
      "469/469 [==============================] - 1s 2ms/step - loss: 0.1071 - accuracy: 0.9687\n",
      "Epoch 3/5\n",
      "469/469 [==============================] - 1s 2ms/step - loss: 0.0709 - accuracy: 0.9787\n",
      "Epoch 4/5\n",
      "469/469 [==============================] - 1s 2ms/step - loss: 0.0512 - accuracy: 0.9849\n",
      "Epoch 5/5\n",
      "469/469 [==============================] - 1s 2ms/step - loss: 0.0386 - accuracy: 0.9883\n"
     ]
    },
    {
     "data": {
      "text/plain": [
       "<keras.src.callbacks.History at 0x741f0a290890>"
      ]
     },
     "execution_count": 15,
     "metadata": {},
     "output_type": "execute_result"
    }
   ],
   "source": [
    "from tensorflow.keras.utils import to_categorical\n",
    "train_labels_one_hot = to_categorical(train_labels, num_classes=10)\n",
    "network.fit(train_images, train_labels_one_hot, epochs=5, batch_size=128)"
   ]
  }
 ],
 "metadata": {
  "kernelspec": {
   "display_name": "w207_applied_machine_learning",
   "language": "python",
   "name": "python3"
  },
  "language_info": {
   "codemirror_mode": {
    "name": "ipython",
    "version": 3
   },
   "file_extension": ".py",
   "mimetype": "text/x-python",
   "name": "python",
   "nbconvert_exporter": "python",
   "pygments_lexer": "ipython3",
   "version": "3.11.1"
  }
 },
 "nbformat": 4,
 "nbformat_minor": 2
}
