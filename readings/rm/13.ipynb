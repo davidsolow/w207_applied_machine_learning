{
 "cells": [
  {
   "cell_type": "code",
   "execution_count": 1,
   "metadata": {},
   "outputs": [
    {
     "name": "stderr",
     "output_type": "stream",
     "text": [
      "2024-02-13 16:41:59.663674: E external/local_xla/xla/stream_executor/cuda/cuda_dnn.cc:9261] Unable to register cuDNN factory: Attempting to register factory for plugin cuDNN when one has already been registered\n",
      "2024-02-13 16:41:59.663703: E external/local_xla/xla/stream_executor/cuda/cuda_fft.cc:607] Unable to register cuFFT factory: Attempting to register factory for plugin cuFFT when one has already been registered\n",
      "2024-02-13 16:41:59.664569: E external/local_xla/xla/stream_executor/cuda/cuda_blas.cc:1515] Unable to register cuBLAS factory: Attempting to register factory for plugin cuBLAS when one has already been registered\n",
      "2024-02-13 16:41:59.669269: I tensorflow/core/platform/cpu_feature_guard.cc:182] This TensorFlow binary is optimized to use available CPU instructions in performance-critical operations.\n",
      "To enable the following instructions: AVX2 FMA, in other operations, rebuild TensorFlow with the appropriate compiler flags.\n",
      "2024-02-13 16:42:00.271679: W tensorflow/compiler/tf2tensorrt/utils/py_utils.cc:38] TF-TRT Warning: Could not find TensorRT\n"
     ]
    }
   ],
   "source": [
    "import tensorflow as tf\n",
    "mnist = tf.keras.datasets.mnist\n",
    "(X_train, y_train), (X_test, y_test) = mnist.load_data()\n",
    "\n",
    "X_train = X_train.reshape((60000, 28 * 28))\n",
    "X_train = X_train.astype('float32') / 255\n",
    "X_test = X_test.reshape((10000, 28 *28))\n",
    "X_test = X_test.astype('float32') / 255"
   ]
  },
  {
   "cell_type": "code",
   "execution_count": 2,
   "metadata": {},
   "outputs": [
    {
     "name": "stdout",
     "output_type": "stream",
     "text": [
      "First 3 labels:  [5 0 4]\n"
     ]
    }
   ],
   "source": [
    "print('First 3 labels: ', y_train[:3])"
   ]
  },
  {
   "cell_type": "code",
   "execution_count": 3,
   "metadata": {},
   "outputs": [
    {
     "name": "stdout",
     "output_type": "stream",
     "text": [
      "\n",
      "First 3 labels (one-hot):\n",
      " [[0. 0. 0. 0. 0. 1. 0. 0. 0. 0.]\n",
      " [1. 0. 0. 0. 0. 0. 0. 0. 0. 0.]\n",
      " [0. 0. 0. 0. 1. 0. 0. 0. 0. 0.]]\n"
     ]
    }
   ],
   "source": [
    "y_train_ohe = tf.keras.utils.to_categorical(y_train)\n",
    "print('\\nFirst 3 labels (one-hot):\\n', y_train_ohe[:3])"
   ]
  },
  {
   "cell_type": "code",
   "execution_count": 4,
   "metadata": {},
   "outputs": [
    {
     "name": "stderr",
     "output_type": "stream",
     "text": [
      "2024-02-13 16:42:01.229555: I external/local_xla/xla/stream_executor/cuda/cuda_executor.cc:901] successful NUMA node read from SysFS had negative value (-1), but there must be at least one NUMA node, so returning NUMA node zero. See more at https://github.com/torvalds/linux/blob/v6.0/Documentation/ABI/testing/sysfs-bus-pci#L344-L355\n",
      "2024-02-13 16:42:01.262375: I external/local_xla/xla/stream_executor/cuda/cuda_executor.cc:901] successful NUMA node read from SysFS had negative value (-1), but there must be at least one NUMA node, so returning NUMA node zero. See more at https://github.com/torvalds/linux/blob/v6.0/Documentation/ABI/testing/sysfs-bus-pci#L344-L355\n",
      "2024-02-13 16:42:01.262563: I external/local_xla/xla/stream_executor/cuda/cuda_executor.cc:901] successful NUMA node read from SysFS had negative value (-1), but there must be at least one NUMA node, so returning NUMA node zero. See more at https://github.com/torvalds/linux/blob/v6.0/Documentation/ABI/testing/sysfs-bus-pci#L344-L355\n",
      "2024-02-13 16:42:01.263835: I external/local_xla/xla/stream_executor/cuda/cuda_executor.cc:901] successful NUMA node read from SysFS had negative value (-1), but there must be at least one NUMA node, so returning NUMA node zero. See more at https://github.com/torvalds/linux/blob/v6.0/Documentation/ABI/testing/sysfs-bus-pci#L344-L355\n",
      "2024-02-13 16:42:01.263991: I external/local_xla/xla/stream_executor/cuda/cuda_executor.cc:901] successful NUMA node read from SysFS had negative value (-1), but there must be at least one NUMA node, so returning NUMA node zero. See more at https://github.com/torvalds/linux/blob/v6.0/Documentation/ABI/testing/sysfs-bus-pci#L344-L355\n",
      "2024-02-13 16:42:01.264131: I external/local_xla/xla/stream_executor/cuda/cuda_executor.cc:901] successful NUMA node read from SysFS had negative value (-1), but there must be at least one NUMA node, so returning NUMA node zero. See more at https://github.com/torvalds/linux/blob/v6.0/Documentation/ABI/testing/sysfs-bus-pci#L344-L355\n",
      "2024-02-13 16:42:01.331776: I external/local_xla/xla/stream_executor/cuda/cuda_executor.cc:901] successful NUMA node read from SysFS had negative value (-1), but there must be at least one NUMA node, so returning NUMA node zero. See more at https://github.com/torvalds/linux/blob/v6.0/Documentation/ABI/testing/sysfs-bus-pci#L344-L355\n",
      "2024-02-13 16:42:01.331950: I external/local_xla/xla/stream_executor/cuda/cuda_executor.cc:901] successful NUMA node read from SysFS had negative value (-1), but there must be at least one NUMA node, so returning NUMA node zero. See more at https://github.com/torvalds/linux/blob/v6.0/Documentation/ABI/testing/sysfs-bus-pci#L344-L355\n",
      "2024-02-13 16:42:01.332102: I external/local_xla/xla/stream_executor/cuda/cuda_executor.cc:901] successful NUMA node read from SysFS had negative value (-1), but there must be at least one NUMA node, so returning NUMA node zero. See more at https://github.com/torvalds/linux/blob/v6.0/Documentation/ABI/testing/sysfs-bus-pci#L344-L355\n",
      "2024-02-13 16:42:01.332223: I tensorflow/core/common_runtime/gpu/gpu_device.cc:1929] Created device /job:localhost/replica:0/task:0/device:GPU:0 with 9699 MB memory:  -> device: 0, name: NVIDIA GeForce RTX 3080, pci bus id: 0000:08:00.0, compute capability: 8.6\n",
      "2024-02-13 16:42:01.511928: I external/local_tsl/tsl/platform/default/subprocess.cc:304] Start cannot spawn child process: No such file or directory\n"
     ]
    }
   ],
   "source": [
    "from keras.models import Sequential\n",
    "from keras.layers import Dense\n",
    "from keras.optimizers import SGD\n",
    "from keras.optimizers.schedules import ExponentialDecay\n",
    "import numpy as np\n",
    "\n",
    "np.random.seed(42)\n",
    "\n",
    "model = Sequential()\n",
    "model.add(Dense(units=50,\n",
    "                input_dim=X_train.shape[1],\n",
    "                kernel_initializer='uniform',\n",
    "                activation='tanh'))\n",
    "\n",
    "model.add(Dense(units=50,\n",
    "                kernel_initializer='uniform',\n",
    "                activation='tanh'))\n",
    "\n",
    "model.add(Dense(units=y_train_ohe.shape[1],\n",
    "                kernel_initializer='uniform',\n",
    "                activation='softmax'))\n",
    "\n",
    "initial_learning_rate = 0.001\n",
    "lr_schedule = ExponentialDecay(\n",
    "    initial_learning_rate=initial_learning_rate,\n",
    "    decay_steps=100000,\n",
    "    decay_rate=0.96,\n",
    "    staircase=True\n",
    ")\n",
    "\n",
    "sgd = SGD(learning_rate=lr_schedule, momentum=0.9)\n",
    "model.compile(loss='categorical_crossentropy', optimizer=sgd, metrics=['accuracy'])"
   ]
  },
  {
   "cell_type": "code",
   "execution_count": 5,
   "metadata": {},
   "outputs": [
    {
     "name": "stdout",
     "output_type": "stream",
     "text": [
      "Epoch 1/50\n"
     ]
    },
    {
     "name": "stderr",
     "output_type": "stream",
     "text": [
      "2024-02-13 16:42:02.396943: I external/local_xla/xla/service/service.cc:168] XLA service 0x71560f560060 initialized for platform CUDA (this does not guarantee that XLA will be used). Devices:\n",
      "2024-02-13 16:42:02.396960: I external/local_xla/xla/service/service.cc:176]   StreamExecutor device (0): NVIDIA GeForce RTX 3080, Compute Capability 8.6\n",
      "2024-02-13 16:42:02.404733: I external/local_xla/xla/stream_executor/cuda/cuda_dnn.cc:454] Loaded cuDNN version 8904\n",
      "WARNING: All log messages before absl::InitializeLog() is called are written to STDERR\n",
      "I0000 00:00:1707860522.444798  406695 device_compiler.h:186] Compiled cluster using XLA!  This line is logged at most once for the lifetime of the process.\n"
     ]
    },
    {
     "name": "stdout",
     "output_type": "stream",
     "text": [
      "180/180 [==============================] - 1s 3ms/step - loss: 2.2983 - accuracy: 0.1827 - val_loss: 2.2930 - val_accuracy: 0.3302\n",
      "Epoch 2/50\n",
      "180/180 [==============================] - 0s 2ms/step - loss: 2.2868 - accuracy: 0.3699 - val_loss: 2.2791 - val_accuracy: 0.4077\n",
      "Epoch 3/50\n",
      "180/180 [==============================] - 0s 2ms/step - loss: 2.2687 - accuracy: 0.4238 - val_loss: 2.2542 - val_accuracy: 0.4450\n",
      "Epoch 4/50\n",
      "180/180 [==============================] - 0s 2ms/step - loss: 2.2313 - accuracy: 0.4357 - val_loss: 2.1976 - val_accuracy: 0.4625\n",
      "Epoch 5/50\n",
      "180/180 [==============================] - 0s 2ms/step - loss: 2.1404 - accuracy: 0.4369 - val_loss: 2.0579 - val_accuracy: 0.4508\n",
      "Epoch 6/50\n",
      "180/180 [==============================] - 0s 2ms/step - loss: 1.9437 - accuracy: 0.4386 - val_loss: 1.8031 - val_accuracy: 0.4695\n",
      "Epoch 7/50\n",
      "180/180 [==============================] - 0s 2ms/step - loss: 1.6750 - accuracy: 0.4856 - val_loss: 1.5173 - val_accuracy: 0.5365\n",
      "Epoch 8/50\n",
      "180/180 [==============================] - 0s 2ms/step - loss: 1.4185 - accuracy: 0.5549 - val_loss: 1.2719 - val_accuracy: 0.6048\n",
      "Epoch 9/50\n",
      "180/180 [==============================] - 0s 2ms/step - loss: 1.2153 - accuracy: 0.6102 - val_loss: 1.0902 - val_accuracy: 0.6643\n",
      "Epoch 10/50\n",
      "180/180 [==============================] - 0s 2ms/step - loss: 1.0689 - accuracy: 0.6619 - val_loss: 0.9617 - val_accuracy: 0.7117\n",
      "Epoch 11/50\n",
      "180/180 [==============================] - 0s 2ms/step - loss: 0.9652 - accuracy: 0.7051 - val_loss: 0.8686 - val_accuracy: 0.7573\n",
      "Epoch 12/50\n",
      "180/180 [==============================] - 0s 2ms/step - loss: 0.8878 - accuracy: 0.7364 - val_loss: 0.7966 - val_accuracy: 0.7842\n",
      "Epoch 13/50\n",
      "180/180 [==============================] - 0s 2ms/step - loss: 0.8255 - accuracy: 0.7616 - val_loss: 0.7365 - val_accuracy: 0.8025\n",
      "Epoch 14/50\n",
      "180/180 [==============================] - 0s 2ms/step - loss: 0.7720 - accuracy: 0.7812 - val_loss: 0.6840 - val_accuracy: 0.8192\n",
      "Epoch 15/50\n",
      "180/180 [==============================] - 0s 2ms/step - loss: 0.7240 - accuracy: 0.7975 - val_loss: 0.6368 - val_accuracy: 0.8357\n",
      "Epoch 16/50\n",
      "180/180 [==============================] - 0s 2ms/step - loss: 0.6805 - accuracy: 0.8120 - val_loss: 0.5938 - val_accuracy: 0.8513\n",
      "Epoch 17/50\n",
      "180/180 [==============================] - 0s 2ms/step - loss: 0.6406 - accuracy: 0.8242 - val_loss: 0.5555 - val_accuracy: 0.8605\n",
      "Epoch 18/50\n",
      "180/180 [==============================] - 0s 2ms/step - loss: 0.6046 - accuracy: 0.8353 - val_loss: 0.5206 - val_accuracy: 0.8682\n",
      "Epoch 19/50\n",
      "180/180 [==============================] - 0s 2ms/step - loss: 0.5722 - accuracy: 0.8459 - val_loss: 0.4902 - val_accuracy: 0.8753\n",
      "Epoch 20/50\n",
      "180/180 [==============================] - 0s 2ms/step - loss: 0.5434 - accuracy: 0.8548 - val_loss: 0.4638 - val_accuracy: 0.8822\n",
      "Epoch 21/50\n",
      "180/180 [==============================] - 0s 2ms/step - loss: 0.5180 - accuracy: 0.8615 - val_loss: 0.4413 - val_accuracy: 0.8890\n",
      "Epoch 22/50\n",
      "180/180 [==============================] - 0s 2ms/step - loss: 0.4959 - accuracy: 0.8679 - val_loss: 0.4210 - val_accuracy: 0.8928\n",
      "Epoch 23/50\n",
      "180/180 [==============================] - 0s 2ms/step - loss: 0.4764 - accuracy: 0.8725 - val_loss: 0.4038 - val_accuracy: 0.8970\n",
      "Epoch 24/50\n",
      "180/180 [==============================] - 0s 2ms/step - loss: 0.4594 - accuracy: 0.8758 - val_loss: 0.3895 - val_accuracy: 0.9008\n",
      "Epoch 25/50\n",
      "180/180 [==============================] - 0s 2ms/step - loss: 0.4446 - accuracy: 0.8797 - val_loss: 0.3763 - val_accuracy: 0.9023\n",
      "Epoch 26/50\n",
      "180/180 [==============================] - 0s 2ms/step - loss: 0.4314 - accuracy: 0.8832 - val_loss: 0.3647 - val_accuracy: 0.9050\n",
      "Epoch 27/50\n",
      "180/180 [==============================] - 0s 2ms/step - loss: 0.4198 - accuracy: 0.8860 - val_loss: 0.3551 - val_accuracy: 0.9082\n",
      "Epoch 28/50\n",
      "180/180 [==============================] - 0s 2ms/step - loss: 0.4091 - accuracy: 0.8884 - val_loss: 0.3457 - val_accuracy: 0.9110\n",
      "Epoch 29/50\n",
      "180/180 [==============================] - 0s 2ms/step - loss: 0.3996 - accuracy: 0.8909 - val_loss: 0.3374 - val_accuracy: 0.9125\n",
      "Epoch 30/50\n",
      "180/180 [==============================] - 0s 2ms/step - loss: 0.3908 - accuracy: 0.8934 - val_loss: 0.3299 - val_accuracy: 0.9143\n",
      "Epoch 31/50\n",
      "180/180 [==============================] - 0s 2ms/step - loss: 0.3829 - accuracy: 0.8947 - val_loss: 0.3230 - val_accuracy: 0.9155\n",
      "Epoch 32/50\n",
      "180/180 [==============================] - 0s 2ms/step - loss: 0.3755 - accuracy: 0.8969 - val_loss: 0.3165 - val_accuracy: 0.9168\n",
      "Epoch 33/50\n",
      "180/180 [==============================] - 0s 2ms/step - loss: 0.3685 - accuracy: 0.8990 - val_loss: 0.3106 - val_accuracy: 0.9195\n",
      "Epoch 34/50\n",
      "180/180 [==============================] - 0s 2ms/step - loss: 0.3622 - accuracy: 0.9001 - val_loss: 0.3050 - val_accuracy: 0.9195\n",
      "Epoch 35/50\n",
      "180/180 [==============================] - 0s 2ms/step - loss: 0.3560 - accuracy: 0.9017 - val_loss: 0.2999 - val_accuracy: 0.9220\n",
      "Epoch 36/50\n",
      "180/180 [==============================] - 0s 2ms/step - loss: 0.3503 - accuracy: 0.9030 - val_loss: 0.2949 - val_accuracy: 0.9237\n",
      "Epoch 37/50\n",
      "180/180 [==============================] - 0s 2ms/step - loss: 0.3449 - accuracy: 0.9042 - val_loss: 0.2903 - val_accuracy: 0.9242\n",
      "Epoch 38/50\n",
      "180/180 [==============================] - 0s 2ms/step - loss: 0.3398 - accuracy: 0.9054 - val_loss: 0.2858 - val_accuracy: 0.9260\n",
      "Epoch 39/50\n",
      "180/180 [==============================] - 0s 2ms/step - loss: 0.3348 - accuracy: 0.9069 - val_loss: 0.2818 - val_accuracy: 0.9262\n",
      "Epoch 40/50\n",
      "180/180 [==============================] - 0s 2ms/step - loss: 0.3300 - accuracy: 0.9079 - val_loss: 0.2776 - val_accuracy: 0.9278\n",
      "Epoch 41/50\n",
      "180/180 [==============================] - 0s 2ms/step - loss: 0.3254 - accuracy: 0.9092 - val_loss: 0.2735 - val_accuracy: 0.9280\n",
      "Epoch 42/50\n",
      "180/180 [==============================] - 0s 2ms/step - loss: 0.3211 - accuracy: 0.9102 - val_loss: 0.2700 - val_accuracy: 0.9285\n",
      "Epoch 43/50\n",
      "180/180 [==============================] - 0s 2ms/step - loss: 0.3168 - accuracy: 0.9115 - val_loss: 0.2664 - val_accuracy: 0.9288\n",
      "Epoch 44/50\n",
      "180/180 [==============================] - 0s 2ms/step - loss: 0.3127 - accuracy: 0.9125 - val_loss: 0.2629 - val_accuracy: 0.9295\n",
      "Epoch 45/50\n",
      "180/180 [==============================] - 0s 2ms/step - loss: 0.3087 - accuracy: 0.9134 - val_loss: 0.2593 - val_accuracy: 0.9290\n",
      "Epoch 46/50\n",
      "180/180 [==============================] - 0s 2ms/step - loss: 0.3048 - accuracy: 0.9143 - val_loss: 0.2563 - val_accuracy: 0.9307\n",
      "Epoch 47/50\n",
      "180/180 [==============================] - 0s 2ms/step - loss: 0.3011 - accuracy: 0.9158 - val_loss: 0.2527 - val_accuracy: 0.9317\n",
      "Epoch 48/50\n",
      "180/180 [==============================] - 0s 2ms/step - loss: 0.2974 - accuracy: 0.9161 - val_loss: 0.2495 - val_accuracy: 0.9330\n",
      "Epoch 49/50\n",
      "180/180 [==============================] - 0s 2ms/step - loss: 0.2939 - accuracy: 0.9175 - val_loss: 0.2467 - val_accuracy: 0.9338\n",
      "Epoch 50/50\n",
      "180/180 [==============================] - 0s 2ms/step - loss: 0.2904 - accuracy: 0.9184 - val_loss: 0.2434 - val_accuracy: 0.9350\n"
     ]
    },
    {
     "data": {
      "text/plain": [
       "<keras.src.callbacks.History at 0x715745862850>"
      ]
     },
     "execution_count": 5,
     "metadata": {},
     "output_type": "execute_result"
    }
   ],
   "source": [
    "model.fit(X_train,\n",
    "          y_train_ohe,\n",
    "          epochs=50,\n",
    "          batch_size=300,\n",
    "          verbose=1,\n",
    "          validation_split=0.1)"
   ]
  },
  {
   "cell_type": "code",
   "execution_count": 6,
   "metadata": {},
   "outputs": [
    {
     "name": "stdout",
     "output_type": "stream",
     "text": [
      "First 3 predictions:  [3 0 4]\n"
     ]
    }
   ],
   "source": [
    "y_train_pred = np.argmax(model.predict(X_train, verbose=0), axis=1)\n",
    "print('First 3 predictions: ', y_train_pred[:3])"
   ]
  },
  {
   "cell_type": "code",
   "execution_count": 7,
   "metadata": {},
   "outputs": [
    {
     "name": "stdout",
     "output_type": "stream",
     "text": [
      "Training accuracy: 92.06%\n"
     ]
    }
   ],
   "source": [
    "train_acc = np.sum(\n",
    "    y_train == y_train_pred, axis=0) / X_train.shape[0]\n",
    "\n",
    "print('Training accuracy: %.2f%%' % (train_acc * 100))"
   ]
  },
  {
   "cell_type": "code",
   "execution_count": 8,
   "metadata": {},
   "outputs": [
    {
     "name": "stdout",
     "output_type": "stream",
     "text": [
      "Training accuracy: 92.04%\n"
     ]
    }
   ],
   "source": [
    "y_test_pred = np.argmax(model.predict(X_test, verbose=0), axis=1)\n",
    "test_acc = np.sum(\n",
    "    y_test == y_test_pred, axis=0) / X_test.shape[0]\n",
    "\n",
    "print('Training accuracy: %.2f%%' % (test_acc * 100))"
   ]
  }
 ],
 "metadata": {
  "kernelspec": {
   "display_name": "w207_applied_machine_learning",
   "language": "python",
   "name": "python3"
  },
  "language_info": {
   "codemirror_mode": {
    "name": "ipython",
    "version": 3
   },
   "file_extension": ".py",
   "mimetype": "text/x-python",
   "name": "python",
   "nbconvert_exporter": "python",
   "pygments_lexer": "ipython3",
   "version": "3.11.1"
  }
 },
 "nbformat": 4,
 "nbformat_minor": 2
}
