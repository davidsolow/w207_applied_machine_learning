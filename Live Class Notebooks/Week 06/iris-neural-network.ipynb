{
 "cells": [
  {
   "cell_type": "markdown",
   "metadata": {},
   "source": [
    "# Iris Neural Network\n",
    "\n",
    "## Introduction\n",
    "\n",
    "Artifical Neural Networks are quickly becoming one of the most popular and widely used mechanisms in Machine Learning and Data Analysis. In the last number of years, numerous libraries and software has been developed to equip programmers with a set of tools for modeling and analysing data in order to recognise patterns and make predictions using large data sets. In today's age of [Big Data](https://en.wikipedia.org/wiki/Big_data) it is important to try make sense of all of the data we have in society. This could range from social media pattern recognitions from anything to finance and economic trends. The reality is that today we have more data in existence than ever before and it growing at a vast and exponential rate.\n",
    "\n",
    "Artifical Neural Networks aim to mimic and replicate the neurons of a human brain and using the power of the complex mathematical functions allow us to process and model data in such a way that we can form rational assumptions on a given data set.\n",
    "\n",
    "Given the sheer amount of data out there it is important to note that data we may analyse is often subject to human error and may not always hold a valid essense of truth. For the purpose of this example we will take a look at the [Iris Data Set](https://archive.ics.uci.edu/ml/datasets/iris). \n",
    "\n",
    "More information on the data set can be found on the link provided above or on the front page [README of this repository](https://github.com/damiannolan/iris-neural-network).\n",
    "\n",
    "Throughout the notebook we aim to build an Artifical Neural Network capable of making predictions of species of Iris Flowers using [Keras](https://keras.io) - Keras is a high-level neural networks API, written in Python and capable of running on top of [Tensorflow](https://www.tensorflow.org/).\n",
    "\n",
    "So without further ado, lets get started!"
   ]
  },
  {
   "cell_type": "markdown",
   "metadata": {},
   "source": [
    "## Importing the data set"
   ]
  },
  {
   "cell_type": "code",
   "execution_count": 1,
   "metadata": {},
   "outputs": [
    {
     "name": "stderr",
     "output_type": "stream",
     "text": [
      "2024-02-14 20:20:51.520603: E external/local_xla/xla/stream_executor/cuda/cuda_dnn.cc:9261] Unable to register cuDNN factory: Attempting to register factory for plugin cuDNN when one has already been registered\n",
      "2024-02-14 20:20:51.520631: E external/local_xla/xla/stream_executor/cuda/cuda_fft.cc:607] Unable to register cuFFT factory: Attempting to register factory for plugin cuFFT when one has already been registered\n",
      "2024-02-14 20:20:51.521577: E external/local_xla/xla/stream_executor/cuda/cuda_blas.cc:1515] Unable to register cuBLAS factory: Attempting to register factory for plugin cuBLAS when one has already been registered\n",
      "2024-02-14 20:20:51.526512: I tensorflow/core/platform/cpu_feature_guard.cc:182] This TensorFlow binary is optimized to use available CPU instructions in performance-critical operations.\n",
      "To enable the following instructions: AVX2 FMA, in other operations, rebuild TensorFlow with the appropriate compiler flags.\n",
      "2024-02-14 20:20:52.129870: W tensorflow/compiler/tf2tensorrt/utils/py_utils.cc:38] TF-TRT Warning: Could not find TensorRT\n"
     ]
    },
    {
     "data": {
      "text/plain": [
       "[['sepal_length', 'sepal_width', 'petal_length', 'petal_width', 'species'],\n",
       " ['5.1', '3.5', '1.4', '0.2', 'setosa'],\n",
       " ['4.9', '3.0', '1.4', '0.2', 'setosa'],\n",
       " ['4.7', '3.2', '1.3', '0.2', 'setosa'],\n",
       " ['4.6', '3.1', '1.5', '0.2', 'setosa'],\n",
       " ['5.0', '3.6', '1.4', '0.2', 'setosa'],\n",
       " ['5.4', '3.9', '1.7', '0.4', 'setosa'],\n",
       " ['4.6', '3.4', '1.4', '0.3', 'setosa'],\n",
       " ['5.0', '3.4', '1.5', '0.2', 'setosa'],\n",
       " ['4.4', '2.9', '1.4', '0.2', 'setosa'],\n",
       " ['4.9', '3.1', '1.5', '0.1', 'setosa'],\n",
       " ['5.4', '3.7', '1.5', '0.2', 'setosa'],\n",
       " ['4.8', '3.4', '1.6', '0.2', 'setosa'],\n",
       " ['4.8', '3.0', '1.4', '0.1', 'setosa'],\n",
       " ['4.3', '3.0', '1.1', '0.1', 'setosa'],\n",
       " ['5.8', '4.0', '1.2', '0.2', 'setosa'],\n",
       " ['5.7', '4.4', '1.5', '0.4', 'setosa'],\n",
       " ['5.4', '3.9', '1.3', '0.4', 'setosa'],\n",
       " ['5.1', '3.5', '1.4', '0.3', 'setosa'],\n",
       " ['5.7', '3.8', '1.7', '0.3', 'setosa'],\n",
       " ['5.1', '3.8', '1.5', '0.3', 'setosa'],\n",
       " ['5.4', '3.4', '1.7', '0.2', 'setosa'],\n",
       " ['5.1', '3.7', '1.5', '0.4', 'setosa'],\n",
       " ['4.6', '3.6', '1.0', '0.2', 'setosa'],\n",
       " ['5.1', '3.3', '1.7', '0.5', 'setosa'],\n",
       " ['4.8', '3.4', '1.9', '0.2', 'setosa'],\n",
       " ['5.0', '3.0', '1.6', '0.2', 'setosa'],\n",
       " ['5.0', '3.4', '1.6', '0.4', 'setosa'],\n",
       " ['5.2', '3.5', '1.5', '0.2', 'setosa'],\n",
       " ['5.2', '3.4', '1.4', '0.2', 'setosa'],\n",
       " ['4.7', '3.2', '1.6', '0.2', 'setosa'],\n",
       " ['4.8', '3.1', '1.6', '0.2', 'setosa'],\n",
       " ['5.4', '3.4', '1.5', '0.4', 'setosa'],\n",
       " ['5.2', '4.1', '1.5', '0.1', 'setosa'],\n",
       " ['5.5', '4.2', '1.4', '0.2', 'setosa'],\n",
       " ['4.9', '3.1', '1.5', '0.1', 'setosa'],\n",
       " ['5.0', '3.2', '1.2', '0.2', 'setosa'],\n",
       " ['5.5', '3.5', '1.3', '0.2', 'setosa'],\n",
       " ['4.9', '3.1', '1.5', '0.1', 'setosa'],\n",
       " ['4.4', '3.0', '1.3', '0.2', 'setosa'],\n",
       " ['5.1', '3.4', '1.5', '0.2', 'setosa'],\n",
       " ['5.0', '3.5', '1.3', '0.3', 'setosa'],\n",
       " ['4.5', '2.3', '1.3', '0.3', 'setosa'],\n",
       " ['4.4', '3.2', '1.3', '0.2', 'setosa'],\n",
       " ['5.0', '3.5', '1.6', '0.6', 'setosa'],\n",
       " ['5.1', '3.8', '1.9', '0.4', 'setosa'],\n",
       " ['4.8', '3.0', '1.4', '0.3', 'setosa'],\n",
       " ['5.1', '3.8', '1.6', '0.2', 'setosa'],\n",
       " ['4.6', '3.2', '1.4', '0.2', 'setosa'],\n",
       " ['5.3', '3.7', '1.5', '0.2', 'setosa'],\n",
       " ['5.0', '3.3', '1.4', '0.2', 'setosa'],\n",
       " ['7.0', '3.2', '4.7', '1.4', 'versicolor'],\n",
       " ['6.4', '3.2', '4.5', '1.5', 'versicolor'],\n",
       " ['6.9', '3.1', '4.9', '1.5', 'versicolor'],\n",
       " ['5.5', '2.3', '4.0', '1.3', 'versicolor'],\n",
       " ['6.5', '2.8', '4.6', '1.5', 'versicolor'],\n",
       " ['5.7', '2.8', '4.5', '1.3', 'versicolor'],\n",
       " ['6.3', '3.3', '4.7', '1.6', 'versicolor'],\n",
       " ['4.9', '2.4', '3.3', '1.0', 'versicolor'],\n",
       " ['6.6', '2.9', '4.6', '1.3', 'versicolor'],\n",
       " ['5.2', '2.7', '3.9', '1.4', 'versicolor'],\n",
       " ['5.0', '2.0', '3.5', '1.0', 'versicolor'],\n",
       " ['5.9', '3.0', '4.2', '1.5', 'versicolor'],\n",
       " ['6.0', '2.2', '4.0', '1.0', 'versicolor'],\n",
       " ['6.1', '2.9', '4.7', '1.4', 'versicolor'],\n",
       " ['5.6', '2.9', '3.6', '1.3', 'versicolor'],\n",
       " ['6.7', '3.1', '4.4', '1.4', 'versicolor'],\n",
       " ['5.6', '3.0', '4.5', '1.5', 'versicolor'],\n",
       " ['5.8', '2.7', '4.1', '1.0', 'versicolor'],\n",
       " ['6.2', '2.2', '4.5', '1.5', 'versicolor'],\n",
       " ['5.6', '2.5', '3.9', '1.1', 'versicolor'],\n",
       " ['5.9', '3.2', '4.8', '1.8', 'versicolor'],\n",
       " ['6.1', '2.8', '4.0', '1.3', 'versicolor'],\n",
       " ['6.3', '2.5', '4.9', '1.5', 'versicolor'],\n",
       " ['6.1', '2.8', '4.7', '1.2', 'versicolor'],\n",
       " ['6.4', '2.9', '4.3', '1.3', 'versicolor'],\n",
       " ['6.6', '3.0', '4.4', '1.4', 'versicolor'],\n",
       " ['6.8', '2.8', '4.8', '1.4', 'versicolor'],\n",
       " ['6.7', '3.0', '5.0', '1.7', 'versicolor'],\n",
       " ['6.0', '2.9', '4.5', '1.5', 'versicolor'],\n",
       " ['5.7', '2.6', '3.5', '1.0', 'versicolor'],\n",
       " ['5.5', '2.4', '3.8', '1.1', 'versicolor'],\n",
       " ['5.5', '2.4', '3.7', '1.0', 'versicolor'],\n",
       " ['5.8', '2.7', '3.9', '1.2', 'versicolor'],\n",
       " ['6.0', '2.7', '5.1', '1.6', 'versicolor'],\n",
       " ['5.4', '3.0', '4.5', '1.5', 'versicolor'],\n",
       " ['6.0', '3.4', '4.5', '1.6', 'versicolor'],\n",
       " ['6.7', '3.1', '4.7', '1.5', 'versicolor'],\n",
       " ['6.3', '2.3', '4.4', '1.3', 'versicolor'],\n",
       " ['5.6', '3.0', '4.1', '1.3', 'versicolor'],\n",
       " ['5.5', '2.5', '4.0', '1.3', 'versicolor'],\n",
       " ['5.5', '2.6', '4.4', '1.2', 'versicolor'],\n",
       " ['6.1', '3.0', '4.6', '1.4', 'versicolor'],\n",
       " ['5.8', '2.6', '4.0', '1.2', 'versicolor'],\n",
       " ['5.0', '2.3', '3.3', '1.0', 'versicolor'],\n",
       " ['5.6', '2.7', '4.2', '1.3', 'versicolor'],\n",
       " ['5.7', '3.0', '4.2', '1.2', 'versicolor'],\n",
       " ['5.7', '2.9', '4.2', '1.3', 'versicolor'],\n",
       " ['6.2', '2.9', '4.3', '1.3', 'versicolor'],\n",
       " ['5.1', '2.5', '3.0', '1.1', 'versicolor'],\n",
       " ['5.7', '2.8', '4.1', '1.3', 'versicolor'],\n",
       " ['6.3', '3.3', '6.0', '2.5', 'virginica'],\n",
       " ['5.8', '2.7', '5.1', '1.9', 'virginica'],\n",
       " ['7.1', '3.0', '5.9', '2.1', 'virginica'],\n",
       " ['6.3', '2.9', '5.6', '1.8', 'virginica'],\n",
       " ['6.5', '3.0', '5.8', '2.2', 'virginica'],\n",
       " ['7.6', '3.0', '6.6', '2.1', 'virginica'],\n",
       " ['4.9', '2.5', '4.5', '1.7', 'virginica'],\n",
       " ['7.3', '2.9', '6.3', '1.8', 'virginica'],\n",
       " ['6.7', '2.5', '5.8', '1.8', 'virginica'],\n",
       " ['7.2', '3.6', '6.1', '2.5', 'virginica'],\n",
       " ['6.5', '3.2', '5.1', '2.0', 'virginica'],\n",
       " ['6.4', '2.7', '5.3', '1.9', 'virginica'],\n",
       " ['6.8', '3.0', '5.5', '2.1', 'virginica'],\n",
       " ['5.7', '2.5', '5.0', '2.0', 'virginica'],\n",
       " ['5.8', '2.8', '5.1', '2.4', 'virginica'],\n",
       " ['6.4', '3.2', '5.3', '2.3', 'virginica'],\n",
       " ['6.5', '3.0', '5.5', '1.8', 'virginica'],\n",
       " ['7.7', '3.8', '6.7', '2.2', 'virginica'],\n",
       " ['7.7', '2.6', '6.9', '2.3', 'virginica'],\n",
       " ['6.0', '2.2', '5.0', '1.5', 'virginica'],\n",
       " ['6.9', '3.2', '5.7', '2.3', 'virginica'],\n",
       " ['5.6', '2.8', '4.9', '2.0', 'virginica'],\n",
       " ['7.7', '2.8', '6.7', '2.0', 'virginica'],\n",
       " ['6.3', '2.7', '4.9', '1.8', 'virginica'],\n",
       " ['6.7', '3.3', '5.7', '2.1', 'virginica'],\n",
       " ['7.2', '3.2', '6.0', '1.8', 'virginica'],\n",
       " ['6.2', '2.8', '4.8', '1.8', 'virginica'],\n",
       " ['6.1', '3.0', '4.9', '1.8', 'virginica'],\n",
       " ['6.4', '2.8', '5.6', '2.1', 'virginica'],\n",
       " ['7.2', '3.0', '5.8', '1.6', 'virginica'],\n",
       " ['7.4', '2.8', '6.1', '1.9', 'virginica'],\n",
       " ['7.9', '3.8', '6.4', '2.0', 'virginica'],\n",
       " ['6.4', '2.8', '5.6', '2.2', 'virginica'],\n",
       " ['6.3', '2.8', '5.1', '1.5', 'virginica'],\n",
       " ['6.1', '2.6', '5.6', '1.4', 'virginica'],\n",
       " ['7.7', '3.0', '6.1', '2.3', 'virginica'],\n",
       " ['6.3', '3.4', '5.6', '2.4', 'virginica'],\n",
       " ['6.4', '3.1', '5.5', '1.8', 'virginica'],\n",
       " ['6.0', '3.0', '4.8', '1.8', 'virginica'],\n",
       " ['6.9', '3.1', '5.4', '2.1', 'virginica'],\n",
       " ['6.7', '3.1', '5.6', '2.4', 'virginica'],\n",
       " ['6.9', '3.1', '5.1', '2.3', 'virginica'],\n",
       " ['5.8', '2.7', '5.1', '1.9', 'virginica'],\n",
       " ['6.8', '3.2', '5.9', '2.3', 'virginica'],\n",
       " ['6.7', '3.3', '5.7', '2.5', 'virginica'],\n",
       " ['6.7', '3.0', '5.2', '2.3', 'virginica'],\n",
       " ['6.3', '2.5', '5.0', '1.9', 'virginica'],\n",
       " ['6.5', '3.0', '5.2', '2.0', 'virginica'],\n",
       " ['6.2', '3.4', '5.4', '2.3', 'virginica'],\n",
       " ['5.9', '3.0', '5.1', '1.8', 'virginica']]"
      ]
     },
     "metadata": {},
     "output_type": "display_data"
    }
   ],
   "source": [
    "# Reference links:\n",
    "#    Adapted from: https://github.com/emerging-technologies/keras-iris\n",
    "#    Data set pulled from: https://gist.github.com/curran/a08a1080b88344b0c8a7\n",
    "\n",
    "# imports and preliminaries\n",
    "import csv\n",
    "import numpy as np\n",
    "import keras as kr\n",
    "\n",
    "# Load the Iris dataset.\n",
    "iris = list(csv.reader(open('iris-data.csv')))\n",
    "display(iris)"
   ]
  },
  {
   "cell_type": "markdown",
   "metadata": {},
   "source": [
    "## Inputs and Outputs\n",
    "### Data Investigation and Classification\n",
    "\n",
    "Before trying to create a model for our Neural Network we first need to investigate our data and determine what will be the inputs and what will be our outputs. The CSV file provided contains 5 columns with:\n",
    "\n",
    "- Sepal Length\n",
    "- Sepal Width\n",
    "- Petal Length\n",
    "- Petal Width\n",
    "- Species\n",
    "\n",
    "Judging by the fact that we are trying to make predictions we must split our data set into sets of:\n",
    "\n",
    "- Inputs - Numerical data values\n",
    "- Outputs - Classification of Iris Flower species\n",
    "\n",
    "\n",
    "Now that we have the data set loaded we can extract the data we need into appropriate data sets in preparation for training and testing our Model."
   ]
  },
  {
   "cell_type": "code",
   "execution_count": 2,
   "metadata": {},
   "outputs": [],
   "source": [
    "# The inputs are four floats: sepal length, sepal width, petal length, petal width.\n",
    "inputs = np.array(iris)[1:,:4].astype(float)\n",
    "\n",
    "# Outputs are initially individual strings: setosa, versicolor or virginica.\n",
    "outputs = np.array(iris)[1:,4]\n",
    "\n",
    "# Convert the output strings to ints.\n",
    "outputs_vals, outputs_ints = np.unique(outputs, return_inverse=True)"
   ]
  },
  {
   "cell_type": "markdown",
   "metadata": {},
   "source": [
    "## Categorical Classification\n",
    "\n",
    "Here we are using the Keras utility `to_categorical()` to allow us to turn our output categories into binary class matrices. This is often refered to as \"One-Hot\" encoding. This is for use with categorical_crossentropy and classification of our species (setosa, versicolor and virginica). \n",
    "\n",
    "Each Species will be represented as a binary class matrix.\n",
    "\n",
    "- Setosa [1 0 0]\n",
    "- Versicolor [0 1 0]\n",
    "- Virginica [0 0 1]"
   ]
  },
  {
   "cell_type": "code",
   "execution_count": 3,
   "metadata": {},
   "outputs": [],
   "source": [
    "# Encode the category integers as binary categorical vairables.\n",
    "outputs_cats = kr.utils.to_categorical(outputs_ints)"
   ]
  },
  {
   "cell_type": "markdown",
   "metadata": {},
   "source": [
    "## Divide & Conquer \n",
    "### Splitting the data\n",
    "\n",
    "We can now randomly split the data into two sets for:\n",
    "\n",
    "- Training\n",
    "- Testing"
   ]
  },
  {
   "cell_type": "code",
   "execution_count": 4,
   "metadata": {},
   "outputs": [],
   "source": [
    "# Split the input and output data sets into training and test subsets.\n",
    "inds = np.random.permutation(len(inputs))\n",
    "train_inds, test_inds = np.array_split(inds, 2)\n",
    "inputs_train, outputs_train = inputs[train_inds], outputs_cats[train_inds]\n",
    "inputs_test, outputs_test = inputs[test_inds], outputs_cats[test_inds]"
   ]
  },
  {
   "cell_type": "markdown",
   "metadata": {},
   "source": [
    "## Creating a Model\n",
    "\n",
    "Below we can see an example of a how a Neural Network can be visualized. Every Neural Network is made up of these three main consituents.\n",
    "\n",
    "- Input Layer\n",
    "- $x$ number of Hidden Layers\n",
    "- Output Layer\n",
    "\n",
    "![neural_net](img/neural_net.jpeg)\n",
    "\n",
    "### Keras Models\n",
    "\n",
    "Keras offers a very useful and high level API to handle creation of Neural Networks. The [Keras Sequential Model](https://keras.io/getting-started/sequential-model-guide/) is defined as a *linear stack of layers*. This is perfect for what we need to create an Artificial Neural Network consisting of Input, Output and Hidden nodes. We define our Model and add the layers to it.\n",
    "\n",
    "We are trying to create a model that will look somewhat similar to below: \n",
    "\n",
    "![iris_model](img/iris_model.png)"
   ]
  },
  {
   "cell_type": "code",
   "execution_count": 5,
   "metadata": {},
   "outputs": [
    {
     "name": "stderr",
     "output_type": "stream",
     "text": [
      "2024-02-14 20:20:52.913389: I external/local_xla/xla/stream_executor/cuda/cuda_executor.cc:901] successful NUMA node read from SysFS had negative value (-1), but there must be at least one NUMA node, so returning NUMA node zero. See more at https://github.com/torvalds/linux/blob/v6.0/Documentation/ABI/testing/sysfs-bus-pci#L344-L355\n",
      "2024-02-14 20:20:52.947888: I external/local_xla/xla/stream_executor/cuda/cuda_executor.cc:901] successful NUMA node read from SysFS had negative value (-1), but there must be at least one NUMA node, so returning NUMA node zero. See more at https://github.com/torvalds/linux/blob/v6.0/Documentation/ABI/testing/sysfs-bus-pci#L344-L355\n",
      "2024-02-14 20:20:52.948080: I external/local_xla/xla/stream_executor/cuda/cuda_executor.cc:901] successful NUMA node read from SysFS had negative value (-1), but there must be at least one NUMA node, so returning NUMA node zero. See more at https://github.com/torvalds/linux/blob/v6.0/Documentation/ABI/testing/sysfs-bus-pci#L344-L355\n",
      "2024-02-14 20:20:52.949361: I external/local_xla/xla/stream_executor/cuda/cuda_executor.cc:901] successful NUMA node read from SysFS had negative value (-1), but there must be at least one NUMA node, so returning NUMA node zero. See more at https://github.com/torvalds/linux/blob/v6.0/Documentation/ABI/testing/sysfs-bus-pci#L344-L355\n",
      "2024-02-14 20:20:52.949524: I external/local_xla/xla/stream_executor/cuda/cuda_executor.cc:901] successful NUMA node read from SysFS had negative value (-1), but there must be at least one NUMA node, so returning NUMA node zero. See more at https://github.com/torvalds/linux/blob/v6.0/Documentation/ABI/testing/sysfs-bus-pci#L344-L355\n",
      "2024-02-14 20:20:52.949672: I external/local_xla/xla/stream_executor/cuda/cuda_executor.cc:901] successful NUMA node read from SysFS had negative value (-1), but there must be at least one NUMA node, so returning NUMA node zero. See more at https://github.com/torvalds/linux/blob/v6.0/Documentation/ABI/testing/sysfs-bus-pci#L344-L355\n",
      "2024-02-14 20:20:53.014919: I external/local_xla/xla/stream_executor/cuda/cuda_executor.cc:901] successful NUMA node read from SysFS had negative value (-1), but there must be at least one NUMA node, so returning NUMA node zero. See more at https://github.com/torvalds/linux/blob/v6.0/Documentation/ABI/testing/sysfs-bus-pci#L344-L355\n",
      "2024-02-14 20:20:53.015100: I external/local_xla/xla/stream_executor/cuda/cuda_executor.cc:901] successful NUMA node read from SysFS had negative value (-1), but there must be at least one NUMA node, so returning NUMA node zero. See more at https://github.com/torvalds/linux/blob/v6.0/Documentation/ABI/testing/sysfs-bus-pci#L344-L355\n",
      "2024-02-14 20:20:53.015253: I external/local_xla/xla/stream_executor/cuda/cuda_executor.cc:901] successful NUMA node read from SysFS had negative value (-1), but there must be at least one NUMA node, so returning NUMA node zero. See more at https://github.com/torvalds/linux/blob/v6.0/Documentation/ABI/testing/sysfs-bus-pci#L344-L355\n",
      "2024-02-14 20:20:53.015372: I tensorflow/core/common_runtime/gpu/gpu_device.cc:1929] Created device /job:localhost/replica:0/task:0/device:GPU:0 with 9596 MB memory:  -> device: 0, name: NVIDIA GeForce RTX 3080, pci bus id: 0000:08:00.0, compute capability: 8.6\n"
     ]
    }
   ],
   "source": [
    "# Create a neural network.\n",
    "kr.backend.clear_session()\n",
    "model = kr.models.Sequential()\n",
    "\n",
    "# Add an initial layer with 4 input nodes, and a hidden layer with 16 nodes.\n",
    "model.add(kr.layers.Dense(16, input_shape=(4,)))\n",
    "# Apply the sigmoid activation function to that layer.\n",
    "model.add(kr.layers.Activation(\"sigmoid\"))\n",
    "# Add another layer, connected to the layer with 16 nodes, containing three output nodes.\n",
    "model.add(kr.layers.Dense(3))\n",
    "# Use the softmax activation function there.\n",
    "model.add(kr.layers.Activation(\"softmax\"))"
   ]
  },
  {
   "cell_type": "markdown",
   "metadata": {},
   "source": [
    "## Activation Functions\n",
    "\n",
    "An [Activation Function](https://en.wikipedia.org/wiki/Activation_function) in a Neural Network defines the output of a given node given its input or set of inputs. Above we applying two activation functions in separate layers.\n",
    "\n",
    "### Sigmoid\n",
    "A sigmoid function is a mathematical function having an \"S\" shaped curve (sigmoid curve). Often, sigmoid function refers to the special case of the logistic function shown in the first figure and defined by the formula:\n",
    "\n",
    "\n",
    "![sigmoid](img/sigmoid.svg)\n",
    "\n",
    "Below we see a plot of the \"S\" shaped curved or \"Sigmoid Curve\".\n",
    "\n",
    "![curve](img/Logistic-curve.svg.png)\n",
    "\n",
    "It's usage in neural network are:\n",
    "1. Activation function that transform linear inputs to nonlinear outputs.\n",
    "2. Bound output to between 0 and 1 so that it can be interpreted as a probability.\n",
    "3. Make computation easier than arbitrary activation functions.\n",
    "\n",
    "### Softmax\n",
    "\n",
    "[Softmax regression](http://ufldl.stanford.edu/tutorial/supervised/SoftmaxRegression/) (or multinomial logistic regression) is a generalization of logistic regression to the case where we want to handle multiple classes.\n",
    "\n",
    "Softmax regression is defined by the mathematical formula: \n",
    "\n",
    "![softmax](img/softmax.svg)\n",
    "\n",
    "Here are using Softmax to allow us to let our data flow through the hidden layers and essentially end up as one of our defined classes:\n",
    "\n",
    "- Setosa\n",
    "- Versicolor\n",
    "- Virginica\n"
   ]
  },
  {
   "cell_type": "code",
   "execution_count": 6,
   "metadata": {},
   "outputs": [
    {
     "name": "stdout",
     "output_type": "stream",
     "text": [
      "Model: \"sequential\"\n",
      "_________________________________________________________________\n",
      " Layer (type)                Output Shape              Param #   \n",
      "=================================================================\n",
      " dense (Dense)               (None, 16)                80        \n",
      "                                                                 \n",
      " activation (Activation)     (None, 16)                0         \n",
      "                                                                 \n",
      " dense_1 (Dense)             (None, 3)                 51        \n",
      "                                                                 \n",
      " activation_1 (Activation)   (None, 3)                 0         \n",
      "                                                                 \n",
      "=================================================================\n",
      "Total params: 131 (524.00 Byte)\n",
      "Trainable params: 131 (524.00 Byte)\n",
      "Non-trainable params: 0 (0.00 Byte)\n",
      "_________________________________________________________________\n"
     ]
    }
   ],
   "source": [
    "# Display our Model using the summary function\n",
    "model.summary()"
   ]
  },
  {
   "cell_type": "markdown",
   "metadata": {},
   "source": [
    "## Configure the Model for training and fit the training data\n",
    "\n",
    "We configure the Model using the `compile()` function defined in the [Keras Model API](https://keras.io/models/model/).\n",
    "We define an Optimizer, a Loss function and an additional metric - accuracy.\n",
    "\n",
    "So before we can use our Model for we must first train it. Using the training data subset which we extracted before we can now fit it to our Model. \n",
    "\n",
    "The goal here is for the Optimizer to essentially minimize the Loss.\n",
    "\n",
    "We fit the model passing our inputs and our expected outputs and train it across 100 \"Epochs\" or training cycles. On each iteration we improve the improve the accuracy and miniize the loss."
   ]
  },
  {
   "cell_type": "code",
   "execution_count": 7,
   "metadata": {},
   "outputs": [
    {
     "name": "stdout",
     "output_type": "stream",
     "text": [
      "Epoch 1/100\n"
     ]
    },
    {
     "name": "stderr",
     "output_type": "stream",
     "text": [
      "2024-02-14 20:20:53.553336: I external/local_tsl/tsl/platform/default/subprocess.cc:304] Start cannot spawn child process: No such file or directory\n",
      "2024-02-14 20:20:53.603820: I external/local_xla/xla/service/service.cc:168] XLA service 0x7c41815ead10 initialized for platform CUDA (this does not guarantee that XLA will be used). Devices:\n",
      "2024-02-14 20:20:53.603841: I external/local_xla/xla/service/service.cc:176]   StreamExecutor device (0): NVIDIA GeForce RTX 3080, Compute Capability 8.6\n",
      "2024-02-14 20:20:53.608701: I tensorflow/compiler/mlir/tensorflow/utils/dump_mlir_util.cc:269] disabling MLIR crash reproducer, set env var `MLIR_CRASH_REPRODUCER_DIRECTORY` to enable.\n",
      "2024-02-14 20:20:53.621317: I external/local_xla/xla/stream_executor/cuda/cuda_dnn.cc:454] Loaded cuDNN version 8904\n",
      "WARNING: All log messages before absl::InitializeLog() is called are written to STDERR\n",
      "I0000 00:00:1707960053.681204  637601 device_compiler.h:186] Compiled cluster using XLA!  This line is logged at most once for the lifetime of the process.\n"
     ]
    },
    {
     "name": "stdout",
     "output_type": "stream",
     "text": [
      "75/75 [==============================] - 1s 2ms/step - loss: 1.4627 - accuracy: 0.3067\n",
      "Epoch 2/100\n",
      "75/75 [==============================] - 0s 1ms/step - loss: 1.2346 - accuracy: 0.4667\n",
      "Epoch 3/100\n",
      "75/75 [==============================] - 0s 1ms/step - loss: 1.1002 - accuracy: 0.6400\n",
      "Epoch 4/100\n",
      "75/75 [==============================] - 0s 2ms/step - loss: 1.0259 - accuracy: 0.6133\n",
      "Epoch 5/100\n",
      "75/75 [==============================] - 0s 2ms/step - loss: 0.9659 - accuracy: 0.5867\n",
      "Epoch 6/100\n",
      "75/75 [==============================] - 0s 2ms/step - loss: 0.9247 - accuracy: 0.6933\n",
      "Epoch 7/100\n",
      "75/75 [==============================] - 0s 2ms/step - loss: 0.8871 - accuracy: 0.7200\n",
      "Epoch 8/100\n",
      "75/75 [==============================] - 0s 2ms/step - loss: 0.8397 - accuracy: 0.9200\n",
      "Epoch 9/100\n",
      "75/75 [==============================] - 0s 2ms/step - loss: 0.7909 - accuracy: 0.7467\n",
      "Epoch 10/100\n",
      "75/75 [==============================] - 0s 2ms/step - loss: 0.7384 - accuracy: 0.7067\n",
      "Epoch 11/100\n",
      "75/75 [==============================] - 0s 1ms/step - loss: 0.6886 - accuracy: 0.9200\n",
      "Epoch 12/100\n",
      "75/75 [==============================] - 0s 2ms/step - loss: 0.6518 - accuracy: 0.9600\n",
      "Epoch 13/100\n",
      "75/75 [==============================] - 0s 1ms/step - loss: 0.6165 - accuracy: 0.8400\n",
      "Epoch 14/100\n",
      "75/75 [==============================] - 0s 1ms/step - loss: 0.5880 - accuracy: 0.8133\n",
      "Epoch 15/100\n",
      "75/75 [==============================] - 0s 1ms/step - loss: 0.5636 - accuracy: 0.7867\n",
      "Epoch 16/100\n",
      "75/75 [==============================] - 0s 1ms/step - loss: 0.5429 - accuracy: 0.9333\n",
      "Epoch 17/100\n",
      "75/75 [==============================] - 0s 2ms/step - loss: 0.5192 - accuracy: 0.9733\n",
      "Epoch 18/100\n",
      "75/75 [==============================] - 0s 2ms/step - loss: 0.5017 - accuracy: 0.8800\n",
      "Epoch 19/100\n",
      "75/75 [==============================] - 0s 2ms/step - loss: 0.4850 - accuracy: 0.9867\n",
      "Epoch 20/100\n",
      "75/75 [==============================] - 0s 2ms/step - loss: 0.4763 - accuracy: 0.9200\n",
      "Epoch 21/100\n",
      "75/75 [==============================] - 0s 2ms/step - loss: 0.4582 - accuracy: 0.9467\n",
      "Epoch 22/100\n",
      "75/75 [==============================] - 0s 2ms/step - loss: 0.4449 - accuracy: 0.9867\n",
      "Epoch 23/100\n",
      "75/75 [==============================] - 0s 2ms/step - loss: 0.4319 - accuracy: 0.9867\n",
      "Epoch 24/100\n",
      "75/75 [==============================] - 0s 2ms/step - loss: 0.4235 - accuracy: 0.9600\n",
      "Epoch 25/100\n",
      "75/75 [==============================] - 0s 2ms/step - loss: 0.4137 - accuracy: 0.9733\n",
      "Epoch 26/100\n",
      "75/75 [==============================] - 0s 2ms/step - loss: 0.4026 - accuracy: 0.9867\n",
      "Epoch 27/100\n",
      "75/75 [==============================] - 0s 2ms/step - loss: 0.3956 - accuracy: 0.9867\n",
      "Epoch 28/100\n",
      "75/75 [==============================] - 0s 2ms/step - loss: 0.3852 - accuracy: 0.9733\n",
      "Epoch 29/100\n",
      "75/75 [==============================] - 0s 1ms/step - loss: 0.3769 - accuracy: 0.9867\n",
      "Epoch 30/100\n",
      "75/75 [==============================] - 0s 1ms/step - loss: 0.3682 - accuracy: 0.9867\n",
      "Epoch 31/100\n",
      "75/75 [==============================] - 0s 1ms/step - loss: 0.3592 - accuracy: 0.9867\n",
      "Epoch 32/100\n",
      "75/75 [==============================] - 0s 2ms/step - loss: 0.3510 - accuracy: 0.9867\n",
      "Epoch 33/100\n",
      "75/75 [==============================] - 0s 2ms/step - loss: 0.3446 - accuracy: 0.9867\n",
      "Epoch 34/100\n",
      "75/75 [==============================] - 0s 2ms/step - loss: 0.3370 - accuracy: 0.9867\n",
      "Epoch 35/100\n",
      "75/75 [==============================] - 0s 2ms/step - loss: 0.3333 - accuracy: 0.9867\n",
      "Epoch 36/100\n",
      "75/75 [==============================] - 0s 2ms/step - loss: 0.3234 - accuracy: 1.0000\n",
      "Epoch 37/100\n",
      "75/75 [==============================] - 0s 2ms/step - loss: 0.3144 - accuracy: 0.9867\n",
      "Epoch 38/100\n",
      "75/75 [==============================] - 0s 2ms/step - loss: 0.3114 - accuracy: 1.0000\n",
      "Epoch 39/100\n",
      "75/75 [==============================] - 0s 2ms/step - loss: 0.3040 - accuracy: 0.9733\n",
      "Epoch 40/100\n",
      "75/75 [==============================] - 0s 2ms/step - loss: 0.2960 - accuracy: 0.9867\n",
      "Epoch 41/100\n",
      "75/75 [==============================] - 0s 2ms/step - loss: 0.2922 - accuracy: 0.9867\n",
      "Epoch 42/100\n",
      "75/75 [==============================] - 0s 2ms/step - loss: 0.2910 - accuracy: 0.9867\n",
      "Epoch 43/100\n",
      "75/75 [==============================] - 0s 2ms/step - loss: 0.2778 - accuracy: 0.9867\n",
      "Epoch 44/100\n",
      "75/75 [==============================] - 0s 2ms/step - loss: 0.2745 - accuracy: 0.9867\n",
      "Epoch 45/100\n",
      "75/75 [==============================] - 0s 1ms/step - loss: 0.2650 - accuracy: 0.9867\n",
      "Epoch 46/100\n",
      "75/75 [==============================] - 0s 1ms/step - loss: 0.2608 - accuracy: 0.9867\n",
      "Epoch 47/100\n",
      "75/75 [==============================] - 0s 1ms/step - loss: 0.2536 - accuracy: 0.9867\n",
      "Epoch 48/100\n",
      "75/75 [==============================] - 0s 1ms/step - loss: 0.2495 - accuracy: 0.9867\n",
      "Epoch 49/100\n",
      "75/75 [==============================] - 0s 1ms/step - loss: 0.2460 - accuracy: 1.0000\n",
      "Epoch 50/100\n",
      "75/75 [==============================] - 0s 2ms/step - loss: 0.2397 - accuracy: 0.9867\n",
      "Epoch 51/100\n",
      "75/75 [==============================] - 0s 2ms/step - loss: 0.2370 - accuracy: 0.9867\n",
      "Epoch 52/100\n",
      "75/75 [==============================] - 0s 2ms/step - loss: 0.2296 - accuracy: 0.9733\n",
      "Epoch 53/100\n",
      "75/75 [==============================] - 0s 2ms/step - loss: 0.2232 - accuracy: 0.9733\n",
      "Epoch 54/100\n",
      "75/75 [==============================] - 0s 2ms/step - loss: 0.2178 - accuracy: 0.9867\n",
      "Epoch 55/100\n",
      "75/75 [==============================] - 0s 2ms/step - loss: 0.2136 - accuracy: 0.9867\n",
      "Epoch 56/100\n",
      "75/75 [==============================] - 0s 2ms/step - loss: 0.2116 - accuracy: 0.9867\n",
      "Epoch 57/100\n",
      "75/75 [==============================] - 0s 2ms/step - loss: 0.2042 - accuracy: 0.9867\n",
      "Epoch 58/100\n",
      "75/75 [==============================] - 0s 2ms/step - loss: 0.2037 - accuracy: 0.9867\n",
      "Epoch 59/100\n",
      "75/75 [==============================] - 0s 2ms/step - loss: 0.2022 - accuracy: 0.9733\n",
      "Epoch 60/100\n",
      "75/75 [==============================] - 0s 2ms/step - loss: 0.1888 - accuracy: 0.9867\n",
      "Epoch 61/100\n",
      "75/75 [==============================] - 0s 1ms/step - loss: 0.1890 - accuracy: 0.9867\n",
      "Epoch 62/100\n",
      "75/75 [==============================] - 0s 1ms/step - loss: 0.1857 - accuracy: 0.9733\n",
      "Epoch 63/100\n",
      "75/75 [==============================] - 0s 2ms/step - loss: 0.1789 - accuracy: 0.9867\n",
      "Epoch 64/100\n",
      "75/75 [==============================] - 0s 2ms/step - loss: 0.1773 - accuracy: 0.9867\n",
      "Epoch 65/100\n",
      "75/75 [==============================] - 0s 1ms/step - loss: 0.1706 - accuracy: 0.9867\n",
      "Epoch 66/100\n",
      "75/75 [==============================] - 0s 2ms/step - loss: 0.1652 - accuracy: 0.9867\n",
      "Epoch 67/100\n",
      "75/75 [==============================] - 0s 2ms/step - loss: 0.1638 - accuracy: 0.9867\n",
      "Epoch 68/100\n",
      "75/75 [==============================] - 0s 2ms/step - loss: 0.1577 - accuracy: 1.0000\n",
      "Epoch 69/100\n",
      "75/75 [==============================] - 0s 2ms/step - loss: 0.1591 - accuracy: 0.9733\n",
      "Epoch 70/100\n",
      "75/75 [==============================] - 0s 2ms/step - loss: 0.1567 - accuracy: 0.9867\n",
      "Epoch 71/100\n",
      "75/75 [==============================] - 0s 2ms/step - loss: 0.1491 - accuracy: 0.9867\n",
      "Epoch 72/100\n",
      "75/75 [==============================] - 0s 2ms/step - loss: 0.1443 - accuracy: 0.9867\n",
      "Epoch 73/100\n",
      "75/75 [==============================] - 0s 2ms/step - loss: 0.1437 - accuracy: 0.9867\n",
      "Epoch 74/100\n",
      "75/75 [==============================] - 0s 2ms/step - loss: 0.1418 - accuracy: 0.9733\n",
      "Epoch 75/100\n",
      "75/75 [==============================] - 0s 2ms/step - loss: 0.1405 - accuracy: 0.9733\n",
      "Epoch 76/100\n",
      "75/75 [==============================] - 0s 2ms/step - loss: 0.1329 - accuracy: 0.9867\n",
      "Epoch 77/100\n",
      "75/75 [==============================] - 0s 985us/step - loss: 0.1342 - accuracy: 0.9733\n",
      "Epoch 78/100\n",
      "75/75 [==============================] - 0s 1ms/step - loss: 0.1316 - accuracy: 0.9867\n",
      "Epoch 79/100\n",
      "75/75 [==============================] - 0s 1ms/step - loss: 0.1254 - accuracy: 1.0000\n",
      "Epoch 80/100\n",
      "75/75 [==============================] - 0s 2ms/step - loss: 0.1215 - accuracy: 1.0000\n",
      "Epoch 81/100\n",
      "75/75 [==============================] - 0s 2ms/step - loss: 0.1194 - accuracy: 0.9867\n",
      "Epoch 82/100\n",
      "75/75 [==============================] - 0s 2ms/step - loss: 0.1167 - accuracy: 0.9867\n",
      "Epoch 83/100\n",
      "75/75 [==============================] - 0s 1ms/step - loss: 0.1144 - accuracy: 0.9867\n",
      "Epoch 84/100\n",
      "75/75 [==============================] - 0s 1ms/step - loss: 0.1134 - accuracy: 0.9867\n",
      "Epoch 85/100\n",
      "75/75 [==============================] - 0s 1ms/step - loss: 0.1117 - accuracy: 0.9867\n",
      "Epoch 86/100\n",
      "75/75 [==============================] - 0s 1ms/step - loss: 0.1088 - accuracy: 0.9733\n",
      "Epoch 87/100\n",
      "75/75 [==============================] - 0s 2ms/step - loss: 0.1072 - accuracy: 1.0000\n",
      "Epoch 88/100\n",
      "75/75 [==============================] - 0s 2ms/step - loss: 0.1017 - accuracy: 0.9867\n",
      "Epoch 89/100\n",
      "75/75 [==============================] - 0s 2ms/step - loss: 0.1012 - accuracy: 1.0000\n",
      "Epoch 90/100\n",
      "75/75 [==============================] - 0s 2ms/step - loss: 0.0998 - accuracy: 0.9867\n",
      "Epoch 91/100\n",
      "75/75 [==============================] - 0s 2ms/step - loss: 0.0981 - accuracy: 0.9867\n",
      "Epoch 92/100\n",
      "75/75 [==============================] - 0s 2ms/step - loss: 0.0961 - accuracy: 1.0000\n",
      "Epoch 93/100\n",
      "75/75 [==============================] - 0s 2ms/step - loss: 0.0944 - accuracy: 1.0000\n",
      "Epoch 94/100\n",
      "75/75 [==============================] - 0s 1ms/step - loss: 0.0943 - accuracy: 0.9733\n",
      "Epoch 95/100\n",
      "75/75 [==============================] - 0s 1ms/step - loss: 0.0919 - accuracy: 0.9867\n",
      "Epoch 96/100\n",
      "75/75 [==============================] - 0s 1ms/step - loss: 0.0918 - accuracy: 0.9867\n",
      "Epoch 97/100\n",
      "75/75 [==============================] - 0s 1ms/step - loss: 0.0885 - accuracy: 0.9867\n",
      "Epoch 98/100\n",
      "75/75 [==============================] - 0s 2ms/step - loss: 0.0884 - accuracy: 0.9867\n",
      "Epoch 99/100\n",
      "75/75 [==============================] - 0s 2ms/step - loss: 0.0853 - accuracy: 0.9867\n",
      "Epoch 100/100\n",
      "75/75 [==============================] - 0s 2ms/step - loss: 0.0835 - accuracy: 0.9867\n"
     ]
    },
    {
     "data": {
      "text/plain": [
       "<keras.src.callbacks.History at 0x7c42a79ca090>"
      ]
     },
     "execution_count": 7,
     "metadata": {},
     "output_type": "execute_result"
    }
   ],
   "source": [
    "# Configure the model for training.\n",
    "# Uses the adam optimizer and categorical cross entropy as the loss function.\n",
    "# Add in some extra metrics - accuracy being the only one.\n",
    "model.compile(optimizer=\"adam\", loss=\"categorical_crossentropy\", metrics=[\"accuracy\"])\n",
    "\n",
    "# Fit the model using our training data.\n",
    "model.fit(inputs_train, outputs_train, epochs=100, batch_size=1, verbose=1)"
   ]
  },
  {
   "cell_type": "markdown",
   "metadata": {},
   "source": [
    "## Evaluate the Loss and Accuracy of the Model"
   ]
  },
  {
   "cell_type": "markdown",
   "metadata": {},
   "source": [
    "Now that we have trained our Model we can evalate it using the test data which we extracted before. Using `evaluate()` we expect our return values of loss and accuracy for our given Test set."
   ]
  },
  {
   "cell_type": "code",
   "execution_count": 8,
   "metadata": {},
   "outputs": [
    {
     "name": "stdout",
     "output_type": "stream",
     "text": [
      "3/3 [==============================] - 0s 3ms/step - loss: 0.1462 - accuracy: 0.9467\n",
      "\n",
      "\n",
      "Loss: 0.1462\tAccuracy: 0.9467\n"
     ]
    }
   ],
   "source": [
    "# Evaluate the model using the test data set.\n",
    "loss, accuracy = model.evaluate(inputs_test, outputs_test, verbose=1)\n",
    "\n",
    "# Output the accuracy of the model.\n",
    "print(\"\\n\\nLoss: %6.4f\\tAccuracy: %6.4f\" % (loss, accuracy))"
   ]
  },
  {
   "cell_type": "markdown",
   "metadata": {},
   "source": [
    "## Making predictions using the Model\n",
    "\n",
    "To make predictions using our Model we must first prepare the input data to be what the model expects. Here we use a couple of Numpy functions such as `around()` and `expand_dims()` to prepare the input data for prediction.\n",
    "\n",
    "We can then pass get our prediction as a String value from `outputs_vals` which defined earlier in the Notebook."
   ]
  },
  {
   "cell_type": "code",
   "execution_count": 9,
   "metadata": {},
   "outputs": [
    {
     "name": "stdout",
     "output_type": "stream",
     "text": [
      "1/1 [==============================] - 0s 37ms/step\n",
      "Actual: [0 0 1]\tEstimated: [0 0 1]\n",
      "That means it's a virginica\n"
     ]
    }
   ],
   "source": [
    "# Predict the class of a single flower.\n",
    "prediction = np.around(model.predict(np.expand_dims(inputs_test[0], axis=0))).astype(int)[0]\n",
    "\n",
    "print(\"Actual: %s\\tEstimated: %s\" % (outputs_test[0].astype(int), prediction))\n",
    "print(\"That means it's a %s\" % outputs_vals[prediction.astype(bool)][0])\n",
    "\n"
   ]
  },
  {
   "cell_type": "markdown",
   "metadata": {},
   "source": [
    "## Saving and Loading the Model"
   ]
  },
  {
   "cell_type": "markdown",
   "metadata": {},
   "source": [
    "Keras offers a very simplistic way to save and load your model."
   ]
  },
  {
   "cell_type": "code",
   "execution_count": 10,
   "metadata": {},
   "outputs": [
    {
     "name": "stderr",
     "output_type": "stream",
     "text": [
      "/home/davidsolow/.pyenv/versions/3.11.1/envs/w207_applied_machine_learning/lib/python3.11/site-packages/keras/src/engine/training.py:3103: UserWarning: You are saving your model as an HDF5 file via `model.save()`. This file format is considered legacy. We recommend using instead the native Keras format, e.g. `model.save('my_model.keras')`.\n",
      "  saving_api.save_model(\n"
     ]
    }
   ],
   "source": [
    "# Save the model to a file for later use.\n",
    "model.save(\"iris_neural_network.h5\")"
   ]
  },
  {
   "cell_type": "markdown",
   "metadata": {},
   "source": [
    "We can easily reload the model in another script using `model = load_model(\"path_to_model.h5\")`"
   ]
  }
 ],
 "metadata": {
  "kernelspec": {
   "display_name": "Python 3",
   "language": "python",
   "name": "python3"
  },
  "language_info": {
   "codemirror_mode": {
    "name": "ipython",
    "version": 3
   },
   "file_extension": ".py",
   "mimetype": "text/x-python",
   "name": "python",
   "nbconvert_exporter": "python",
   "pygments_lexer": "ipython3",
   "version": "3.11.1"
  }
 },
 "nbformat": 4,
 "nbformat_minor": 2
}
